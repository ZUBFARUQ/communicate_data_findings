{
 "cells": [
  {
   "cell_type": "markdown",
   "metadata": {},
   "source": [
    "# Part I - Loan Data from Prosper\n",
    "## by Umar Faruq Zubairu\n",
    "\n",
    "## Introduction\n",
    "> This data set contains 113,937 loans with 81 variables on each loan, including loan amount, borrower rate (or interest rate), current loan status, borrower income, and many others"
   ]
  },
  {
   "cell_type": "markdown",
   "metadata": {},
   "source": [
    "## Preliminary Wrangling"
   ]
  },
  {
   "cell_type": "code",
   "execution_count": 6,
   "metadata": {},
   "outputs": [],
   "source": [
    "# import all packages and set plots to be embedded inline\n",
    "import numpy as np\n",
    "import pandas as pd\n",
    "import matplotlib.pyplot as plt\n",
    "import seaborn as sb\n",
    "\n",
    "%matplotlib inline"
   ]
  },
  {
   "cell_type": "markdown",
   "metadata": {},
   "source": [
    "> Loading my dataset and describing its properties through the questions below."
   ]
  },
  {
   "cell_type": "code",
   "execution_count": 2,
   "metadata": {},
   "outputs": [],
   "source": [
    "#Load the data into a dataframe\n",
    "loan_df=pd.read_csv('prosperLoanData.csv')"
   ]
  },
  {
   "cell_type": "code",
   "execution_count": 3,
   "metadata": {},
   "outputs": [
    {
     "data": {
      "text/plain": [
       "(113937, 81)"
      ]
     },
     "execution_count": 3,
     "metadata": {},
     "output_type": "execute_result"
    }
   ],
   "source": [
    "#Checking the shape of my dataset\n",
    "loan_df.shape"
   ]
  },
  {
   "cell_type": "code",
   "execution_count": 4,
   "metadata": {},
   "outputs": [
    {
     "data": {
      "text/html": [
       "<div>\n",
       "<style scoped>\n",
       "    .dataframe tbody tr th:only-of-type {\n",
       "        vertical-align: middle;\n",
       "    }\n",
       "\n",
       "    .dataframe tbody tr th {\n",
       "        vertical-align: top;\n",
       "    }\n",
       "\n",
       "    .dataframe thead th {\n",
       "        text-align: right;\n",
       "    }\n",
       "</style>\n",
       "<table border=\"1\" class=\"dataframe\">\n",
       "  <thead>\n",
       "    <tr style=\"text-align: right;\">\n",
       "      <th></th>\n",
       "      <th>ListingKey</th>\n",
       "      <th>ListingNumber</th>\n",
       "      <th>ListingCreationDate</th>\n",
       "      <th>CreditGrade</th>\n",
       "      <th>Term</th>\n",
       "      <th>LoanStatus</th>\n",
       "      <th>ClosedDate</th>\n",
       "      <th>BorrowerAPR</th>\n",
       "      <th>BorrowerRate</th>\n",
       "      <th>LenderYield</th>\n",
       "      <th>...</th>\n",
       "      <th>LP_ServiceFees</th>\n",
       "      <th>LP_CollectionFees</th>\n",
       "      <th>LP_GrossPrincipalLoss</th>\n",
       "      <th>LP_NetPrincipalLoss</th>\n",
       "      <th>LP_NonPrincipalRecoverypayments</th>\n",
       "      <th>PercentFunded</th>\n",
       "      <th>Recommendations</th>\n",
       "      <th>InvestmentFromFriendsCount</th>\n",
       "      <th>InvestmentFromFriendsAmount</th>\n",
       "      <th>Investors</th>\n",
       "    </tr>\n",
       "  </thead>\n",
       "  <tbody>\n",
       "    <tr>\n",
       "      <th>0</th>\n",
       "      <td>1021339766868145413AB3B</td>\n",
       "      <td>193129</td>\n",
       "      <td>2007-08-26 19:09:29.263000000</td>\n",
       "      <td>C</td>\n",
       "      <td>36</td>\n",
       "      <td>Completed</td>\n",
       "      <td>2009-08-14 00:00:00</td>\n",
       "      <td>0.16516</td>\n",
       "      <td>0.1580</td>\n",
       "      <td>0.1380</td>\n",
       "      <td>...</td>\n",
       "      <td>-133.18</td>\n",
       "      <td>0.0</td>\n",
       "      <td>0.0</td>\n",
       "      <td>0.0</td>\n",
       "      <td>0.0</td>\n",
       "      <td>1.0</td>\n",
       "      <td>0</td>\n",
       "      <td>0</td>\n",
       "      <td>0.0</td>\n",
       "      <td>258</td>\n",
       "    </tr>\n",
       "    <tr>\n",
       "      <th>1</th>\n",
       "      <td>10273602499503308B223C1</td>\n",
       "      <td>1209647</td>\n",
       "      <td>2014-02-27 08:28:07.900000000</td>\n",
       "      <td>NaN</td>\n",
       "      <td>36</td>\n",
       "      <td>Current</td>\n",
       "      <td>NaN</td>\n",
       "      <td>0.12016</td>\n",
       "      <td>0.0920</td>\n",
       "      <td>0.0820</td>\n",
       "      <td>...</td>\n",
       "      <td>0.00</td>\n",
       "      <td>0.0</td>\n",
       "      <td>0.0</td>\n",
       "      <td>0.0</td>\n",
       "      <td>0.0</td>\n",
       "      <td>1.0</td>\n",
       "      <td>0</td>\n",
       "      <td>0</td>\n",
       "      <td>0.0</td>\n",
       "      <td>1</td>\n",
       "    </tr>\n",
       "    <tr>\n",
       "      <th>2</th>\n",
       "      <td>0EE9337825851032864889A</td>\n",
       "      <td>81716</td>\n",
       "      <td>2007-01-05 15:00:47.090000000</td>\n",
       "      <td>HR</td>\n",
       "      <td>36</td>\n",
       "      <td>Completed</td>\n",
       "      <td>2009-12-17 00:00:00</td>\n",
       "      <td>0.28269</td>\n",
       "      <td>0.2750</td>\n",
       "      <td>0.2400</td>\n",
       "      <td>...</td>\n",
       "      <td>-24.20</td>\n",
       "      <td>0.0</td>\n",
       "      <td>0.0</td>\n",
       "      <td>0.0</td>\n",
       "      <td>0.0</td>\n",
       "      <td>1.0</td>\n",
       "      <td>0</td>\n",
       "      <td>0</td>\n",
       "      <td>0.0</td>\n",
       "      <td>41</td>\n",
       "    </tr>\n",
       "    <tr>\n",
       "      <th>3</th>\n",
       "      <td>0EF5356002482715299901A</td>\n",
       "      <td>658116</td>\n",
       "      <td>2012-10-22 11:02:35.010000000</td>\n",
       "      <td>NaN</td>\n",
       "      <td>36</td>\n",
       "      <td>Current</td>\n",
       "      <td>NaN</td>\n",
       "      <td>0.12528</td>\n",
       "      <td>0.0974</td>\n",
       "      <td>0.0874</td>\n",
       "      <td>...</td>\n",
       "      <td>-108.01</td>\n",
       "      <td>0.0</td>\n",
       "      <td>0.0</td>\n",
       "      <td>0.0</td>\n",
       "      <td>0.0</td>\n",
       "      <td>1.0</td>\n",
       "      <td>0</td>\n",
       "      <td>0</td>\n",
       "      <td>0.0</td>\n",
       "      <td>158</td>\n",
       "    </tr>\n",
       "    <tr>\n",
       "      <th>4</th>\n",
       "      <td>0F023589499656230C5E3E2</td>\n",
       "      <td>909464</td>\n",
       "      <td>2013-09-14 18:38:39.097000000</td>\n",
       "      <td>NaN</td>\n",
       "      <td>36</td>\n",
       "      <td>Current</td>\n",
       "      <td>NaN</td>\n",
       "      <td>0.24614</td>\n",
       "      <td>0.2085</td>\n",
       "      <td>0.1985</td>\n",
       "      <td>...</td>\n",
       "      <td>-60.27</td>\n",
       "      <td>0.0</td>\n",
       "      <td>0.0</td>\n",
       "      <td>0.0</td>\n",
       "      <td>0.0</td>\n",
       "      <td>1.0</td>\n",
       "      <td>0</td>\n",
       "      <td>0</td>\n",
       "      <td>0.0</td>\n",
       "      <td>20</td>\n",
       "    </tr>\n",
       "  </tbody>\n",
       "</table>\n",
       "<p>5 rows × 81 columns</p>\n",
       "</div>"
      ],
      "text/plain": [
       "                ListingKey  ListingNumber            ListingCreationDate  \\\n",
       "0  1021339766868145413AB3B         193129  2007-08-26 19:09:29.263000000   \n",
       "1  10273602499503308B223C1        1209647  2014-02-27 08:28:07.900000000   \n",
       "2  0EE9337825851032864889A          81716  2007-01-05 15:00:47.090000000   \n",
       "3  0EF5356002482715299901A         658116  2012-10-22 11:02:35.010000000   \n",
       "4  0F023589499656230C5E3E2         909464  2013-09-14 18:38:39.097000000   \n",
       "\n",
       "  CreditGrade  Term LoanStatus           ClosedDate  BorrowerAPR  \\\n",
       "0           C    36  Completed  2009-08-14 00:00:00      0.16516   \n",
       "1         NaN    36    Current                  NaN      0.12016   \n",
       "2          HR    36  Completed  2009-12-17 00:00:00      0.28269   \n",
       "3         NaN    36    Current                  NaN      0.12528   \n",
       "4         NaN    36    Current                  NaN      0.24614   \n",
       "\n",
       "   BorrowerRate  LenderYield  ...  LP_ServiceFees  LP_CollectionFees  \\\n",
       "0        0.1580       0.1380  ...         -133.18                0.0   \n",
       "1        0.0920       0.0820  ...            0.00                0.0   \n",
       "2        0.2750       0.2400  ...          -24.20                0.0   \n",
       "3        0.0974       0.0874  ...         -108.01                0.0   \n",
       "4        0.2085       0.1985  ...          -60.27                0.0   \n",
       "\n",
       "   LP_GrossPrincipalLoss  LP_NetPrincipalLoss LP_NonPrincipalRecoverypayments  \\\n",
       "0                    0.0                  0.0                             0.0   \n",
       "1                    0.0                  0.0                             0.0   \n",
       "2                    0.0                  0.0                             0.0   \n",
       "3                    0.0                  0.0                             0.0   \n",
       "4                    0.0                  0.0                             0.0   \n",
       "\n",
       "   PercentFunded  Recommendations InvestmentFromFriendsCount  \\\n",
       "0            1.0                0                          0   \n",
       "1            1.0                0                          0   \n",
       "2            1.0                0                          0   \n",
       "3            1.0                0                          0   \n",
       "4            1.0                0                          0   \n",
       "\n",
       "  InvestmentFromFriendsAmount Investors  \n",
       "0                         0.0       258  \n",
       "1                         0.0         1  \n",
       "2                         0.0        41  \n",
       "3                         0.0       158  \n",
       "4                         0.0        20  \n",
       "\n",
       "[5 rows x 81 columns]"
      ]
     },
     "execution_count": 4,
     "metadata": {},
     "output_type": "execute_result"
    }
   ],
   "source": [
    "#Display the first five records from the dataset\n",
    "loan_df.head()"
   ]
  },
  {
   "cell_type": "code",
   "execution_count": 7,
   "metadata": {},
   "outputs": [
    {
     "name": "stdout",
     "output_type": "stream",
     "text": [
      "<class 'pandas.core.frame.DataFrame'>\n",
      "RangeIndex: 113937 entries, 0 to 113936\n",
      "Data columns (total 81 columns):\n",
      " #   Column                               Non-Null Count   Dtype  \n",
      "---  ------                               --------------   -----  \n",
      " 0   ListingKey                           113937 non-null  object \n",
      " 1   ListingNumber                        113937 non-null  int64  \n",
      " 2   ListingCreationDate                  113937 non-null  object \n",
      " 3   CreditGrade                          28953 non-null   object \n",
      " 4   Term                                 113937 non-null  int64  \n",
      " 5   LoanStatus                           113937 non-null  object \n",
      " 6   ClosedDate                           55089 non-null   object \n",
      " 7   BorrowerAPR                          113912 non-null  float64\n",
      " 8   BorrowerRate                         113937 non-null  float64\n",
      " 9   LenderYield                          113937 non-null  float64\n",
      " 10  EstimatedEffectiveYield              84853 non-null   float64\n",
      " 11  EstimatedLoss                        84853 non-null   float64\n",
      " 12  EstimatedReturn                      84853 non-null   float64\n",
      " 13  ProsperRating (numeric)              84853 non-null   float64\n",
      " 14  ProsperRating (Alpha)                84853 non-null   object \n",
      " 15  ProsperScore                         84853 non-null   float64\n",
      " 16  ListingCategory (numeric)            113937 non-null  int64  \n",
      " 17  BorrowerState                        108422 non-null  object \n",
      " 18  Occupation                           110349 non-null  object \n",
      " 19  EmploymentStatus                     111682 non-null  object \n",
      " 20  EmploymentStatusDuration             106312 non-null  float64\n",
      " 21  IsBorrowerHomeowner                  113937 non-null  bool   \n",
      " 22  CurrentlyInGroup                     113937 non-null  bool   \n",
      " 23  GroupKey                             13341 non-null   object \n",
      " 24  DateCreditPulled                     113937 non-null  object \n",
      " 25  CreditScoreRangeLower                113346 non-null  float64\n",
      " 26  CreditScoreRangeUpper                113346 non-null  float64\n",
      " 27  FirstRecordedCreditLine              113240 non-null  object \n",
      " 28  CurrentCreditLines                   106333 non-null  float64\n",
      " 29  OpenCreditLines                      106333 non-null  float64\n",
      " 30  TotalCreditLinespast7years           113240 non-null  float64\n",
      " 31  OpenRevolvingAccounts                113937 non-null  int64  \n",
      " 32  OpenRevolvingMonthlyPayment          113937 non-null  float64\n",
      " 33  InquiriesLast6Months                 113240 non-null  float64\n",
      " 34  TotalInquiries                       112778 non-null  float64\n",
      " 35  CurrentDelinquencies                 113240 non-null  float64\n",
      " 36  AmountDelinquent                     106315 non-null  float64\n",
      " 37  DelinquenciesLast7Years              112947 non-null  float64\n",
      " 38  PublicRecordsLast10Years             113240 non-null  float64\n",
      " 39  PublicRecordsLast12Months            106333 non-null  float64\n",
      " 40  RevolvingCreditBalance               106333 non-null  float64\n",
      " 41  BankcardUtilization                  106333 non-null  float64\n",
      " 42  AvailableBankcardCredit              106393 non-null  float64\n",
      " 43  TotalTrades                          106393 non-null  float64\n",
      " 44  TradesNeverDelinquent (percentage)   106393 non-null  float64\n",
      " 45  TradesOpenedLast6Months              106393 non-null  float64\n",
      " 46  DebtToIncomeRatio                    105383 non-null  float64\n",
      " 47  IncomeRange                          113937 non-null  object \n",
      " 48  IncomeVerifiable                     113937 non-null  bool   \n",
      " 49  StatedMonthlyIncome                  113937 non-null  float64\n",
      " 50  LoanKey                              113937 non-null  object \n",
      " 51  TotalProsperLoans                    22085 non-null   float64\n",
      " 52  TotalProsperPaymentsBilled           22085 non-null   float64\n",
      " 53  OnTimeProsperPayments                22085 non-null   float64\n",
      " 54  ProsperPaymentsLessThanOneMonthLate  22085 non-null   float64\n",
      " 55  ProsperPaymentsOneMonthPlusLate      22085 non-null   float64\n",
      " 56  ProsperPrincipalBorrowed             22085 non-null   float64\n",
      " 57  ProsperPrincipalOutstanding          22085 non-null   float64\n",
      " 58  ScorexChangeAtTimeOfListing          18928 non-null   float64\n",
      " 59  LoanCurrentDaysDelinquent            113937 non-null  int64  \n",
      " 60  LoanFirstDefaultedCycleNumber        16952 non-null   float64\n",
      " 61  LoanMonthsSinceOrigination           113937 non-null  int64  \n",
      " 62  LoanNumber                           113937 non-null  int64  \n",
      " 63  LoanOriginalAmount                   113937 non-null  int64  \n",
      " 64  LoanOriginationDate                  113937 non-null  object \n",
      " 65  LoanOriginationQuarter               113937 non-null  object \n",
      " 66  MemberKey                            113937 non-null  object \n",
      " 67  MonthlyLoanPayment                   113937 non-null  float64\n",
      " 68  LP_CustomerPayments                  113937 non-null  float64\n",
      " 69  LP_CustomerPrincipalPayments         113937 non-null  float64\n",
      " 70  LP_InterestandFees                   113937 non-null  float64\n",
      " 71  LP_ServiceFees                       113937 non-null  float64\n",
      " 72  LP_CollectionFees                    113937 non-null  float64\n",
      " 73  LP_GrossPrincipalLoss                113937 non-null  float64\n",
      " 74  LP_NetPrincipalLoss                  113937 non-null  float64\n",
      " 75  LP_NonPrincipalRecoverypayments      113937 non-null  float64\n",
      " 76  PercentFunded                        113937 non-null  float64\n",
      " 77  Recommendations                      113937 non-null  int64  \n",
      " 78  InvestmentFromFriendsCount           113937 non-null  int64  \n",
      " 79  InvestmentFromFriendsAmount          113937 non-null  float64\n",
      " 80  Investors                            113937 non-null  int64  \n",
      "dtypes: bool(3), float64(50), int64(11), object(17)\n",
      "memory usage: 68.1+ MB\n"
     ]
    }
   ],
   "source": [
    "#Show some information about the data\n",
    "loan_df.info()"
   ]
  },
  {
   "cell_type": "code",
   "execution_count": 8,
   "metadata": {
    "scrolled": true
   },
   "outputs": [
    {
     "data": {
      "text/html": [
       "<div>\n",
       "<style scoped>\n",
       "    .dataframe tbody tr th:only-of-type {\n",
       "        vertical-align: middle;\n",
       "    }\n",
       "\n",
       "    .dataframe tbody tr th {\n",
       "        vertical-align: top;\n",
       "    }\n",
       "\n",
       "    .dataframe thead th {\n",
       "        text-align: right;\n",
       "    }\n",
       "</style>\n",
       "<table border=\"1\" class=\"dataframe\">\n",
       "  <thead>\n",
       "    <tr style=\"text-align: right;\">\n",
       "      <th></th>\n",
       "      <th>ListingNumber</th>\n",
       "      <th>Term</th>\n",
       "      <th>BorrowerAPR</th>\n",
       "      <th>BorrowerRate</th>\n",
       "      <th>LenderYield</th>\n",
       "      <th>EstimatedEffectiveYield</th>\n",
       "      <th>EstimatedLoss</th>\n",
       "      <th>EstimatedReturn</th>\n",
       "      <th>ProsperRating (numeric)</th>\n",
       "      <th>ProsperScore</th>\n",
       "      <th>...</th>\n",
       "      <th>LP_ServiceFees</th>\n",
       "      <th>LP_CollectionFees</th>\n",
       "      <th>LP_GrossPrincipalLoss</th>\n",
       "      <th>LP_NetPrincipalLoss</th>\n",
       "      <th>LP_NonPrincipalRecoverypayments</th>\n",
       "      <th>PercentFunded</th>\n",
       "      <th>Recommendations</th>\n",
       "      <th>InvestmentFromFriendsCount</th>\n",
       "      <th>InvestmentFromFriendsAmount</th>\n",
       "      <th>Investors</th>\n",
       "    </tr>\n",
       "  </thead>\n",
       "  <tbody>\n",
       "    <tr>\n",
       "      <th>count</th>\n",
       "      <td>1.139370e+05</td>\n",
       "      <td>113937.000000</td>\n",
       "      <td>113912.000000</td>\n",
       "      <td>113937.000000</td>\n",
       "      <td>113937.000000</td>\n",
       "      <td>84853.000000</td>\n",
       "      <td>84853.000000</td>\n",
       "      <td>84853.000000</td>\n",
       "      <td>84853.000000</td>\n",
       "      <td>84853.000000</td>\n",
       "      <td>...</td>\n",
       "      <td>113937.000000</td>\n",
       "      <td>113937.000000</td>\n",
       "      <td>113937.000000</td>\n",
       "      <td>113937.000000</td>\n",
       "      <td>113937.000000</td>\n",
       "      <td>113937.000000</td>\n",
       "      <td>113937.000000</td>\n",
       "      <td>113937.000000</td>\n",
       "      <td>113937.000000</td>\n",
       "      <td>113937.000000</td>\n",
       "    </tr>\n",
       "    <tr>\n",
       "      <th>mean</th>\n",
       "      <td>6.278857e+05</td>\n",
       "      <td>40.830248</td>\n",
       "      <td>0.218828</td>\n",
       "      <td>0.192764</td>\n",
       "      <td>0.182701</td>\n",
       "      <td>0.168661</td>\n",
       "      <td>0.080306</td>\n",
       "      <td>0.096068</td>\n",
       "      <td>4.072243</td>\n",
       "      <td>5.950067</td>\n",
       "      <td>...</td>\n",
       "      <td>-54.725641</td>\n",
       "      <td>-14.242698</td>\n",
       "      <td>700.446342</td>\n",
       "      <td>681.420499</td>\n",
       "      <td>25.142686</td>\n",
       "      <td>0.998584</td>\n",
       "      <td>0.048027</td>\n",
       "      <td>0.023460</td>\n",
       "      <td>16.550751</td>\n",
       "      <td>80.475228</td>\n",
       "    </tr>\n",
       "    <tr>\n",
       "      <th>std</th>\n",
       "      <td>3.280762e+05</td>\n",
       "      <td>10.436212</td>\n",
       "      <td>0.080364</td>\n",
       "      <td>0.074818</td>\n",
       "      <td>0.074516</td>\n",
       "      <td>0.068467</td>\n",
       "      <td>0.046764</td>\n",
       "      <td>0.030403</td>\n",
       "      <td>1.673227</td>\n",
       "      <td>2.376501</td>\n",
       "      <td>...</td>\n",
       "      <td>60.675425</td>\n",
       "      <td>109.232758</td>\n",
       "      <td>2388.513831</td>\n",
       "      <td>2357.167068</td>\n",
       "      <td>275.657937</td>\n",
       "      <td>0.017919</td>\n",
       "      <td>0.332353</td>\n",
       "      <td>0.232412</td>\n",
       "      <td>294.545422</td>\n",
       "      <td>103.239020</td>\n",
       "    </tr>\n",
       "    <tr>\n",
       "      <th>min</th>\n",
       "      <td>4.000000e+00</td>\n",
       "      <td>12.000000</td>\n",
       "      <td>0.006530</td>\n",
       "      <td>0.000000</td>\n",
       "      <td>-0.010000</td>\n",
       "      <td>-0.182700</td>\n",
       "      <td>0.004900</td>\n",
       "      <td>-0.182700</td>\n",
       "      <td>1.000000</td>\n",
       "      <td>1.000000</td>\n",
       "      <td>...</td>\n",
       "      <td>-664.870000</td>\n",
       "      <td>-9274.750000</td>\n",
       "      <td>-94.200000</td>\n",
       "      <td>-954.550000</td>\n",
       "      <td>0.000000</td>\n",
       "      <td>0.700000</td>\n",
       "      <td>0.000000</td>\n",
       "      <td>0.000000</td>\n",
       "      <td>0.000000</td>\n",
       "      <td>1.000000</td>\n",
       "    </tr>\n",
       "    <tr>\n",
       "      <th>25%</th>\n",
       "      <td>4.009190e+05</td>\n",
       "      <td>36.000000</td>\n",
       "      <td>0.156290</td>\n",
       "      <td>0.134000</td>\n",
       "      <td>0.124200</td>\n",
       "      <td>0.115670</td>\n",
       "      <td>0.042400</td>\n",
       "      <td>0.074080</td>\n",
       "      <td>3.000000</td>\n",
       "      <td>4.000000</td>\n",
       "      <td>...</td>\n",
       "      <td>-73.180000</td>\n",
       "      <td>0.000000</td>\n",
       "      <td>0.000000</td>\n",
       "      <td>0.000000</td>\n",
       "      <td>0.000000</td>\n",
       "      <td>1.000000</td>\n",
       "      <td>0.000000</td>\n",
       "      <td>0.000000</td>\n",
       "      <td>0.000000</td>\n",
       "      <td>2.000000</td>\n",
       "    </tr>\n",
       "    <tr>\n",
       "      <th>50%</th>\n",
       "      <td>6.005540e+05</td>\n",
       "      <td>36.000000</td>\n",
       "      <td>0.209760</td>\n",
       "      <td>0.184000</td>\n",
       "      <td>0.173000</td>\n",
       "      <td>0.161500</td>\n",
       "      <td>0.072400</td>\n",
       "      <td>0.091700</td>\n",
       "      <td>4.000000</td>\n",
       "      <td>6.000000</td>\n",
       "      <td>...</td>\n",
       "      <td>-34.440000</td>\n",
       "      <td>0.000000</td>\n",
       "      <td>0.000000</td>\n",
       "      <td>0.000000</td>\n",
       "      <td>0.000000</td>\n",
       "      <td>1.000000</td>\n",
       "      <td>0.000000</td>\n",
       "      <td>0.000000</td>\n",
       "      <td>0.000000</td>\n",
       "      <td>44.000000</td>\n",
       "    </tr>\n",
       "    <tr>\n",
       "      <th>75%</th>\n",
       "      <td>8.926340e+05</td>\n",
       "      <td>36.000000</td>\n",
       "      <td>0.283810</td>\n",
       "      <td>0.250000</td>\n",
       "      <td>0.240000</td>\n",
       "      <td>0.224300</td>\n",
       "      <td>0.112000</td>\n",
       "      <td>0.116600</td>\n",
       "      <td>5.000000</td>\n",
       "      <td>8.000000</td>\n",
       "      <td>...</td>\n",
       "      <td>-13.920000</td>\n",
       "      <td>0.000000</td>\n",
       "      <td>0.000000</td>\n",
       "      <td>0.000000</td>\n",
       "      <td>0.000000</td>\n",
       "      <td>1.000000</td>\n",
       "      <td>0.000000</td>\n",
       "      <td>0.000000</td>\n",
       "      <td>0.000000</td>\n",
       "      <td>115.000000</td>\n",
       "    </tr>\n",
       "    <tr>\n",
       "      <th>max</th>\n",
       "      <td>1.255725e+06</td>\n",
       "      <td>60.000000</td>\n",
       "      <td>0.512290</td>\n",
       "      <td>0.497500</td>\n",
       "      <td>0.492500</td>\n",
       "      <td>0.319900</td>\n",
       "      <td>0.366000</td>\n",
       "      <td>0.283700</td>\n",
       "      <td>7.000000</td>\n",
       "      <td>11.000000</td>\n",
       "      <td>...</td>\n",
       "      <td>32.060000</td>\n",
       "      <td>0.000000</td>\n",
       "      <td>25000.000000</td>\n",
       "      <td>25000.000000</td>\n",
       "      <td>21117.900000</td>\n",
       "      <td>1.012500</td>\n",
       "      <td>39.000000</td>\n",
       "      <td>33.000000</td>\n",
       "      <td>25000.000000</td>\n",
       "      <td>1189.000000</td>\n",
       "    </tr>\n",
       "  </tbody>\n",
       "</table>\n",
       "<p>8 rows × 61 columns</p>\n",
       "</div>"
      ],
      "text/plain": [
       "       ListingNumber           Term    BorrowerAPR   BorrowerRate  \\\n",
       "count   1.139370e+05  113937.000000  113912.000000  113937.000000   \n",
       "mean    6.278857e+05      40.830248       0.218828       0.192764   \n",
       "std     3.280762e+05      10.436212       0.080364       0.074818   \n",
       "min     4.000000e+00      12.000000       0.006530       0.000000   \n",
       "25%     4.009190e+05      36.000000       0.156290       0.134000   \n",
       "50%     6.005540e+05      36.000000       0.209760       0.184000   \n",
       "75%     8.926340e+05      36.000000       0.283810       0.250000   \n",
       "max     1.255725e+06      60.000000       0.512290       0.497500   \n",
       "\n",
       "         LenderYield  EstimatedEffectiveYield  EstimatedLoss  EstimatedReturn  \\\n",
       "count  113937.000000             84853.000000   84853.000000     84853.000000   \n",
       "mean        0.182701                 0.168661       0.080306         0.096068   \n",
       "std         0.074516                 0.068467       0.046764         0.030403   \n",
       "min        -0.010000                -0.182700       0.004900        -0.182700   \n",
       "25%         0.124200                 0.115670       0.042400         0.074080   \n",
       "50%         0.173000                 0.161500       0.072400         0.091700   \n",
       "75%         0.240000                 0.224300       0.112000         0.116600   \n",
       "max         0.492500                 0.319900       0.366000         0.283700   \n",
       "\n",
       "       ProsperRating (numeric)  ProsperScore  ...  LP_ServiceFees  \\\n",
       "count             84853.000000  84853.000000  ...   113937.000000   \n",
       "mean                  4.072243      5.950067  ...      -54.725641   \n",
       "std                   1.673227      2.376501  ...       60.675425   \n",
       "min                   1.000000      1.000000  ...     -664.870000   \n",
       "25%                   3.000000      4.000000  ...      -73.180000   \n",
       "50%                   4.000000      6.000000  ...      -34.440000   \n",
       "75%                   5.000000      8.000000  ...      -13.920000   \n",
       "max                   7.000000     11.000000  ...       32.060000   \n",
       "\n",
       "       LP_CollectionFees  LP_GrossPrincipalLoss  LP_NetPrincipalLoss  \\\n",
       "count      113937.000000          113937.000000        113937.000000   \n",
       "mean          -14.242698             700.446342           681.420499   \n",
       "std           109.232758            2388.513831          2357.167068   \n",
       "min         -9274.750000             -94.200000          -954.550000   \n",
       "25%             0.000000               0.000000             0.000000   \n",
       "50%             0.000000               0.000000             0.000000   \n",
       "75%             0.000000               0.000000             0.000000   \n",
       "max             0.000000           25000.000000         25000.000000   \n",
       "\n",
       "       LP_NonPrincipalRecoverypayments  PercentFunded  Recommendations  \\\n",
       "count                    113937.000000  113937.000000    113937.000000   \n",
       "mean                         25.142686       0.998584         0.048027   \n",
       "std                         275.657937       0.017919         0.332353   \n",
       "min                           0.000000       0.700000         0.000000   \n",
       "25%                           0.000000       1.000000         0.000000   \n",
       "50%                           0.000000       1.000000         0.000000   \n",
       "75%                           0.000000       1.000000         0.000000   \n",
       "max                       21117.900000       1.012500        39.000000   \n",
       "\n",
       "       InvestmentFromFriendsCount  InvestmentFromFriendsAmount      Investors  \n",
       "count               113937.000000                113937.000000  113937.000000  \n",
       "mean                     0.023460                    16.550751      80.475228  \n",
       "std                      0.232412                   294.545422     103.239020  \n",
       "min                      0.000000                     0.000000       1.000000  \n",
       "25%                      0.000000                     0.000000       2.000000  \n",
       "50%                      0.000000                     0.000000      44.000000  \n",
       "75%                      0.000000                     0.000000     115.000000  \n",
       "max                     33.000000                 25000.000000    1189.000000  \n",
       "\n",
       "[8 rows x 61 columns]"
      ]
     },
     "execution_count": 8,
     "metadata": {},
     "output_type": "execute_result"
    }
   ],
   "source": [
    "#Display descriptive statistic of the data\n",
    "loan_df.describe()"
   ]
  },
  {
   "cell_type": "code",
   "execution_count": 10,
   "metadata": {},
   "outputs": [
    {
     "data": {
      "text/html": [
       "<div>\n",
       "<style scoped>\n",
       "    .dataframe tbody tr th:only-of-type {\n",
       "        vertical-align: middle;\n",
       "    }\n",
       "\n",
       "    .dataframe tbody tr th {\n",
       "        vertical-align: top;\n",
       "    }\n",
       "\n",
       "    .dataframe thead th {\n",
       "        text-align: right;\n",
       "    }\n",
       "</style>\n",
       "<table border=\"1\" class=\"dataframe\">\n",
       "  <thead>\n",
       "    <tr style=\"text-align: right;\">\n",
       "      <th></th>\n",
       "      <th>ListingKey</th>\n",
       "      <th>ListingNumber</th>\n",
       "      <th>ListingCreationDate</th>\n",
       "      <th>CreditGrade</th>\n",
       "      <th>Term</th>\n",
       "      <th>LoanStatus</th>\n",
       "      <th>ClosedDate</th>\n",
       "      <th>BorrowerAPR</th>\n",
       "      <th>BorrowerRate</th>\n",
       "      <th>LenderYield</th>\n",
       "      <th>...</th>\n",
       "      <th>LP_ServiceFees</th>\n",
       "      <th>LP_CollectionFees</th>\n",
       "      <th>LP_GrossPrincipalLoss</th>\n",
       "      <th>LP_NetPrincipalLoss</th>\n",
       "      <th>LP_NonPrincipalRecoverypayments</th>\n",
       "      <th>PercentFunded</th>\n",
       "      <th>Recommendations</th>\n",
       "      <th>InvestmentFromFriendsCount</th>\n",
       "      <th>InvestmentFromFriendsAmount</th>\n",
       "      <th>Investors</th>\n",
       "    </tr>\n",
       "  </thead>\n",
       "  <tbody>\n",
       "    <tr>\n",
       "      <th>4395</th>\n",
       "      <td>2CC93596313027538EF265C</td>\n",
       "      <td>1087659</td>\n",
       "      <td>2013-12-16 11:12:29.067000000</td>\n",
       "      <td>NaN</td>\n",
       "      <td>36</td>\n",
       "      <td>Current</td>\n",
       "      <td>NaN</td>\n",
       "      <td>0.15223</td>\n",
       "      <td>0.1239</td>\n",
       "      <td>0.1139</td>\n",
       "      <td>...</td>\n",
       "      <td>-50.38</td>\n",
       "      <td>0.0</td>\n",
       "      <td>0.0</td>\n",
       "      <td>0.0</td>\n",
       "      <td>0.0</td>\n",
       "      <td>1.0</td>\n",
       "      <td>0</td>\n",
       "      <td>0</td>\n",
       "      <td>0.0</td>\n",
       "      <td>1</td>\n",
       "    </tr>\n",
       "    <tr>\n",
       "      <th>72864</th>\n",
       "      <td>F29734192937032667DD9C6</td>\n",
       "      <td>321473</td>\n",
       "      <td>2008-04-29 17:00:44.673000000</td>\n",
       "      <td>B</td>\n",
       "      <td>36</td>\n",
       "      <td>Completed</td>\n",
       "      <td>2010-07-23 00:00:00</td>\n",
       "      <td>0.09832</td>\n",
       "      <td>0.0845</td>\n",
       "      <td>0.0745</td>\n",
       "      <td>...</td>\n",
       "      <td>-94.18</td>\n",
       "      <td>0.0</td>\n",
       "      <td>0.0</td>\n",
       "      <td>0.0</td>\n",
       "      <td>0.0</td>\n",
       "      <td>1.0</td>\n",
       "      <td>5</td>\n",
       "      <td>5</td>\n",
       "      <td>1250.0</td>\n",
       "      <td>104</td>\n",
       "    </tr>\n",
       "    <tr>\n",
       "      <th>84785</th>\n",
       "      <td>EE633429610127949B602DA</td>\n",
       "      <td>385017</td>\n",
       "      <td>2008-08-19 09:25:39.343000000</td>\n",
       "      <td>A</td>\n",
       "      <td>36</td>\n",
       "      <td>Completed</td>\n",
       "      <td>2011-03-10 00:00:00</td>\n",
       "      <td>0.13865</td>\n",
       "      <td>0.1245</td>\n",
       "      <td>0.1145</td>\n",
       "      <td>...</td>\n",
       "      <td>-154.00</td>\n",
       "      <td>0.0</td>\n",
       "      <td>0.0</td>\n",
       "      <td>0.0</td>\n",
       "      <td>0.0</td>\n",
       "      <td>1.0</td>\n",
       "      <td>0</td>\n",
       "      <td>0</td>\n",
       "      <td>0.0</td>\n",
       "      <td>407</td>\n",
       "    </tr>\n",
       "    <tr>\n",
       "      <th>10399</th>\n",
       "      <td>68123530908789237E6E9E6</td>\n",
       "      <td>536328</td>\n",
       "      <td>2011-10-29 23:01:33.077000000</td>\n",
       "      <td>NaN</td>\n",
       "      <td>36</td>\n",
       "      <td>Current</td>\n",
       "      <td>NaN</td>\n",
       "      <td>0.16056</td>\n",
       "      <td>0.1390</td>\n",
       "      <td>0.1290</td>\n",
       "      <td>...</td>\n",
       "      <td>-137.20</td>\n",
       "      <td>0.0</td>\n",
       "      <td>0.0</td>\n",
       "      <td>0.0</td>\n",
       "      <td>0.0</td>\n",
       "      <td>1.0</td>\n",
       "      <td>0</td>\n",
       "      <td>0</td>\n",
       "      <td>0.0</td>\n",
       "      <td>140</td>\n",
       "    </tr>\n",
       "    <tr>\n",
       "      <th>66744</th>\n",
       "      <td>E36C358116458784654BE86</td>\n",
       "      <td>807268</td>\n",
       "      <td>2013-06-12 19:37:00.743000000</td>\n",
       "      <td>NaN</td>\n",
       "      <td>60</td>\n",
       "      <td>Current</td>\n",
       "      <td>NaN</td>\n",
       "      <td>0.20593</td>\n",
       "      <td>0.1819</td>\n",
       "      <td>0.1719</td>\n",
       "      <td>...</td>\n",
       "      <td>-64.62</td>\n",
       "      <td>0.0</td>\n",
       "      <td>0.0</td>\n",
       "      <td>0.0</td>\n",
       "      <td>0.0</td>\n",
       "      <td>1.0</td>\n",
       "      <td>0</td>\n",
       "      <td>0</td>\n",
       "      <td>0.0</td>\n",
       "      <td>1</td>\n",
       "    </tr>\n",
       "    <tr>\n",
       "      <th>70845</th>\n",
       "      <td>755C33771902846325AD3E8</td>\n",
       "      <td>82094</td>\n",
       "      <td>2007-01-06 17:43:43.757000000</td>\n",
       "      <td>D</td>\n",
       "      <td>36</td>\n",
       "      <td>Completed</td>\n",
       "      <td>2008-03-03 00:00:00</td>\n",
       "      <td>0.15412</td>\n",
       "      <td>0.1470</td>\n",
       "      <td>0.1320</td>\n",
       "      <td>...</td>\n",
       "      <td>-14.42</td>\n",
       "      <td>0.0</td>\n",
       "      <td>0.0</td>\n",
       "      <td>0.0</td>\n",
       "      <td>0.0</td>\n",
       "      <td>1.0</td>\n",
       "      <td>0</td>\n",
       "      <td>0</td>\n",
       "      <td>0.0</td>\n",
       "      <td>120</td>\n",
       "    </tr>\n",
       "    <tr>\n",
       "      <th>72284</th>\n",
       "      <td>0A6C35981201590736ECAAA</td>\n",
       "      <td>1112297</td>\n",
       "      <td>2014-01-02 13:46:55.003000000</td>\n",
       "      <td>NaN</td>\n",
       "      <td>36</td>\n",
       "      <td>Current</td>\n",
       "      <td>NaN</td>\n",
       "      <td>0.07922</td>\n",
       "      <td>0.0659</td>\n",
       "      <td>0.0559</td>\n",
       "      <td>...</td>\n",
       "      <td>0.00</td>\n",
       "      <td>0.0</td>\n",
       "      <td>0.0</td>\n",
       "      <td>0.0</td>\n",
       "      <td>0.0</td>\n",
       "      <td>1.0</td>\n",
       "      <td>0</td>\n",
       "      <td>0</td>\n",
       "      <td>0.0</td>\n",
       "      <td>284</td>\n",
       "    </tr>\n",
       "    <tr>\n",
       "      <th>26461</th>\n",
       "      <td>B48F339640528068344BA5E</td>\n",
       "      <td>187028</td>\n",
       "      <td>2007-08-14 10:40:33.550000000</td>\n",
       "      <td>D</td>\n",
       "      <td>36</td>\n",
       "      <td>Completed</td>\n",
       "      <td>2010-03-31 00:00:00</td>\n",
       "      <td>0.21237</td>\n",
       "      <td>0.2050</td>\n",
       "      <td>0.1900</td>\n",
       "      <td>...</td>\n",
       "      <td>-251.02</td>\n",
       "      <td>0.0</td>\n",
       "      <td>0.0</td>\n",
       "      <td>0.0</td>\n",
       "      <td>0.0</td>\n",
       "      <td>1.0</td>\n",
       "      <td>0</td>\n",
       "      <td>0</td>\n",
       "      <td>0.0</td>\n",
       "      <td>378</td>\n",
       "    </tr>\n",
       "    <tr>\n",
       "      <th>51379</th>\n",
       "      <td>A5153407088770150D9DC46</td>\n",
       "      <td>239902</td>\n",
       "      <td>2007-11-28 20:59:48.973000000</td>\n",
       "      <td>D</td>\n",
       "      <td>36</td>\n",
       "      <td>Completed</td>\n",
       "      <td>2010-12-14 00:00:00</td>\n",
       "      <td>0.24864</td>\n",
       "      <td>0.2430</td>\n",
       "      <td>0.2330</td>\n",
       "      <td>...</td>\n",
       "      <td>-172.89</td>\n",
       "      <td>0.0</td>\n",
       "      <td>0.0</td>\n",
       "      <td>0.0</td>\n",
       "      <td>0.0</td>\n",
       "      <td>1.0</td>\n",
       "      <td>1</td>\n",
       "      <td>1</td>\n",
       "      <td>5000.0</td>\n",
       "      <td>156</td>\n",
       "    </tr>\n",
       "    <tr>\n",
       "      <th>33349</th>\n",
       "      <td>EC523479951666901531696</td>\n",
       "      <td>453377</td>\n",
       "      <td>2010-04-08 05:15:47.653000000</td>\n",
       "      <td>NaN</td>\n",
       "      <td>36</td>\n",
       "      <td>Completed</td>\n",
       "      <td>2012-07-09 00:00:00</td>\n",
       "      <td>0.12309</td>\n",
       "      <td>0.1020</td>\n",
       "      <td>0.0920</td>\n",
       "      <td>...</td>\n",
       "      <td>-112.28</td>\n",
       "      <td>0.0</td>\n",
       "      <td>0.0</td>\n",
       "      <td>0.0</td>\n",
       "      <td>0.0</td>\n",
       "      <td>1.0</td>\n",
       "      <td>0</td>\n",
       "      <td>0</td>\n",
       "      <td>0.0</td>\n",
       "      <td>239</td>\n",
       "    </tr>\n",
       "  </tbody>\n",
       "</table>\n",
       "<p>10 rows × 81 columns</p>\n",
       "</div>"
      ],
      "text/plain": [
       "                    ListingKey  ListingNumber            ListingCreationDate  \\\n",
       "4395   2CC93596313027538EF265C        1087659  2013-12-16 11:12:29.067000000   \n",
       "72864  F29734192937032667DD9C6         321473  2008-04-29 17:00:44.673000000   \n",
       "84785  EE633429610127949B602DA         385017  2008-08-19 09:25:39.343000000   \n",
       "10399  68123530908789237E6E9E6         536328  2011-10-29 23:01:33.077000000   \n",
       "66744  E36C358116458784654BE86         807268  2013-06-12 19:37:00.743000000   \n",
       "70845  755C33771902846325AD3E8          82094  2007-01-06 17:43:43.757000000   \n",
       "72284  0A6C35981201590736ECAAA        1112297  2014-01-02 13:46:55.003000000   \n",
       "26461  B48F339640528068344BA5E         187028  2007-08-14 10:40:33.550000000   \n",
       "51379  A5153407088770150D9DC46         239902  2007-11-28 20:59:48.973000000   \n",
       "33349  EC523479951666901531696         453377  2010-04-08 05:15:47.653000000   \n",
       "\n",
       "      CreditGrade  Term LoanStatus           ClosedDate  BorrowerAPR  \\\n",
       "4395          NaN    36    Current                  NaN      0.15223   \n",
       "72864           B    36  Completed  2010-07-23 00:00:00      0.09832   \n",
       "84785           A    36  Completed  2011-03-10 00:00:00      0.13865   \n",
       "10399         NaN    36    Current                  NaN      0.16056   \n",
       "66744         NaN    60    Current                  NaN      0.20593   \n",
       "70845           D    36  Completed  2008-03-03 00:00:00      0.15412   \n",
       "72284         NaN    36    Current                  NaN      0.07922   \n",
       "26461           D    36  Completed  2010-03-31 00:00:00      0.21237   \n",
       "51379           D    36  Completed  2010-12-14 00:00:00      0.24864   \n",
       "33349         NaN    36  Completed  2012-07-09 00:00:00      0.12309   \n",
       "\n",
       "       BorrowerRate  LenderYield  ...  LP_ServiceFees  LP_CollectionFees  \\\n",
       "4395         0.1239       0.1139  ...          -50.38                0.0   \n",
       "72864        0.0845       0.0745  ...          -94.18                0.0   \n",
       "84785        0.1245       0.1145  ...         -154.00                0.0   \n",
       "10399        0.1390       0.1290  ...         -137.20                0.0   \n",
       "66744        0.1819       0.1719  ...          -64.62                0.0   \n",
       "70845        0.1470       0.1320  ...          -14.42                0.0   \n",
       "72284        0.0659       0.0559  ...            0.00                0.0   \n",
       "26461        0.2050       0.1900  ...         -251.02                0.0   \n",
       "51379        0.2430       0.2330  ...         -172.89                0.0   \n",
       "33349        0.1020       0.0920  ...         -112.28                0.0   \n",
       "\n",
       "       LP_GrossPrincipalLoss  LP_NetPrincipalLoss  \\\n",
       "4395                     0.0                  0.0   \n",
       "72864                    0.0                  0.0   \n",
       "84785                    0.0                  0.0   \n",
       "10399                    0.0                  0.0   \n",
       "66744                    0.0                  0.0   \n",
       "70845                    0.0                  0.0   \n",
       "72284                    0.0                  0.0   \n",
       "26461                    0.0                  0.0   \n",
       "51379                    0.0                  0.0   \n",
       "33349                    0.0                  0.0   \n",
       "\n",
       "      LP_NonPrincipalRecoverypayments  PercentFunded  Recommendations  \\\n",
       "4395                              0.0            1.0                0   \n",
       "72864                             0.0            1.0                5   \n",
       "84785                             0.0            1.0                0   \n",
       "10399                             0.0            1.0                0   \n",
       "66744                             0.0            1.0                0   \n",
       "70845                             0.0            1.0                0   \n",
       "72284                             0.0            1.0                0   \n",
       "26461                             0.0            1.0                0   \n",
       "51379                             0.0            1.0                1   \n",
       "33349                             0.0            1.0                0   \n",
       "\n",
       "      InvestmentFromFriendsCount InvestmentFromFriendsAmount Investors  \n",
       "4395                           0                         0.0         1  \n",
       "72864                          5                      1250.0       104  \n",
       "84785                          0                         0.0       407  \n",
       "10399                          0                         0.0       140  \n",
       "66744                          0                         0.0         1  \n",
       "70845                          0                         0.0       120  \n",
       "72284                          0                         0.0       284  \n",
       "26461                          0                         0.0       378  \n",
       "51379                          1                      5000.0       156  \n",
       "33349                          0                         0.0       239  \n",
       "\n",
       "[10 rows x 81 columns]"
      ]
     },
     "execution_count": 10,
     "metadata": {},
     "output_type": "execute_result"
    }
   ],
   "source": [
    "#Display sample records of the data\n",
    "loan_df.sample(10)"
   ]
  },
  {
   "cell_type": "markdown",
   "metadata": {},
   "source": [
    "**Stated in the Dataset Option** \"You are not expected to explore all of the variables in the dataset! Focus your exploration on about 10-15 of them.\" \n",
    "\n",
    "This is because of the large number of variables present in the dataset. Hence, in this analysis I will focus on some few variables as follow"
   ]
  },
  {
   "cell_type": "code",
   "execution_count": 11,
   "metadata": {},
   "outputs": [],
   "source": [
    "#Extracting the columns that I will explore\n",
    "target_columns =  [\n",
    "    'MemberKey','Term', 'LoanStatus', 'BorrowerRate', 'ListingCategory (numeric)', 'EmploymentStatus',\n",
    "    'StatedMonthlyIncome', 'TotalProsperLoans', 'LoanOriginalAmount',\n",
    "    'LoanOriginationDate', 'LoanOriginationQuarter', 'Recommendations', 'Investors'\n",
    "]"
   ]
  },
  {
   "cell_type": "code",
   "execution_count": 12,
   "metadata": {},
   "outputs": [],
   "source": [
    "#Creating the dataframe\n",
    "target_df = loan_df[target_columns]"
   ]
  },
  {
   "cell_type": "markdown",
   "metadata": {},
   "source": [
    "Now, I have a new dataframe containing the variables I want to focus on or explore. I will assess it a little using both visual and programmatic ways"
   ]
  },
  {
   "cell_type": "code",
   "execution_count": 13,
   "metadata": {},
   "outputs": [
    {
     "data": {
      "text/plain": [
       "(113937, 13)"
      ]
     },
     "execution_count": 13,
     "metadata": {},
     "output_type": "execute_result"
    }
   ],
   "source": [
    "#Shape of the new dataset. It must have same number of records but the columns/ variables differs from the original dataset.\n",
    "target_df.shape"
   ]
  },
  {
   "cell_type": "markdown",
   "metadata": {},
   "source": [
    "Yes! That's it. The new dataset I am focusing on has 13 variables and same number of record with the original dataset."
   ]
  },
  {
   "cell_type": "code",
   "execution_count": 14,
   "metadata": {},
   "outputs": [
    {
     "data": {
      "text/html": [
       "<div>\n",
       "<style scoped>\n",
       "    .dataframe tbody tr th:only-of-type {\n",
       "        vertical-align: middle;\n",
       "    }\n",
       "\n",
       "    .dataframe tbody tr th {\n",
       "        vertical-align: top;\n",
       "    }\n",
       "\n",
       "    .dataframe thead th {\n",
       "        text-align: right;\n",
       "    }\n",
       "</style>\n",
       "<table border=\"1\" class=\"dataframe\">\n",
       "  <thead>\n",
       "    <tr style=\"text-align: right;\">\n",
       "      <th></th>\n",
       "      <th>MemberKey</th>\n",
       "      <th>Term</th>\n",
       "      <th>LoanStatus</th>\n",
       "      <th>BorrowerRate</th>\n",
       "      <th>ListingCategory (numeric)</th>\n",
       "      <th>EmploymentStatus</th>\n",
       "      <th>StatedMonthlyIncome</th>\n",
       "      <th>TotalProsperLoans</th>\n",
       "      <th>LoanOriginalAmount</th>\n",
       "      <th>LoanOriginationDate</th>\n",
       "      <th>LoanOriginationQuarter</th>\n",
       "      <th>Recommendations</th>\n",
       "      <th>Investors</th>\n",
       "    </tr>\n",
       "  </thead>\n",
       "  <tbody>\n",
       "    <tr>\n",
       "      <th>0</th>\n",
       "      <td>1F3E3376408759268057EDA</td>\n",
       "      <td>36</td>\n",
       "      <td>Completed</td>\n",
       "      <td>0.1580</td>\n",
       "      <td>0</td>\n",
       "      <td>Self-employed</td>\n",
       "      <td>3083.333333</td>\n",
       "      <td>NaN</td>\n",
       "      <td>9425</td>\n",
       "      <td>2007-09-12 00:00:00</td>\n",
       "      <td>Q3 2007</td>\n",
       "      <td>0</td>\n",
       "      <td>258</td>\n",
       "    </tr>\n",
       "    <tr>\n",
       "      <th>1</th>\n",
       "      <td>1D13370546739025387B2F4</td>\n",
       "      <td>36</td>\n",
       "      <td>Current</td>\n",
       "      <td>0.0920</td>\n",
       "      <td>2</td>\n",
       "      <td>Employed</td>\n",
       "      <td>6125.000000</td>\n",
       "      <td>NaN</td>\n",
       "      <td>10000</td>\n",
       "      <td>2014-03-03 00:00:00</td>\n",
       "      <td>Q1 2014</td>\n",
       "      <td>0</td>\n",
       "      <td>1</td>\n",
       "    </tr>\n",
       "    <tr>\n",
       "      <th>2</th>\n",
       "      <td>5F7033715035555618FA612</td>\n",
       "      <td>36</td>\n",
       "      <td>Completed</td>\n",
       "      <td>0.2750</td>\n",
       "      <td>0</td>\n",
       "      <td>Not available</td>\n",
       "      <td>2083.333333</td>\n",
       "      <td>NaN</td>\n",
       "      <td>3001</td>\n",
       "      <td>2007-01-17 00:00:00</td>\n",
       "      <td>Q1 2007</td>\n",
       "      <td>0</td>\n",
       "      <td>41</td>\n",
       "    </tr>\n",
       "    <tr>\n",
       "      <th>3</th>\n",
       "      <td>9ADE356069835475068C6D2</td>\n",
       "      <td>36</td>\n",
       "      <td>Current</td>\n",
       "      <td>0.0974</td>\n",
       "      <td>16</td>\n",
       "      <td>Employed</td>\n",
       "      <td>2875.000000</td>\n",
       "      <td>NaN</td>\n",
       "      <td>10000</td>\n",
       "      <td>2012-11-01 00:00:00</td>\n",
       "      <td>Q4 2012</td>\n",
       "      <td>0</td>\n",
       "      <td>158</td>\n",
       "    </tr>\n",
       "    <tr>\n",
       "      <th>4</th>\n",
       "      <td>36CE356043264555721F06C</td>\n",
       "      <td>36</td>\n",
       "      <td>Current</td>\n",
       "      <td>0.2085</td>\n",
       "      <td>2</td>\n",
       "      <td>Employed</td>\n",
       "      <td>9583.333333</td>\n",
       "      <td>1.0</td>\n",
       "      <td>15000</td>\n",
       "      <td>2013-09-20 00:00:00</td>\n",
       "      <td>Q3 2013</td>\n",
       "      <td>0</td>\n",
       "      <td>20</td>\n",
       "    </tr>\n",
       "  </tbody>\n",
       "</table>\n",
       "</div>"
      ],
      "text/plain": [
       "                 MemberKey  Term LoanStatus  BorrowerRate  \\\n",
       "0  1F3E3376408759268057EDA    36  Completed        0.1580   \n",
       "1  1D13370546739025387B2F4    36    Current        0.0920   \n",
       "2  5F7033715035555618FA612    36  Completed        0.2750   \n",
       "3  9ADE356069835475068C6D2    36    Current        0.0974   \n",
       "4  36CE356043264555721F06C    36    Current        0.2085   \n",
       "\n",
       "   ListingCategory (numeric) EmploymentStatus  StatedMonthlyIncome  \\\n",
       "0                          0    Self-employed          3083.333333   \n",
       "1                          2         Employed          6125.000000   \n",
       "2                          0    Not available          2083.333333   \n",
       "3                         16         Employed          2875.000000   \n",
       "4                          2         Employed          9583.333333   \n",
       "\n",
       "   TotalProsperLoans  LoanOriginalAmount  LoanOriginationDate  \\\n",
       "0                NaN                9425  2007-09-12 00:00:00   \n",
       "1                NaN               10000  2014-03-03 00:00:00   \n",
       "2                NaN                3001  2007-01-17 00:00:00   \n",
       "3                NaN               10000  2012-11-01 00:00:00   \n",
       "4                1.0               15000  2013-09-20 00:00:00   \n",
       "\n",
       "  LoanOriginationQuarter  Recommendations  Investors  \n",
       "0                Q3 2007                0        258  \n",
       "1                Q1 2014                0          1  \n",
       "2                Q1 2007                0         41  \n",
       "3                Q4 2012                0        158  \n",
       "4                Q3 2013                0         20  "
      ]
     },
     "execution_count": 14,
     "metadata": {},
     "output_type": "execute_result"
    }
   ],
   "source": [
    "#Display the first five records from the dataset\n",
    "target_df.head()"
   ]
  },
  {
   "cell_type": "code",
   "execution_count": 15,
   "metadata": {
    "scrolled": true
   },
   "outputs": [
    {
     "name": "stdout",
     "output_type": "stream",
     "text": [
      "<class 'pandas.core.frame.DataFrame'>\n",
      "RangeIndex: 113937 entries, 0 to 113936\n",
      "Data columns (total 13 columns):\n",
      " #   Column                     Non-Null Count   Dtype  \n",
      "---  ------                     --------------   -----  \n",
      " 0   MemberKey                  113937 non-null  object \n",
      " 1   Term                       113937 non-null  int64  \n",
      " 2   LoanStatus                 113937 non-null  object \n",
      " 3   BorrowerRate               113937 non-null  float64\n",
      " 4   ListingCategory (numeric)  113937 non-null  int64  \n",
      " 5   EmploymentStatus           111682 non-null  object \n",
      " 6   StatedMonthlyIncome        113937 non-null  float64\n",
      " 7   TotalProsperLoans          22085 non-null   float64\n",
      " 8   LoanOriginalAmount         113937 non-null  int64  \n",
      " 9   LoanOriginationDate        113937 non-null  object \n",
      " 10  LoanOriginationQuarter     113937 non-null  object \n",
      " 11  Recommendations            113937 non-null  int64  \n",
      " 12  Investors                  113937 non-null  int64  \n",
      "dtypes: float64(3), int64(5), object(5)\n",
      "memory usage: 11.3+ MB\n"
     ]
    }
   ],
   "source": [
    "#Show some information about the data\n",
    "target_df.info()"
   ]
  },
  {
   "cell_type": "code",
   "execution_count": 16,
   "metadata": {},
   "outputs": [
    {
     "data": {
      "text/html": [
       "<div>\n",
       "<style scoped>\n",
       "    .dataframe tbody tr th:only-of-type {\n",
       "        vertical-align: middle;\n",
       "    }\n",
       "\n",
       "    .dataframe tbody tr th {\n",
       "        vertical-align: top;\n",
       "    }\n",
       "\n",
       "    .dataframe thead th {\n",
       "        text-align: right;\n",
       "    }\n",
       "</style>\n",
       "<table border=\"1\" class=\"dataframe\">\n",
       "  <thead>\n",
       "    <tr style=\"text-align: right;\">\n",
       "      <th></th>\n",
       "      <th>Term</th>\n",
       "      <th>BorrowerRate</th>\n",
       "      <th>ListingCategory (numeric)</th>\n",
       "      <th>StatedMonthlyIncome</th>\n",
       "      <th>TotalProsperLoans</th>\n",
       "      <th>LoanOriginalAmount</th>\n",
       "      <th>Recommendations</th>\n",
       "      <th>Investors</th>\n",
       "    </tr>\n",
       "  </thead>\n",
       "  <tbody>\n",
       "    <tr>\n",
       "      <th>count</th>\n",
       "      <td>113937.000000</td>\n",
       "      <td>113937.000000</td>\n",
       "      <td>113937.000000</td>\n",
       "      <td>1.139370e+05</td>\n",
       "      <td>22085.000000</td>\n",
       "      <td>113937.00000</td>\n",
       "      <td>113937.000000</td>\n",
       "      <td>113937.000000</td>\n",
       "    </tr>\n",
       "    <tr>\n",
       "      <th>mean</th>\n",
       "      <td>40.830248</td>\n",
       "      <td>0.192764</td>\n",
       "      <td>2.774209</td>\n",
       "      <td>5.608026e+03</td>\n",
       "      <td>1.421100</td>\n",
       "      <td>8337.01385</td>\n",
       "      <td>0.048027</td>\n",
       "      <td>80.475228</td>\n",
       "    </tr>\n",
       "    <tr>\n",
       "      <th>std</th>\n",
       "      <td>10.436212</td>\n",
       "      <td>0.074818</td>\n",
       "      <td>3.996797</td>\n",
       "      <td>7.478497e+03</td>\n",
       "      <td>0.764042</td>\n",
       "      <td>6245.80058</td>\n",
       "      <td>0.332353</td>\n",
       "      <td>103.239020</td>\n",
       "    </tr>\n",
       "    <tr>\n",
       "      <th>min</th>\n",
       "      <td>12.000000</td>\n",
       "      <td>0.000000</td>\n",
       "      <td>0.000000</td>\n",
       "      <td>0.000000e+00</td>\n",
       "      <td>0.000000</td>\n",
       "      <td>1000.00000</td>\n",
       "      <td>0.000000</td>\n",
       "      <td>1.000000</td>\n",
       "    </tr>\n",
       "    <tr>\n",
       "      <th>25%</th>\n",
       "      <td>36.000000</td>\n",
       "      <td>0.134000</td>\n",
       "      <td>1.000000</td>\n",
       "      <td>3.200333e+03</td>\n",
       "      <td>1.000000</td>\n",
       "      <td>4000.00000</td>\n",
       "      <td>0.000000</td>\n",
       "      <td>2.000000</td>\n",
       "    </tr>\n",
       "    <tr>\n",
       "      <th>50%</th>\n",
       "      <td>36.000000</td>\n",
       "      <td>0.184000</td>\n",
       "      <td>1.000000</td>\n",
       "      <td>4.666667e+03</td>\n",
       "      <td>1.000000</td>\n",
       "      <td>6500.00000</td>\n",
       "      <td>0.000000</td>\n",
       "      <td>44.000000</td>\n",
       "    </tr>\n",
       "    <tr>\n",
       "      <th>75%</th>\n",
       "      <td>36.000000</td>\n",
       "      <td>0.250000</td>\n",
       "      <td>3.000000</td>\n",
       "      <td>6.825000e+03</td>\n",
       "      <td>2.000000</td>\n",
       "      <td>12000.00000</td>\n",
       "      <td>0.000000</td>\n",
       "      <td>115.000000</td>\n",
       "    </tr>\n",
       "    <tr>\n",
       "      <th>max</th>\n",
       "      <td>60.000000</td>\n",
       "      <td>0.497500</td>\n",
       "      <td>20.000000</td>\n",
       "      <td>1.750003e+06</td>\n",
       "      <td>8.000000</td>\n",
       "      <td>35000.00000</td>\n",
       "      <td>39.000000</td>\n",
       "      <td>1189.000000</td>\n",
       "    </tr>\n",
       "  </tbody>\n",
       "</table>\n",
       "</div>"
      ],
      "text/plain": [
       "                Term   BorrowerRate  ListingCategory (numeric)  \\\n",
       "count  113937.000000  113937.000000              113937.000000   \n",
       "mean       40.830248       0.192764                   2.774209   \n",
       "std        10.436212       0.074818                   3.996797   \n",
       "min        12.000000       0.000000                   0.000000   \n",
       "25%        36.000000       0.134000                   1.000000   \n",
       "50%        36.000000       0.184000                   1.000000   \n",
       "75%        36.000000       0.250000                   3.000000   \n",
       "max        60.000000       0.497500                  20.000000   \n",
       "\n",
       "       StatedMonthlyIncome  TotalProsperLoans  LoanOriginalAmount  \\\n",
       "count         1.139370e+05       22085.000000        113937.00000   \n",
       "mean          5.608026e+03           1.421100          8337.01385   \n",
       "std           7.478497e+03           0.764042          6245.80058   \n",
       "min           0.000000e+00           0.000000          1000.00000   \n",
       "25%           3.200333e+03           1.000000          4000.00000   \n",
       "50%           4.666667e+03           1.000000          6500.00000   \n",
       "75%           6.825000e+03           2.000000         12000.00000   \n",
       "max           1.750003e+06           8.000000         35000.00000   \n",
       "\n",
       "       Recommendations      Investors  \n",
       "count    113937.000000  113937.000000  \n",
       "mean          0.048027      80.475228  \n",
       "std           0.332353     103.239020  \n",
       "min           0.000000       1.000000  \n",
       "25%           0.000000       2.000000  \n",
       "50%           0.000000      44.000000  \n",
       "75%           0.000000     115.000000  \n",
       "max          39.000000    1189.000000  "
      ]
     },
     "execution_count": 16,
     "metadata": {},
     "output_type": "execute_result"
    }
   ],
   "source": [
    "#Display descriptive statistic of the data\n",
    "target_df.describe()"
   ]
  },
  {
   "cell_type": "markdown",
   "metadata": {},
   "source": [
    "### What is the structure of your dataset?\n",
    "\n",
    "> There are 113,937 records in the dataset with 13 features (MemberKey, Term, LoanStatus, BorrowerRate, ListingCategory (numeric), EmploymentStatus, StatedMonthlyIncome, TotalProsperLoans, LoanOriginalAmount, LoanOriginationDate,LoanOriginationQuarter, Recommendations and Investors)\n",
    "\n",
    "### What is/are the main feature(s) of interest in your dataset?\n",
    "\n",
    "> I'm most interested in figuring out What features affect a loan’s outcome. I am also interesed on finding if there are differences between loans depending on how large the original loan amount was.\n",
    "\n",
    "### What features in the dataset do you think will help support your investigation into your feature(s) of interest?\n",
    "\n",
    "> I think the `LoanOriginalAmount` feature in the dataset will support my investigation on finding if there are differences between loans depending on how large the original loan amount was. Furthermore, the `LoanStatus` feature among others will also support my investigation."
   ]
  },
  {
   "cell_type": "markdown",
   "metadata": {},
   "source": [
    "## Univariate Exploration\n",
    "\n",
    "> In this section, investigate distributions of individual variables. If\n",
    "you see unusual points or outliers, take a deeper look to clean things up\n",
    "and prepare yourself to look at relationships between variables.\n",
    "\n",
    "\n",
    "> **Rubric Tip**: The project (Parts I alone) should have at least 15 visualizations distributed over univariate, bivariate, and multivariate plots to explore many relationships in the data set.  Use reasoning to justify the flow of the exploration.\n",
    "\n",
    "\n",
    "\n",
    ">**Rubric Tip**: Use the \"Question-Visualization-Observations\" framework  throughout the exploration. This framework involves **asking a question from the data, creating a visualization to find answers, and then recording observations after each visualisation.** \n"
   ]
  },
  {
   "cell_type": "markdown",
   "metadata": {},
   "source": [
    "## Univariate Exploration\n",
    "\n",
    "> In this section, I will investigate the distributions of individual variables.\n",
    "\n",
    ">**The framework**: I will use the \"Question --> Visualization --> Observations\" framework  throughout the exploration.\n"
   ]
  },
  {
   "cell_type": "markdown",
   "metadata": {},
   "source": [
    "##### 1. What is the Employment status of the borrowers?"
   ]
  },
  {
   "cell_type": "code",
   "execution_count": 17,
   "metadata": {},
   "outputs": [],
   "source": [
    "#This is a color I select from color_palette() method of seaborn to be used on some charts\n",
    "mycolor=sb.color_palette()[3]"
   ]
  },
  {
   "cell_type": "code",
   "execution_count": 18,
   "metadata": {},
   "outputs": [
    {
     "data": {
      "text/plain": [
       "Text(0.5, 1.0, 'Employment Status among the Borrowers')"
      ]
     },
     "execution_count": 18,
     "metadata": {},
     "output_type": "execute_result"
    },
    {
     "data": {
      "image/png": "[encoded data removed]",
      "text/plain": [
       "<Figure size 576x360 with 1 Axes>"
      ]
     },
     "metadata": {
      "needs_background": "light"
     },
     "output_type": "display_data"
    }
   ],
   "source": [
    "# Visualing the employment status of the borrowers using bar chart\n",
    "plt.figure(figsize=[8, 5])\n",
    "sb.countplot(data = target_df, x = 'EmploymentStatus', color = mycolor);\n",
    "plt.xticks(rotation = 90);\n",
    "plt.title('Employment Status among the Borrowers')"
   ]
  },
  {
   "cell_type": "markdown",
   "metadata": {},
   "source": [
    "##### My Observation (s)\n",
    "\n",
    "- Majority of borrowers are Employed\n",
    "- The least number of borrowers fall between the **Not Employed** and **Retired** categories"
   ]
  },
  {
   "cell_type": "markdown",
   "metadata": {},
   "source": [
    "##### 2. What is the Loan  status of the borrowers?"
   ]
  },
  {
   "cell_type": "code",
   "execution_count": 19,
   "metadata": {},
   "outputs": [
    {
     "data": {
      "text/plain": [
       "Text(0.5, 1.0, 'Loan Status among the Borrowers')"
      ]
     },
     "execution_count": 19,
     "metadata": {},
     "output_type": "execute_result"
    },
    {
     "data": {
      "image/png": "[encoded data removed]",
      "text/plain": [
       "<Figure size 576x360 with 1 Axes>"
      ]
     },
     "metadata": {
      "needs_background": "light"
     },
     "output_type": "display_data"
    }
   ],
   "source": [
    "# Visualing the loan status of the borrowers using bar chart\n",
    "plt.figure(figsize=[8, 5])\n",
    "sb.countplot(data = target_df, x = 'LoanStatus', color = mycolor);\n",
    "plt.xticks(rotation = 90);\n",
    "plt.title('Loan Status among the Borrowers')"
   ]
  },
  {
   "cell_type": "markdown",
   "metadata": {},
   "source": [
    "##### My Observation (s)\n",
    "\n",
    "- The loan status is mostly **Current**\n",
    "- After **Current** status of the loan, the second frequent Status is **Completed**\n",
    "- The *Past Due* loans are categorized based on how long is the due."
   ]
  },
  {
   "cell_type": "markdown",
   "metadata": {},
   "source": [
    "##### 3. How is the Stated Monthly Income of borrowers"
   ]
  },
  {
   "cell_type": "code",
   "execution_count": 23,
   "metadata": {
    "scrolled": true
   },
   "outputs": [
    {
     "data": {
      "text/plain": [
       "Text(0.5, 1.0, 'Stated Monthly Income')"
      ]
     },
     "execution_count": 23,
     "metadata": {},
     "output_type": "execute_result"
    },
    {
     "data": {
      "image/png": "[encoded data removed]",
      "text/plain": [
       "<Figure size 576x360 with 1 Axes>"
      ]
     },
     "metadata": {
      "needs_background": "light"
     },
     "output_type": "display_data"
    }
   ],
   "source": [
    "#In here, I am checking to see the performance of monthly income of the borrowers\n",
    "plt.figure(figsize=[8, 5])\n",
    "plt.hist(data=target_df, x='StatedMonthlyIncome', bins=1000, color = mycolor);\n",
    "plt.xlabel('Income')\n",
    "plt.ylabel('Count')\n",
    "plt.title('Stated Monthly Income')"
   ]
  },
  {
   "cell_type": "markdown",
   "metadata": {},
   "source": [
    "**Opps!** What a skewed chart. This is unusual, the chart is skewed to the right. Hence I will take a deeper look into it to clean things up."
   ]
  },
  {
   "cell_type": "code",
   "execution_count": 24,
   "metadata": {},
   "outputs": [
    {
     "data": {
      "text/plain": [
       "428"
      ]
     },
     "execution_count": 24,
     "metadata": {},
     "output_type": "execute_result"
    }
   ],
   "source": [
    "#Going deep into the feature of the data to find something\n",
    "income_std = target_df['StatedMonthlyIncome'].std() #Standard deviation of the variable\n",
    "income_mean = target_df['StatedMonthlyIncome'].mean() #Mean of the variable\n",
    "boundary = income_mean + income_std * 3               #Setting boundary\n",
    "len(target_df[target_df['StatedMonthlyIncome'] >= boundary]) #Checking the number of observation greater than the boundary"
   ]
  },
  {
   "cell_type": "markdown",
   "metadata": {},
   "source": [
    "##### My Observation (s)\n",
    "\n",
    "- The chart is skewed to the right. And difficult to visualize from the view.\n",
    "- After taken a deeper look into it, I found there are **428 Outliers**"
   ]
  },
  {
   "cell_type": "markdown",
   "metadata": {},
   "source": [
    "##### 4. Zooming Stated Monthly Income of borrowers"
   ]
  },
  {
   "cell_type": "code",
   "execution_count": 25,
   "metadata": {},
   "outputs": [
    {
     "data": {
      "image/png": "[encoded data removed]",
      "text/plain": [
       "<Figure size 576x360 with 1 Axes>"
      ]
     },
     "metadata": {
      "needs_background": "light"
     },
     "output_type": "display_data"
    }
   ],
   "source": [
    "#In here, I am checking to see the monthly income of the borrowers\n",
    "plt.figure(figsize=[8, 5])\n",
    "plt.hist(data=target_df, x='StatedMonthlyIncome', bins=1000, color = mycolor);\n",
    "plt.title('Zoomed Stated Monthly Income')\n",
    "plt.xlabel('Income')\n",
    "plt.ylabel('Count')\n",
    "plt.xlim(0, boundary);"
   ]
  },
  {
   "cell_type": "markdown",
   "metadata": {},
   "source": [
    "##### My Observation (s)\n",
    "\n",
    "- After zooming the chart, the chart still has a noticeable skew. Rightly skewed."
   ]
  },
  {
   "cell_type": "markdown",
   "metadata": {},
   "source": [
    "##### 5. Whats the performance of the length of the loan in months"
   ]
  },
  {
   "cell_type": "markdown",
   "metadata": {},
   "source": [
    "In this,I will use pie chart to depict the length of loans by term."
   ]
  },
  {
   "cell_type": "code",
   "execution_count": 26,
   "metadata": {},
   "outputs": [
    {
     "data": {
      "text/plain": [
       "36    87778\n",
       "60    24545\n",
       "12     1614\n",
       "Name: Term, dtype: int64"
      ]
     },
     "execution_count": 26,
     "metadata": {},
     "output_type": "execute_result"
    }
   ],
   "source": [
    "# Count the frequency of unique values in the `Term` column of target_df dataframe. \n",
    "# By default, returns the decreasing order of the frequency\n",
    "term_count=target_df.Term.value_counts()\n",
    "term_count"
   ]
  },
  {
   "cell_type": "markdown",
   "metadata": {},
   "source": [
    "**Justification:** Even though a bar chart is usually more versatile and should be a preferred choice for exploring qualitative variables, that's not to say that pie chart should not be used however.  I choose to use the pie chart keeping in mind some guidlines taught in the lessons, making sure that:\n",
    "- Showing how the loan is broken down into parts (terms)\n",
    "- Knowing that the slices are not much, they are in small number (there are only 3 terms)."
   ]
  },
  {
   "cell_type": "code",
   "execution_count": 27,
   "metadata": {
    "scrolled": true
   },
   "outputs": [
    {
     "data": {
      "image/png": "[encoded data removed]",
      "text/plain": [
       "<Figure size 576x360 with 1 Axes>"
      ]
     },
     "metadata": {},
     "output_type": "display_data"
    }
   ],
   "source": [
    "# create a pie plot of the Term\n",
    "#Clockwise\n",
    "plt.figure(figsize=[8, 5])\n",
    "plt.title('Loan Term')\n",
    "plt.pie(term_count, labels = term_count.index, startangle = 90, counterclock = False);"
   ]
  },
  {
   "cell_type": "markdown",
   "metadata": {},
   "source": [
    "##### My Observation (s)\n",
    "\n",
    "- The largest portion of the Pie chart has a term of 3 years (36 months)\n",
    "- The least of the loans' term is 1 year (12 months)"
   ]
  },
  {
   "cell_type": "markdown",
   "metadata": {},
   "source": [
    "### Discuss the distribution(s) of your variable(s) of interest. Were there any unusual points? Did you need to perform any transformations?\n",
    "\n",
    "> Distribution of monthly stated income is very awkward: with a hundreds of outliers and very large range but still it was right skew. The majority of borrowers are employed and all other categories as small part of borrowers and most of the loans in the data set are actually current loans as well.\n",
    "\n",
    "### Of the features you investigated, were there any unusual distributions? Did you perform any operations on the data to tidy, adjust, or change the form of the data? If so, why did you do this?\n",
    "\n",
    "> The majority of loans are actually current loans. Since our main goal is to define driving factors of outcome of loan we are not interested in any current loans."
   ]
  },
  {
   "cell_type": "markdown",
   "metadata": {},
   "source": [
    "## Bivariate Exploration\n",
    "\n",
    "> In this section, investigate relationships between pairs of variables in your\n",
    "data. Make sure the variables that you cover here have been introduced in some\n",
    "fashion in the previous section (univariate exploration).\n"
   ]
  },
  {
   "cell_type": "markdown",
   "metadata": {},
   "source": [
    "## Bivariate Exploration\n",
    "\n",
    "> In this section, I will investigate relationships between pairs of variables in my data\n",
    "data.\n",
    "\n",
    ">**The framework**: I use the \"Question-Visualization-Observations\" framework  throughout the exploration."
   ]
  },
  {
   "cell_type": "code",
   "execution_count": 29,
   "metadata": {},
   "outputs": [],
   "source": [
    "#Making a copy of my data\n",
    "target_df2=target_df.copy()"
   ]
  },
  {
   "cell_type": "markdown",
   "metadata": {},
   "source": [
    "**Justification:** To make sure my data is not altered for the above already visualized features and findings, I make a copy of the data for better exploring in this section and forward."
   ]
  },
  {
   "cell_type": "code",
   "execution_count": 30,
   "metadata": {},
   "outputs": [
    {
     "data": {
      "text/plain": [
       "(113937, 13)"
      ]
     },
     "execution_count": 30,
     "metadata": {},
     "output_type": "execute_result"
    }
   ],
   "source": [
    "#Displaying the shape of my data\n",
    "target_df2.shape"
   ]
  },
  {
   "cell_type": "code",
   "execution_count": 31,
   "metadata": {},
   "outputs": [
    {
     "data": {
      "text/html": [
       "<div>\n",
       "<style scoped>\n",
       "    .dataframe tbody tr th:only-of-type {\n",
       "        vertical-align: middle;\n",
       "    }\n",
       "\n",
       "    .dataframe tbody tr th {\n",
       "        vertical-align: top;\n",
       "    }\n",
       "\n",
       "    .dataframe thead th {\n",
       "        text-align: right;\n",
       "    }\n",
       "</style>\n",
       "<table border=\"1\" class=\"dataframe\">\n",
       "  <thead>\n",
       "    <tr style=\"text-align: right;\">\n",
       "      <th></th>\n",
       "      <th>MemberKey</th>\n",
       "      <th>Term</th>\n",
       "      <th>LoanStatus</th>\n",
       "      <th>BorrowerRate</th>\n",
       "      <th>ListingCategory (numeric)</th>\n",
       "      <th>EmploymentStatus</th>\n",
       "      <th>StatedMonthlyIncome</th>\n",
       "      <th>TotalProsperLoans</th>\n",
       "      <th>LoanOriginalAmount</th>\n",
       "      <th>LoanOriginationDate</th>\n",
       "      <th>LoanOriginationQuarter</th>\n",
       "      <th>Recommendations</th>\n",
       "      <th>Investors</th>\n",
       "    </tr>\n",
       "  </thead>\n",
       "  <tbody>\n",
       "    <tr>\n",
       "      <th>73894</th>\n",
       "      <td>58EC33768096833144BE33C</td>\n",
       "      <td>36</td>\n",
       "      <td>Completed</td>\n",
       "      <td>0.0800</td>\n",
       "      <td>0</td>\n",
       "      <td>Not available</td>\n",
       "      <td>9166.666667</td>\n",
       "      <td>NaN</td>\n",
       "      <td>2550</td>\n",
       "      <td>2006-12-26 00:00:00</td>\n",
       "      <td>Q4 2006</td>\n",
       "      <td>0</td>\n",
       "      <td>28</td>\n",
       "    </tr>\n",
       "    <tr>\n",
       "      <th>49014</th>\n",
       "      <td>F63B3574292801594168F64</td>\n",
       "      <td>36</td>\n",
       "      <td>Current</td>\n",
       "      <td>0.2712</td>\n",
       "      <td>1</td>\n",
       "      <td>Employed</td>\n",
       "      <td>1916.666667</td>\n",
       "      <td>NaN</td>\n",
       "      <td>3000</td>\n",
       "      <td>2013-04-08 00:00:00</td>\n",
       "      <td>Q2 2013</td>\n",
       "      <td>0</td>\n",
       "      <td>50</td>\n",
       "    </tr>\n",
       "    <tr>\n",
       "      <th>62497</th>\n",
       "      <td>8D113578910525627189FCB</td>\n",
       "      <td>60</td>\n",
       "      <td>Current</td>\n",
       "      <td>0.1269</td>\n",
       "      <td>1</td>\n",
       "      <td>Employed</td>\n",
       "      <td>20000.000000</td>\n",
       "      <td>NaN</td>\n",
       "      <td>35000</td>\n",
       "      <td>2013-05-16 00:00:00</td>\n",
       "      <td>Q2 2013</td>\n",
       "      <td>0</td>\n",
       "      <td>1</td>\n",
       "    </tr>\n",
       "    <tr>\n",
       "      <th>91616</th>\n",
       "      <td>351F3695850021081E9FFAF</td>\n",
       "      <td>36</td>\n",
       "      <td>Current</td>\n",
       "      <td>0.1399</td>\n",
       "      <td>1</td>\n",
       "      <td>Self-employed</td>\n",
       "      <td>6250.000000</td>\n",
       "      <td>NaN</td>\n",
       "      <td>15000</td>\n",
       "      <td>2013-11-08 00:00:00</td>\n",
       "      <td>Q4 2013</td>\n",
       "      <td>0</td>\n",
       "      <td>1</td>\n",
       "    </tr>\n",
       "    <tr>\n",
       "      <th>103670</th>\n",
       "      <td>FCD433769905332867FD36F</td>\n",
       "      <td>36</td>\n",
       "      <td>Defaulted</td>\n",
       "      <td>0.1900</td>\n",
       "      <td>1</td>\n",
       "      <td>Full-time</td>\n",
       "      <td>3416.666667</td>\n",
       "      <td>1.0</td>\n",
       "      <td>18000</td>\n",
       "      <td>2008-08-07 00:00:00</td>\n",
       "      <td>Q3 2008</td>\n",
       "      <td>1</td>\n",
       "      <td>277</td>\n",
       "    </tr>\n",
       "    <tr>\n",
       "      <th>43185</th>\n",
       "      <td>08FE357807967448938632C</td>\n",
       "      <td>36</td>\n",
       "      <td>Current</td>\n",
       "      <td>0.1824</td>\n",
       "      <td>1</td>\n",
       "      <td>Employed</td>\n",
       "      <td>4750.000000</td>\n",
       "      <td>NaN</td>\n",
       "      <td>12000</td>\n",
       "      <td>2013-05-09 00:00:00</td>\n",
       "      <td>Q2 2013</td>\n",
       "      <td>0</td>\n",
       "      <td>1</td>\n",
       "    </tr>\n",
       "    <tr>\n",
       "      <th>112602</th>\n",
       "      <td>637D36962542276527FB40B</td>\n",
       "      <td>36</td>\n",
       "      <td>Current</td>\n",
       "      <td>0.1520</td>\n",
       "      <td>1</td>\n",
       "      <td>Employed</td>\n",
       "      <td>5833.333333</td>\n",
       "      <td>NaN</td>\n",
       "      <td>9000</td>\n",
       "      <td>2013-11-06 00:00:00</td>\n",
       "      <td>Q4 2013</td>\n",
       "      <td>0</td>\n",
       "      <td>1</td>\n",
       "    </tr>\n",
       "    <tr>\n",
       "      <th>78165</th>\n",
       "      <td>5BB335455238966706AC6D5</td>\n",
       "      <td>60</td>\n",
       "      <td>Chargedoff</td>\n",
       "      <td>0.2085</td>\n",
       "      <td>13</td>\n",
       "      <td>Employed</td>\n",
       "      <td>3000.000000</td>\n",
       "      <td>NaN</td>\n",
       "      <td>9500</td>\n",
       "      <td>2012-05-08 00:00:00</td>\n",
       "      <td>Q2 2012</td>\n",
       "      <td>0</td>\n",
       "      <td>177</td>\n",
       "    </tr>\n",
       "    <tr>\n",
       "      <th>68153</th>\n",
       "      <td>2582357231754863006B61F</td>\n",
       "      <td>36</td>\n",
       "      <td>Current</td>\n",
       "      <td>0.2786</td>\n",
       "      <td>1</td>\n",
       "      <td>Employed</td>\n",
       "      <td>2583.333333</td>\n",
       "      <td>NaN</td>\n",
       "      <td>4000</td>\n",
       "      <td>2013-03-06 00:00:00</td>\n",
       "      <td>Q1 2013</td>\n",
       "      <td>0</td>\n",
       "      <td>68</td>\n",
       "    </tr>\n",
       "    <tr>\n",
       "      <th>41237</th>\n",
       "      <td>26A93578101232852E283DF</td>\n",
       "      <td>60</td>\n",
       "      <td>Current</td>\n",
       "      <td>0.2432</td>\n",
       "      <td>1</td>\n",
       "      <td>Employed</td>\n",
       "      <td>1750.000000</td>\n",
       "      <td>NaN</td>\n",
       "      <td>4000</td>\n",
       "      <td>2013-05-21 00:00:00</td>\n",
       "      <td>Q2 2013</td>\n",
       "      <td>0</td>\n",
       "      <td>1</td>\n",
       "    </tr>\n",
       "    <tr>\n",
       "      <th>22029</th>\n",
       "      <td>04F33702118888527C72CC1</td>\n",
       "      <td>36</td>\n",
       "      <td>Current</td>\n",
       "      <td>0.1099</td>\n",
       "      <td>1</td>\n",
       "      <td>Employed</td>\n",
       "      <td>4916.666667</td>\n",
       "      <td>NaN</td>\n",
       "      <td>15000</td>\n",
       "      <td>2014-02-04 00:00:00</td>\n",
       "      <td>Q1 2014</td>\n",
       "      <td>0</td>\n",
       "      <td>280</td>\n",
       "    </tr>\n",
       "    <tr>\n",
       "      <th>112487</th>\n",
       "      <td>FCB435103596627985D6A91</td>\n",
       "      <td>36</td>\n",
       "      <td>Current</td>\n",
       "      <td>0.2599</td>\n",
       "      <td>6</td>\n",
       "      <td>Employed</td>\n",
       "      <td>2200.000000</td>\n",
       "      <td>NaN</td>\n",
       "      <td>2000</td>\n",
       "      <td>2011-03-21 00:00:00</td>\n",
       "      <td>Q1 2011</td>\n",
       "      <td>0</td>\n",
       "      <td>24</td>\n",
       "    </tr>\n",
       "    <tr>\n",
       "      <th>94947</th>\n",
       "      <td>97393402605406546AFF616</td>\n",
       "      <td>60</td>\n",
       "      <td>Current</td>\n",
       "      <td>0.2962</td>\n",
       "      <td>1</td>\n",
       "      <td>Full-time</td>\n",
       "      <td>4941.000000</td>\n",
       "      <td>3.0</td>\n",
       "      <td>4000</td>\n",
       "      <td>2013-01-16 00:00:00</td>\n",
       "      <td>Q1 2013</td>\n",
       "      <td>3</td>\n",
       "      <td>16</td>\n",
       "    </tr>\n",
       "    <tr>\n",
       "      <th>13835</th>\n",
       "      <td>D3B43497221607973B37205</td>\n",
       "      <td>36</td>\n",
       "      <td>Current</td>\n",
       "      <td>0.2786</td>\n",
       "      <td>7</td>\n",
       "      <td>Employed</td>\n",
       "      <td>4500.000000</td>\n",
       "      <td>1.0</td>\n",
       "      <td>3500</td>\n",
       "      <td>2013-04-19 00:00:00</td>\n",
       "      <td>Q2 2013</td>\n",
       "      <td>0</td>\n",
       "      <td>30</td>\n",
       "    </tr>\n",
       "    <tr>\n",
       "      <th>12197</th>\n",
       "      <td>45143550868233441882414</td>\n",
       "      <td>36</td>\n",
       "      <td>Current</td>\n",
       "      <td>0.2099</td>\n",
       "      <td>14</td>\n",
       "      <td>Employed</td>\n",
       "      <td>8333.333333</td>\n",
       "      <td>NaN</td>\n",
       "      <td>2500</td>\n",
       "      <td>2012-07-03 00:00:00</td>\n",
       "      <td>Q3 2012</td>\n",
       "      <td>0</td>\n",
       "      <td>9</td>\n",
       "    </tr>\n",
       "    <tr>\n",
       "      <th>30914</th>\n",
       "      <td>669B3704593022356743CE7</td>\n",
       "      <td>36</td>\n",
       "      <td>Current</td>\n",
       "      <td>0.2624</td>\n",
       "      <td>1</td>\n",
       "      <td>Employed</td>\n",
       "      <td>3333.333333</td>\n",
       "      <td>NaN</td>\n",
       "      <td>10000</td>\n",
       "      <td>2014-01-28 00:00:00</td>\n",
       "      <td>Q1 2014</td>\n",
       "      <td>0</td>\n",
       "      <td>1</td>\n",
       "    </tr>\n",
       "    <tr>\n",
       "      <th>11038</th>\n",
       "      <td>24B3369342438216381DD81</td>\n",
       "      <td>36</td>\n",
       "      <td>Current</td>\n",
       "      <td>0.2769</td>\n",
       "      <td>1</td>\n",
       "      <td>Employed</td>\n",
       "      <td>4166.666667</td>\n",
       "      <td>NaN</td>\n",
       "      <td>7000</td>\n",
       "      <td>2013-10-11 00:00:00</td>\n",
       "      <td>Q4 2013</td>\n",
       "      <td>0</td>\n",
       "      <td>1</td>\n",
       "    </tr>\n",
       "    <tr>\n",
       "      <th>51508</th>\n",
       "      <td>2157353237602105925D3CF</td>\n",
       "      <td>36</td>\n",
       "      <td>Completed</td>\n",
       "      <td>0.2561</td>\n",
       "      <td>7</td>\n",
       "      <td>Employed</td>\n",
       "      <td>8250.000000</td>\n",
       "      <td>NaN</td>\n",
       "      <td>9000</td>\n",
       "      <td>2011-12-15 00:00:00</td>\n",
       "      <td>Q4 2011</td>\n",
       "      <td>0</td>\n",
       "      <td>83</td>\n",
       "    </tr>\n",
       "    <tr>\n",
       "      <th>70065</th>\n",
       "      <td>906D35218846517341874FA</td>\n",
       "      <td>36</td>\n",
       "      <td>Current</td>\n",
       "      <td>0.1799</td>\n",
       "      <td>1</td>\n",
       "      <td>Employed</td>\n",
       "      <td>7083.333333</td>\n",
       "      <td>NaN</td>\n",
       "      <td>10000</td>\n",
       "      <td>2011-09-28 00:00:00</td>\n",
       "      <td>Q3 2011</td>\n",
       "      <td>0</td>\n",
       "      <td>110</td>\n",
       "    </tr>\n",
       "    <tr>\n",
       "      <th>27202</th>\n",
       "      <td>00F33531365230742D39B34</td>\n",
       "      <td>36</td>\n",
       "      <td>Completed</td>\n",
       "      <td>0.2599</td>\n",
       "      <td>7</td>\n",
       "      <td>Employed</td>\n",
       "      <td>9583.333333</td>\n",
       "      <td>NaN</td>\n",
       "      <td>3000</td>\n",
       "      <td>2011-11-22 00:00:00</td>\n",
       "      <td>Q4 2011</td>\n",
       "      <td>0</td>\n",
       "      <td>15</td>\n",
       "    </tr>\n",
       "  </tbody>\n",
       "</table>\n",
       "</div>"
      ],
      "text/plain": [
       "                      MemberKey  Term  LoanStatus  BorrowerRate  \\\n",
       "73894   58EC33768096833144BE33C    36   Completed        0.0800   \n",
       "49014   F63B3574292801594168F64    36     Current        0.2712   \n",
       "62497   8D113578910525627189FCB    60     Current        0.1269   \n",
       "91616   351F3695850021081E9FFAF    36     Current        0.1399   \n",
       "103670  FCD433769905332867FD36F    36   Defaulted        0.1900   \n",
       "43185   08FE357807967448938632C    36     Current        0.1824   \n",
       "112602  637D36962542276527FB40B    36     Current        0.1520   \n",
       "78165   5BB335455238966706AC6D5    60  Chargedoff        0.2085   \n",
       "68153   2582357231754863006B61F    36     Current        0.2786   \n",
       "41237   26A93578101232852E283DF    60     Current        0.2432   \n",
       "22029   04F33702118888527C72CC1    36     Current        0.1099   \n",
       "112487  FCB435103596627985D6A91    36     Current        0.2599   \n",
       "94947   97393402605406546AFF616    60     Current        0.2962   \n",
       "13835   D3B43497221607973B37205    36     Current        0.2786   \n",
       "12197   45143550868233441882414    36     Current        0.2099   \n",
       "30914   669B3704593022356743CE7    36     Current        0.2624   \n",
       "11038   24B3369342438216381DD81    36     Current        0.2769   \n",
       "51508   2157353237602105925D3CF    36   Completed        0.2561   \n",
       "70065   906D35218846517341874FA    36     Current        0.1799   \n",
       "27202   00F33531365230742D39B34    36   Completed        0.2599   \n",
       "\n",
       "        ListingCategory (numeric) EmploymentStatus  StatedMonthlyIncome  \\\n",
       "73894                           0    Not available          9166.666667   \n",
       "49014                           1         Employed          1916.666667   \n",
       "62497                           1         Employed         20000.000000   \n",
       "91616                           1    Self-employed          6250.000000   \n",
       "103670                          1        Full-time          3416.666667   \n",
       "43185                           1         Employed          4750.000000   \n",
       "112602                          1         Employed          5833.333333   \n",
       "78165                          13         Employed          3000.000000   \n",
       "68153                           1         Employed          2583.333333   \n",
       "41237                           1         Employed          1750.000000   \n",
       "22029                           1         Employed          4916.666667   \n",
       "112487                          6         Employed          2200.000000   \n",
       "94947                           1        Full-time          4941.000000   \n",
       "13835                           7         Employed          4500.000000   \n",
       "12197                          14         Employed          8333.333333   \n",
       "30914                           1         Employed          3333.333333   \n",
       "11038                           1         Employed          4166.666667   \n",
       "51508                           7         Employed          8250.000000   \n",
       "70065                           1         Employed          7083.333333   \n",
       "27202                           7         Employed          9583.333333   \n",
       "\n",
       "        TotalProsperLoans  LoanOriginalAmount  LoanOriginationDate  \\\n",
       "73894                 NaN                2550  2006-12-26 00:00:00   \n",
       "49014                 NaN                3000  2013-04-08 00:00:00   \n",
       "62497                 NaN               35000  2013-05-16 00:00:00   \n",
       "91616                 NaN               15000  2013-11-08 00:00:00   \n",
       "103670                1.0               18000  2008-08-07 00:00:00   \n",
       "43185                 NaN               12000  2013-05-09 00:00:00   \n",
       "112602                NaN                9000  2013-11-06 00:00:00   \n",
       "78165                 NaN                9500  2012-05-08 00:00:00   \n",
       "68153                 NaN                4000  2013-03-06 00:00:00   \n",
       "41237                 NaN                4000  2013-05-21 00:00:00   \n",
       "22029                 NaN               15000  2014-02-04 00:00:00   \n",
       "112487                NaN                2000  2011-03-21 00:00:00   \n",
       "94947                 3.0                4000  2013-01-16 00:00:00   \n",
       "13835                 1.0                3500  2013-04-19 00:00:00   \n",
       "12197                 NaN                2500  2012-07-03 00:00:00   \n",
       "30914                 NaN               10000  2014-01-28 00:00:00   \n",
       "11038                 NaN                7000  2013-10-11 00:00:00   \n",
       "51508                 NaN                9000  2011-12-15 00:00:00   \n",
       "70065                 NaN               10000  2011-09-28 00:00:00   \n",
       "27202                 NaN                3000  2011-11-22 00:00:00   \n",
       "\n",
       "       LoanOriginationQuarter  Recommendations  Investors  \n",
       "73894                 Q4 2006                0         28  \n",
       "49014                 Q2 2013                0         50  \n",
       "62497                 Q2 2013                0          1  \n",
       "91616                 Q4 2013                0          1  \n",
       "103670                Q3 2008                1        277  \n",
       "43185                 Q2 2013                0          1  \n",
       "112602                Q4 2013                0          1  \n",
       "78165                 Q2 2012                0        177  \n",
       "68153                 Q1 2013                0         68  \n",
       "41237                 Q2 2013                0          1  \n",
       "22029                 Q1 2014                0        280  \n",
       "112487                Q1 2011                0         24  \n",
       "94947                 Q1 2013                3         16  \n",
       "13835                 Q2 2013                0         30  \n",
       "12197                 Q3 2012                0          9  \n",
       "30914                 Q1 2014                0          1  \n",
       "11038                 Q4 2013                0          1  \n",
       "51508                 Q4 2011                0         83  \n",
       "70065                 Q3 2011                0        110  \n",
       "27202                 Q4 2011                0         15  "
      ]
     },
     "execution_count": 31,
     "metadata": {},
     "output_type": "execute_result"
    }
   ],
   "source": [
    "#Displaying 20 random sample of my data\n",
    "target_df2.sample(20)"
   ]
  },
  {
   "cell_type": "code",
   "execution_count": 32,
   "metadata": {},
   "outputs": [
    {
     "data": {
      "text/plain": [
       "Completed    38074\n",
       "Defaulted    17010\n",
       "Name: LoanStatus, dtype: int64"
      ]
     },
     "execution_count": 32,
     "metadata": {},
     "output_type": "execute_result"
    }
   ],
   "source": [
    "#Reframing the data structure for proper plotting\n",
    "condition = (target_df2['LoanStatus'] == 'Completed') | (target_df2['LoanStatus'] == 'Defaulted') |\\\n",
    "                  (target_df2['LoanStatus'] == 'Chargedoff')\n",
    "target_df2 = target_df2[condition]\n",
    "\n",
    "def change_to_defaulted(row):\n",
    "    if row['LoanStatus'] == 'Chargedoff':\n",
    "        return 'Defaulted'\n",
    "    else:\n",
    "        return row['LoanStatus']\n",
    "    \n",
    "target_df2['LoanStatus'] = target_df2.apply(change_to_defaulted, axis=1)\n",
    "target_df2['LoanStatus'].value_counts()"
   ]
  },
  {
   "cell_type": "markdown",
   "metadata": {},
   "source": [
    "**NB:** After reframing my dataset I got **38,074** completed loans and **17,010** defaulted loans."
   ]
  },
  {
   "cell_type": "code",
   "execution_count": 33,
   "metadata": {},
   "outputs": [
    {
     "data": {
      "text/plain": [
       "Other                 28177\n",
       "Debt Consolidation    17867\n",
       "Business               4257\n",
       "Home Improvement       3244\n",
       "Auto                   1539\n",
       "Name: ListingCategory (numeric), dtype: int64"
      ]
     },
     "execution_count": 33,
     "metadata": {},
     "output_type": "execute_result"
    }
   ],
   "source": [
    "#Changing ListingCategory feature to Categorical\n",
    "categories = {1: 'Debt Consolidation', 2: 'Home Improvement', 3: 'Business', 6: 'Auto', 7: 'Other'}\n",
    "def reduce_categorie(row):\n",
    "    loan_category = row['ListingCategory (numeric)']\n",
    "    if  loan_category in categories:\n",
    "        return categories[loan_category]\n",
    "    else:\n",
    "        return categories[7]\n",
    "    \n",
    "target_df2['ListingCategory (numeric)'] = target_df2.apply(reduce_categorie, axis=1)\n",
    "target_df2['ListingCategory (numeric)'].value_counts()"
   ]
  },
  {
   "cell_type": "markdown",
   "metadata": {},
   "source": [
    "Variable `Listing Category` is set up as numeric and most of the values have very **low frequency**. to simply visualize the data I have change it to **categorical** and reduce the number of categories. "
   ]
  },
  {
   "cell_type": "markdown",
   "metadata": {},
   "source": [
    "##### 6. Whats the relationship between Loan Status and the Total Prosper Loans?"
   ]
  },
  {
   "cell_type": "markdown",
   "metadata": {},
   "source": [
    "My curiosity is all about *Is there any relationship between the `TotalProsperLoans` and `LoanStatus`*"
   ]
  },
  {
   "cell_type": "code",
   "execution_count": 34,
   "metadata": {
    "scrolled": false
   },
   "outputs": [
    {
     "data": {
      "text/plain": [
       "<AxesSubplot:xlabel='LoanStatus', ylabel='count'>"
      ]
     },
     "execution_count": 34,
     "metadata": {},
     "output_type": "execute_result"
    },
    {
     "data": {
      "image/png": "[encoded data removed]",
      "text/plain": [
       "<Figure size 576x360 with 1 Axes>"
      ]
     },
     "metadata": {
      "needs_background": "light"
     },
     "output_type": "display_data"
    }
   ],
   "source": [
    "plt.figure(figsize = [8, 5])\n",
    "sb.countplot(data = target_df2, x = 'LoanStatus', hue = 'TotalProsperLoans', palette = 'Blues')"
   ]
  },
  {
   "cell_type": "markdown",
   "metadata": {},
   "source": [
    "##### My Observation (s)\n",
    "\n",
    "- Borrowers that have no prior loans are the one that completed their loans the most."
   ]
  },
  {
   "cell_type": "markdown",
   "metadata": {},
   "source": [
    "##### 7. Whats the relationship between Loan Status and the Listing Category?"
   ]
  },
  {
   "cell_type": "code",
   "execution_count": 35,
   "metadata": {},
   "outputs": [
    {
     "data": {
      "image/png": "[encoded data removed]",
      "text/plain": [
       "<Figure size 576x360 with 1 Axes>"
      ]
     },
     "metadata": {
      "needs_background": "light"
     },
     "output_type": "display_data"
    }
   ],
   "source": [
    "#Plotting the relationship between the two features\n",
    "plt.figure(figsize = [8, 5])\n",
    "sb.countplot(data = target_df2, x = 'LoanStatus', hue = 'ListingCategory (numeric)', palette = 'Blues');"
   ]
  },
  {
   "cell_type": "markdown",
   "metadata": {},
   "source": [
    "##### My Observation (s)\n",
    "\n",
    "- In both the graphs, **Other** category have the highest frequency\n",
    "- **Dept Consolidation** category is the second frequent in both the graphs"
   ]
  },
  {
   "cell_type": "markdown",
   "metadata": {},
   "source": [
    "##### 8. Whats the relationship between Loan Status and the Employment Status?"
   ]
  },
  {
   "cell_type": "code",
   "execution_count": 36,
   "metadata": {},
   "outputs": [
    {
     "data": {
      "image/png": "[encoded data removed]",
      "text/plain": [
       "<Figure size 576x360 with 1 Axes>"
      ]
     },
     "metadata": {
      "needs_background": "light"
     },
     "output_type": "display_data"
    }
   ],
   "source": [
    "#Plotting the relationship between the two features\n",
    "plt.figure(figsize = [8, 5])\n",
    "sb.countplot(data = target_df2, x = 'LoanStatus', hue = 'EmploymentStatus', palette = 'Blues');"
   ]
  },
  {
   "cell_type": "markdown",
   "metadata": {},
   "source": [
    "##### My Observation (s)\n",
    "\n",
    "- In both the graphs, **Full Time** employment status category have the highest frequency.\n",
    "- Unbelievable! The number of retired borrowers who completed their loans is greater than the number of retired borrowers who didn't completed their loans. "
   ]
  },
  {
   "cell_type": "markdown",
   "metadata": {},
   "source": [
    "##### 9. Whats the relationship between Loan Status and the Loan Original Amount?"
   ]
  },
  {
   "cell_type": "code",
   "execution_count": 37,
   "metadata": {
    "scrolled": false
   },
   "outputs": [
    {
     "data": {
      "image/png": "[encoded data removed]",
      "text/plain": [
       "<Figure size 576x360 with 1 Axes>"
      ]
     },
     "metadata": {
      "needs_background": "light"
     },
     "output_type": "display_data"
    }
   ],
   "source": [
    "plt.figure(figsize=[8,5])\n",
    "sb.boxplot(data = target_df2, x = 'LoanStatus', y = 'LoanOriginalAmount', color = mycolor);"
   ]
  },
  {
   "cell_type": "markdown",
   "metadata": {},
   "source": [
    "##### My Observation (s)\n",
    "\n",
    "- As from Above Graph we can state that `defaulted credits` tend to be `smaller` than `completed credits` onces."
   ]
  },
  {
   "cell_type": "markdown",
   "metadata": {},
   "source": [
    "##### 10. Whats the relationship between Listing Category and the Employment Status?"
   ]
  },
  {
   "cell_type": "code",
   "execution_count": 38,
   "metadata": {},
   "outputs": [
    {
     "data": {
      "image/png": "[encoded data removed]",
      "text/plain": [
       "<Figure size 864x720 with 1 Axes>"
      ]
     },
     "metadata": {
      "needs_background": "light"
     },
     "output_type": "display_data"
    }
   ],
   "source": [
    "plt.figure(figsize = [12, 10])\n",
    "sb.countplot(data = target_df2, x = 'ListingCategory (numeric)', hue = 'EmploymentStatus', palette = 'Blues');"
   ]
  },
  {
   "cell_type": "markdown",
   "metadata": {},
   "source": [
    "##### My Observation (s)\n",
    "\n",
    "- Other than the **Other** Listing category which comprises of different Listings the borrower selected, **Debt Consolidation** Listing has the highest frequency of employment status."
   ]
  },
  {
   "cell_type": "markdown",
   "metadata": {},
   "source": [
    "### Talk about some of the relationships you observed in this part of the investigation. How did the feature(s) of interest vary with other features in the dataset?\n",
    "\n",
    "> In Loan status vs Original Loan amount, completed credits tend to be bigger/ greater than defaulted credits onces. Employment status of individuals with lower counts of Listing Category tends to be 'Not employed', 'Retired', 'Not available' or 'Part-time'.\n",
    "\n",
    "### Did you observe any interesting relationships between the other features (not the main feature(s) of interest)?\n",
    "\n",
    "> Borrowers that have no prior loans are the one that completed their loans the most."
   ]
  },
  {
   "cell_type": "markdown",
   "metadata": {},
   "source": [
    "## Multivariate Exploration"
   ]
  },
  {
   "cell_type": "markdown",
   "metadata": {},
   "source": [
    "##### 11. Listing Category, Loan Original Amount and the Loan Status\n",
    "> In this, I want to plot the relationship between Loan `Original Amount`, `Listing Category`, and `Loan Status`. "
   ]
  },
  {
   "cell_type": "code",
   "execution_count": 42,
   "metadata": {
    "scrolled": true
   },
   "outputs": [
    {
     "data": {
      "image/png": "[encoded data removed]",
      "text/plain": [
       "<Figure size 864x360 with 1 Axes>"
      ]
     },
     "metadata": {
      "needs_background": "light"
     },
     "output_type": "display_data"
    }
   ],
   "source": [
    "#Listing, Loan Amount and Loan Status\n",
    "plt.figure(figsize = [12, 5])\n",
    "sb.boxplot(data=target_df2, x='ListingCategory (numeric)', y='LoanOriginalAmount', hue='LoanStatus');"
   ]
  },
  {
   "cell_type": "markdown",
   "metadata": {},
   "source": [
    "##### My Observation (s)\n",
    ">I went with a clustered box plot on this task since there were too many levels to make a clustered violin plot accessible. \n",
    "\n",
    "The kind of relationships I spot in this plot:\n",
    "\n",
    "- The plot shows that in almost all the listings of `Listing Category (numeric)`, borrowers with highest `Loan Original Amount` have a status of Completed loan.\n",
    "\n",
    "* Other than the **Other** Listing category which comprises of different Listings the borrower selected, **Business** Listing has the highest frequency of loan status."
   ]
  },
  {
   "cell_type": "markdown",
   "metadata": {},
   "source": [
    "##### 12. Employment Status, Loan Original Amount and the Loan Status"
   ]
  },
  {
   "cell_type": "code",
   "execution_count": 43,
   "metadata": {},
   "outputs": [
    {
     "data": {
      "image/png": "[encoded data removed]",
      "text/plain": [
       "<Figure size 1008x576 with 1 Axes>"
      ]
     },
     "metadata": {
      "needs_background": "light"
     },
     "output_type": "display_data"
    }
   ],
   "source": [
    "#employment status, Loan Amount and Loan Status\n",
    "plt.figure(figsize = [14, 8])\n",
    "sb.boxplot(data=target_df2, x='EmploymentStatus', y='LoanOriginalAmount', hue='LoanStatus');"
   ]
  },
  {
   "cell_type": "markdown",
   "metadata": {},
   "source": [
    "##### My Observation (s)\n",
    ">I went with a clustered box plot on this task since there were too many levels to make a clustered violin plot accessible. \n",
    "\n",
    "The kind of relationships I spot in this plot:\n",
    "\n",
    "- The plot shows that, Borrowers with *Employed* status tends Complete their loan despite the Loan Original Amount being the highest."
   ]
  },
  {
   "cell_type": "markdown",
   "metadata": {},
   "source": [
    "##### 13. Employment Status, Loan Original Amount and the Loan Status"
   ]
  },
  {
   "cell_type": "code",
   "execution_count": 44,
   "metadata": {},
   "outputs": [
    {
     "data": {
      "image/png": "[encoded data removed]",
      "text/plain": [
       "<Figure size 1008x576 with 1 Axes>"
      ]
     },
     "metadata": {
      "needs_background": "light"
     },
     "output_type": "display_data"
    }
   ],
   "source": [
    "#listing, Loan Amount and Loan Status\n",
    "plt.figure(figsize = [14, 8])\n",
    "sb.violinplot(data=target_df2, x='ListingCategory (numeric)', y='LoanOriginalAmount', hue='LoanStatus');"
   ]
  },
  {
   "cell_type": "markdown",
   "metadata": {},
   "source": [
    "##### My Observation (s)\n",
    "\n",
    "The kind of relationships I spot in this plot:\n",
    "*  Except for Auto, Business and Home Improvement dont have nearly equal mean amoong all of them.\n",
    "*  Business category tend to have larger amount."
   ]
  },
  {
   "cell_type": "markdown",
   "metadata": {},
   "source": [
    "Task 1: Plot the city ('city') vs. highway ('highway') fuel efficiencies (both in mpg) for each vehicle class ('VClass'). Don't forget that vehicle class is an ordinal variable with levels {Minicompact Cars, Subcompact Cars, Compact Cars, Midsize Cars, Large Cars}."
   ]
  },
  {
   "cell_type": "markdown",
   "metadata": {},
   "source": [
    "Due to overplotting, I've taken a faceting approach to this task. There don't seem to be any obvious differences in the main cluster across vehicle classes, except that the minicompact and large sedans' arcs are thinner than the other classes due to lower counts. The faceted plots clearly show that most of the high-efficiency cars are in the mid-size and compact car classes."
   ]
  },
  {
   "cell_type": "code",
   "execution_count": null,
   "metadata": {},
   "outputs": [],
   "source": [
    "def adaptedplot_solution_1():\n",
    "  # data setup\n",
    "  fuel_econ = pd.read_csv('./data/fuel_econ.csv')\n",
    "  sedan_classes = ['Minicompact Cars', 'Subcompact Cars', 'Compact Cars', 'Midsize Cars', 'Large Cars']\n",
    "  pd_ver = pd.__version__.split(\".\")\n",
    "  if (int(pd_ver[0]) > 0) or (int(pd_ver[1]) >= 21): # v0.21 or later\n",
    "    vclasses = pd.api.types.CategoricalDtype(ordered = True, categories = sedan_classes)\n",
    "    fuel_econ['VClass'] = fuel_econ['VClass'].astype(vclasses)\n",
    "  else: # compatibility for v.20\n",
    "    fuel_econ['VClass'] = fuel_econ['VClass'].astype('category', ordered = True, categories = sedan_classes)\n",
    "  # plotting\n",
    "  g = sb.FacetGrid(data = fuel_econ, col = 'VClass', size = 3, col_wrap = 3)\n",
    "  g.map(plt.scatter, 'city', 'highway', alpha = 1/5)"
   ]
  },
  {
   "cell_type": "markdown",
   "metadata": {},
   "source": [
    "##### 14. Employment Status, Loan Original Amount and the Loan Status"
   ]
  },
  {
   "cell_type": "code",
   "execution_count": 158,
   "metadata": {},
   "outputs": [
    {
     "data": {
      "image/png": "[encoded data removed]",
      "text/plain": [
       "<Figure size 1170.12x720 with 5 Axes>"
      ]
     },
     "metadata": {
      "needs_background": "light"
     },
     "output_type": "display_data"
    }
   ],
   "source": [
    "sb.catplot(x = 'EmploymentStatus', hue = 'LoanStatus', col = 'ListingCategory (numeric)',\n",
    "              data = target_df2, kind = 'count', palette = 'Blues', col_wrap = 3);"
   ]
  },
  {
   "cell_type": "markdown",
   "metadata": {},
   "source": [
    "### Talk about some of the relationships you observed in this part of the investigation. Were there features that strengthened each other in terms of looking at your feature(s) of interest?\n",
    "\n",
    "> Your answer here!\n",
    "\n",
    "### Were there any interesting or surprising interactions between features?\n",
    "\n",
    "> Your answer here!"
   ]
  },
  {
   "cell_type": "markdown",
   "metadata": {},
   "source": [
    "## Conclusions\n",
    ">You can write a summary of the main findings and reflect on the steps taken during the data exploration.\n"
   ]
  },
  {
   "cell_type": "markdown",
   "metadata": {},
   "source": [
    "\n",
    "> Remove all Tips mentioned above, before you convert this notebook to PDF/HTML\n",
    "\n",
    "\n",
    "> At the end of your report, make sure that you export the notebook as an\n",
    "html file from the `File > Download as... > HTML or PDF` menu. Make sure you keep\n",
    "track of where the exported file goes, so you can put it in the same folder\n",
    "as this notebook for project submission. Also, make sure you remove all of\n",
    "the quote-formatted guide notes like this one before you finish your report!\n",
    "\n"
   ]
  },
  {
   "cell_type": "code",
   "execution_count": null,
   "metadata": {},
   "outputs": [],
   "source": []
  }
 ],
 "metadata": {
  "kernelspec": {
   "display_name": "Python 3 (ipykernel)",
   "language": "python",
   "name": "python3"
  },
  "language_info": {
   "codemirror_mode": {
    "name": "ipython",
    "version": 3
   },
   "file_extension": ".py",
   "mimetype": "text/x-python",
   "name": "python",
   "nbconvert_exporter": "python",
   "pygments_lexer": "ipython3",
   "version": "3.9.7"
  }
 },
 "nbformat": 4,
 "nbformat_minor": 2
}
