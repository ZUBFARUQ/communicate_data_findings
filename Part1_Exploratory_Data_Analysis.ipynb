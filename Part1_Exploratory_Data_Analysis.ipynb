{
 "cells": [
  {
   "cell_type": "markdown",
   "metadata": {},
   "source": [
    "# Part I - Loan Data from Prosper\n",
    "## by Umar Faruq Zubairu\n",
    "\n",
    "## Introduction\n",
    "> This data set contains 113,937 loans with 81 variables on each loan, including loan amount, borrower rate (or interest rate), current loan status, borrower income, and many others"
   ]
  },
  {
   "cell_type": "markdown",
   "metadata": {},
   "source": [
    "## Preliminary Wrangling"
   ]
  },
  {
   "cell_type": "code",
   "execution_count": 2,
   "metadata": {},
   "outputs": [],
   "source": [
    "# import all packages and set plots to be embedded inline\n",
    "import numpy as np\n",
    "import pandas as pd\n",
    "import matplotlib.pyplot as plt\n",
    "import seaborn as sb\n",
    "\n",
    "%matplotlib inline"
   ]
  },
  {
   "cell_type": "markdown",
   "metadata": {},
   "source": [
    "> Loading my dataset and describing its properties through the questions below."
   ]
  },
  {
   "cell_type": "code",
   "execution_count": 5,
   "metadata": {},
   "outputs": [],
   "source": [
    "#Load the data into a dataframe\n",
    "loan_df=pd.read_csv('prosperLoanData.csv')"
   ]
  },
  {
   "cell_type": "code",
   "execution_count": 6,
   "metadata": {},
   "outputs": [
    {
     "data": {
      "text/html": [
       "<div>\n",
       "<style scoped>\n",
       "    .dataframe tbody tr th:only-of-type {\n",
       "        vertical-align: middle;\n",
       "    }\n",
       "\n",
       "    .dataframe tbody tr th {\n",
       "        vertical-align: top;\n",
       "    }\n",
       "\n",
       "    .dataframe thead th {\n",
       "        text-align: right;\n",
       "    }\n",
       "</style>\n",
       "<table border=\"1\" class=\"dataframe\">\n",
       "  <thead>\n",
       "    <tr style=\"text-align: right;\">\n",
       "      <th></th>\n",
       "      <th>ListingKey</th>\n",
       "      <th>ListingNumber</th>\n",
       "      <th>ListingCreationDate</th>\n",
       "      <th>CreditGrade</th>\n",
       "      <th>Term</th>\n",
       "      <th>LoanStatus</th>\n",
       "      <th>ClosedDate</th>\n",
       "      <th>BorrowerAPR</th>\n",
       "      <th>BorrowerRate</th>\n",
       "      <th>LenderYield</th>\n",
       "      <th>...</th>\n",
       "      <th>LP_ServiceFees</th>\n",
       "      <th>LP_CollectionFees</th>\n",
       "      <th>LP_GrossPrincipalLoss</th>\n",
       "      <th>LP_NetPrincipalLoss</th>\n",
       "      <th>LP_NonPrincipalRecoverypayments</th>\n",
       "      <th>PercentFunded</th>\n",
       "      <th>Recommendations</th>\n",
       "      <th>InvestmentFromFriendsCount</th>\n",
       "      <th>InvestmentFromFriendsAmount</th>\n",
       "      <th>Investors</th>\n",
       "    </tr>\n",
       "  </thead>\n",
       "  <tbody>\n",
       "    <tr>\n",
       "      <th>33980</th>\n",
       "      <td>5DAA3392388322994F72FDF</td>\n",
       "      <td>148555</td>\n",
       "      <td>2007-06-07 15:43:38.983000000</td>\n",
       "      <td>B</td>\n",
       "      <td>36</td>\n",
       "      <td>Defaulted</td>\n",
       "      <td>2010-04-15 00:00:00</td>\n",
       "      <td>0.16265</td>\n",
       "      <td>0.1555</td>\n",
       "      <td>0.1455</td>\n",
       "      <td>...</td>\n",
       "      <td>-126.79</td>\n",
       "      <td>0.0</td>\n",
       "      <td>1881.65</td>\n",
       "      <td>1881.65</td>\n",
       "      <td>0.0</td>\n",
       "      <td>1.0</td>\n",
       "      <td>0</td>\n",
       "      <td>0</td>\n",
       "      <td>0.0</td>\n",
       "      <td>70</td>\n",
       "    </tr>\n",
       "  </tbody>\n",
       "</table>\n",
       "<p>1 rows × 81 columns</p>\n",
       "</div>"
      ],
      "text/plain": [
       "                    ListingKey  ListingNumber            ListingCreationDate  \\\n",
       "33980  5DAA3392388322994F72FDF         148555  2007-06-07 15:43:38.983000000   \n",
       "\n",
       "      CreditGrade  Term LoanStatus           ClosedDate  BorrowerAPR  \\\n",
       "33980           B    36  Defaulted  2010-04-15 00:00:00      0.16265   \n",
       "\n",
       "       BorrowerRate  LenderYield  ...  LP_ServiceFees  LP_CollectionFees  \\\n",
       "33980        0.1555       0.1455  ...         -126.79                0.0   \n",
       "\n",
       "       LP_GrossPrincipalLoss  LP_NetPrincipalLoss  \\\n",
       "33980                1881.65              1881.65   \n",
       "\n",
       "      LP_NonPrincipalRecoverypayments  PercentFunded  Recommendations  \\\n",
       "33980                             0.0            1.0                0   \n",
       "\n",
       "      InvestmentFromFriendsCount InvestmentFromFriendsAmount Investors  \n",
       "33980                          0                         0.0        70  \n",
       "\n",
       "[1 rows x 81 columns]"
      ]
     },
     "execution_count": 6,
     "metadata": {},
     "output_type": "execute_result"
    }
   ],
   "source": [
    "loan_df.sample()"
   ]
  },
  {
   "cell_type": "code",
   "execution_count": 7,
   "metadata": {},
   "outputs": [
    {
     "data": {
      "text/plain": [
       "(113937, 81)"
      ]
     },
     "execution_count": 7,
     "metadata": {},
     "output_type": "execute_result"
    }
   ],
   "source": [
    "#Checking the shape of my dataset\n",
    "loan_df.shape"
   ]
  },
  {
   "cell_type": "code",
   "execution_count": 8,
   "metadata": {},
   "outputs": [
    {
     "data": {
      "text/html": [
       "<div>\n",
       "<style scoped>\n",
       "    .dataframe tbody tr th:only-of-type {\n",
       "        vertical-align: middle;\n",
       "    }\n",
       "\n",
       "    .dataframe tbody tr th {\n",
       "        vertical-align: top;\n",
       "    }\n",
       "\n",
       "    .dataframe thead th {\n",
       "        text-align: right;\n",
       "    }\n",
       "</style>\n",
       "<table border=\"1\" class=\"dataframe\">\n",
       "  <thead>\n",
       "    <tr style=\"text-align: right;\">\n",
       "      <th></th>\n",
       "      <th>ListingKey</th>\n",
       "      <th>ListingNumber</th>\n",
       "      <th>ListingCreationDate</th>\n",
       "      <th>CreditGrade</th>\n",
       "      <th>Term</th>\n",
       "      <th>LoanStatus</th>\n",
       "      <th>ClosedDate</th>\n",
       "      <th>BorrowerAPR</th>\n",
       "      <th>BorrowerRate</th>\n",
       "      <th>LenderYield</th>\n",
       "      <th>...</th>\n",
       "      <th>LP_ServiceFees</th>\n",
       "      <th>LP_CollectionFees</th>\n",
       "      <th>LP_GrossPrincipalLoss</th>\n",
       "      <th>LP_NetPrincipalLoss</th>\n",
       "      <th>LP_NonPrincipalRecoverypayments</th>\n",
       "      <th>PercentFunded</th>\n",
       "      <th>Recommendations</th>\n",
       "      <th>InvestmentFromFriendsCount</th>\n",
       "      <th>InvestmentFromFriendsAmount</th>\n",
       "      <th>Investors</th>\n",
       "    </tr>\n",
       "  </thead>\n",
       "  <tbody>\n",
       "    <tr>\n",
       "      <th>0</th>\n",
       "      <td>1021339766868145413AB3B</td>\n",
       "      <td>193129</td>\n",
       "      <td>2007-08-26 19:09:29.263000000</td>\n",
       "      <td>C</td>\n",
       "      <td>36</td>\n",
       "      <td>Completed</td>\n",
       "      <td>2009-08-14 00:00:00</td>\n",
       "      <td>0.16516</td>\n",
       "      <td>0.1580</td>\n",
       "      <td>0.1380</td>\n",
       "      <td>...</td>\n",
       "      <td>-133.18</td>\n",
       "      <td>0.0</td>\n",
       "      <td>0.0</td>\n",
       "      <td>0.0</td>\n",
       "      <td>0.0</td>\n",
       "      <td>1.0</td>\n",
       "      <td>0</td>\n",
       "      <td>0</td>\n",
       "      <td>0.0</td>\n",
       "      <td>258</td>\n",
       "    </tr>\n",
       "    <tr>\n",
       "      <th>1</th>\n",
       "      <td>10273602499503308B223C1</td>\n",
       "      <td>1209647</td>\n",
       "      <td>2014-02-27 08:28:07.900000000</td>\n",
       "      <td>NaN</td>\n",
       "      <td>36</td>\n",
       "      <td>Current</td>\n",
       "      <td>NaN</td>\n",
       "      <td>0.12016</td>\n",
       "      <td>0.0920</td>\n",
       "      <td>0.0820</td>\n",
       "      <td>...</td>\n",
       "      <td>0.00</td>\n",
       "      <td>0.0</td>\n",
       "      <td>0.0</td>\n",
       "      <td>0.0</td>\n",
       "      <td>0.0</td>\n",
       "      <td>1.0</td>\n",
       "      <td>0</td>\n",
       "      <td>0</td>\n",
       "      <td>0.0</td>\n",
       "      <td>1</td>\n",
       "    </tr>\n",
       "    <tr>\n",
       "      <th>2</th>\n",
       "      <td>0EE9337825851032864889A</td>\n",
       "      <td>81716</td>\n",
       "      <td>2007-01-05 15:00:47.090000000</td>\n",
       "      <td>HR</td>\n",
       "      <td>36</td>\n",
       "      <td>Completed</td>\n",
       "      <td>2009-12-17 00:00:00</td>\n",
       "      <td>0.28269</td>\n",
       "      <td>0.2750</td>\n",
       "      <td>0.2400</td>\n",
       "      <td>...</td>\n",
       "      <td>-24.20</td>\n",
       "      <td>0.0</td>\n",
       "      <td>0.0</td>\n",
       "      <td>0.0</td>\n",
       "      <td>0.0</td>\n",
       "      <td>1.0</td>\n",
       "      <td>0</td>\n",
       "      <td>0</td>\n",
       "      <td>0.0</td>\n",
       "      <td>41</td>\n",
       "    </tr>\n",
       "    <tr>\n",
       "      <th>3</th>\n",
       "      <td>0EF5356002482715299901A</td>\n",
       "      <td>658116</td>\n",
       "      <td>2012-10-22 11:02:35.010000000</td>\n",
       "      <td>NaN</td>\n",
       "      <td>36</td>\n",
       "      <td>Current</td>\n",
       "      <td>NaN</td>\n",
       "      <td>0.12528</td>\n",
       "      <td>0.0974</td>\n",
       "      <td>0.0874</td>\n",
       "      <td>...</td>\n",
       "      <td>-108.01</td>\n",
       "      <td>0.0</td>\n",
       "      <td>0.0</td>\n",
       "      <td>0.0</td>\n",
       "      <td>0.0</td>\n",
       "      <td>1.0</td>\n",
       "      <td>0</td>\n",
       "      <td>0</td>\n",
       "      <td>0.0</td>\n",
       "      <td>158</td>\n",
       "    </tr>\n",
       "    <tr>\n",
       "      <th>4</th>\n",
       "      <td>0F023589499656230C5E3E2</td>\n",
       "      <td>909464</td>\n",
       "      <td>2013-09-14 18:38:39.097000000</td>\n",
       "      <td>NaN</td>\n",
       "      <td>36</td>\n",
       "      <td>Current</td>\n",
       "      <td>NaN</td>\n",
       "      <td>0.24614</td>\n",
       "      <td>0.2085</td>\n",
       "      <td>0.1985</td>\n",
       "      <td>...</td>\n",
       "      <td>-60.27</td>\n",
       "      <td>0.0</td>\n",
       "      <td>0.0</td>\n",
       "      <td>0.0</td>\n",
       "      <td>0.0</td>\n",
       "      <td>1.0</td>\n",
       "      <td>0</td>\n",
       "      <td>0</td>\n",
       "      <td>0.0</td>\n",
       "      <td>20</td>\n",
       "    </tr>\n",
       "  </tbody>\n",
       "</table>\n",
       "<p>5 rows × 81 columns</p>\n",
       "</div>"
      ],
      "text/plain": [
       "                ListingKey  ListingNumber            ListingCreationDate  \\\n",
       "0  1021339766868145413AB3B         193129  2007-08-26 19:09:29.263000000   \n",
       "1  10273602499503308B223C1        1209647  2014-02-27 08:28:07.900000000   \n",
       "2  0EE9337825851032864889A          81716  2007-01-05 15:00:47.090000000   \n",
       "3  0EF5356002482715299901A         658116  2012-10-22 11:02:35.010000000   \n",
       "4  0F023589499656230C5E3E2         909464  2013-09-14 18:38:39.097000000   \n",
       "\n",
       "  CreditGrade  Term LoanStatus           ClosedDate  BorrowerAPR  \\\n",
       "0           C    36  Completed  2009-08-14 00:00:00      0.16516   \n",
       "1         NaN    36    Current                  NaN      0.12016   \n",
       "2          HR    36  Completed  2009-12-17 00:00:00      0.28269   \n",
       "3         NaN    36    Current                  NaN      0.12528   \n",
       "4         NaN    36    Current                  NaN      0.24614   \n",
       "\n",
       "   BorrowerRate  LenderYield  ...  LP_ServiceFees  LP_CollectionFees  \\\n",
       "0        0.1580       0.1380  ...         -133.18                0.0   \n",
       "1        0.0920       0.0820  ...            0.00                0.0   \n",
       "2        0.2750       0.2400  ...          -24.20                0.0   \n",
       "3        0.0974       0.0874  ...         -108.01                0.0   \n",
       "4        0.2085       0.1985  ...          -60.27                0.0   \n",
       "\n",
       "   LP_GrossPrincipalLoss  LP_NetPrincipalLoss LP_NonPrincipalRecoverypayments  \\\n",
       "0                    0.0                  0.0                             0.0   \n",
       "1                    0.0                  0.0                             0.0   \n",
       "2                    0.0                  0.0                             0.0   \n",
       "3                    0.0                  0.0                             0.0   \n",
       "4                    0.0                  0.0                             0.0   \n",
       "\n",
       "   PercentFunded  Recommendations InvestmentFromFriendsCount  \\\n",
       "0            1.0                0                          0   \n",
       "1            1.0                0                          0   \n",
       "2            1.0                0                          0   \n",
       "3            1.0                0                          0   \n",
       "4            1.0                0                          0   \n",
       "\n",
       "  InvestmentFromFriendsAmount Investors  \n",
       "0                         0.0       258  \n",
       "1                         0.0         1  \n",
       "2                         0.0        41  \n",
       "3                         0.0       158  \n",
       "4                         0.0        20  \n",
       "\n",
       "[5 rows x 81 columns]"
      ]
     },
     "execution_count": 8,
     "metadata": {},
     "output_type": "execute_result"
    }
   ],
   "source": [
    "#Display the first five records from the dataset\n",
    "loan_df.head()"
   ]
  },
  {
   "cell_type": "code",
   "execution_count": 9,
   "metadata": {},
   "outputs": [
    {
     "name": "stdout",
     "output_type": "stream",
     "text": [
      "<class 'pandas.core.frame.DataFrame'>\n",
      "RangeIndex: 113937 entries, 0 to 113936\n",
      "Data columns (total 81 columns):\n",
      " #   Column                               Non-Null Count   Dtype  \n",
      "---  ------                               --------------   -----  \n",
      " 0   ListingKey                           113937 non-null  object \n",
      " 1   ListingNumber                        113937 non-null  int64  \n",
      " 2   ListingCreationDate                  113937 non-null  object \n",
      " 3   CreditGrade                          28953 non-null   object \n",
      " 4   Term                                 113937 non-null  int64  \n",
      " 5   LoanStatus                           113937 non-null  object \n",
      " 6   ClosedDate                           55089 non-null   object \n",
      " 7   BorrowerAPR                          113912 non-null  float64\n",
      " 8   BorrowerRate                         113937 non-null  float64\n",
      " 9   LenderYield                          113937 non-null  float64\n",
      " 10  EstimatedEffectiveYield              84853 non-null   float64\n",
      " 11  EstimatedLoss                        84853 non-null   float64\n",
      " 12  EstimatedReturn                      84853 non-null   float64\n",
      " 13  ProsperRating (numeric)              84853 non-null   float64\n",
      " 14  ProsperRating (Alpha)                84853 non-null   object \n",
      " 15  ProsperScore                         84853 non-null   float64\n",
      " 16  ListingCategory (numeric)            113937 non-null  int64  \n",
      " 17  BorrowerState                        108422 non-null  object \n",
      " 18  Occupation                           110349 non-null  object \n",
      " 19  EmploymentStatus                     111682 non-null  object \n",
      " 20  EmploymentStatusDuration             106312 non-null  float64\n",
      " 21  IsBorrowerHomeowner                  113937 non-null  bool   \n",
      " 22  CurrentlyInGroup                     113937 non-null  bool   \n",
      " 23  GroupKey                             13341 non-null   object \n",
      " 24  DateCreditPulled                     113937 non-null  object \n",
      " 25  CreditScoreRangeLower                113346 non-null  float64\n",
      " 26  CreditScoreRangeUpper                113346 non-null  float64\n",
      " 27  FirstRecordedCreditLine              113240 non-null  object \n",
      " 28  CurrentCreditLines                   106333 non-null  float64\n",
      " 29  OpenCreditLines                      106333 non-null  float64\n",
      " 30  TotalCreditLinespast7years           113240 non-null  float64\n",
      " 31  OpenRevolvingAccounts                113937 non-null  int64  \n",
      " 32  OpenRevolvingMonthlyPayment          113937 non-null  float64\n",
      " 33  InquiriesLast6Months                 113240 non-null  float64\n",
      " 34  TotalInquiries                       112778 non-null  float64\n",
      " 35  CurrentDelinquencies                 113240 non-null  float64\n",
      " 36  AmountDelinquent                     106315 non-null  float64\n",
      " 37  DelinquenciesLast7Years              112947 non-null  float64\n",
      " 38  PublicRecordsLast10Years             113240 non-null  float64\n",
      " 39  PublicRecordsLast12Months            106333 non-null  float64\n",
      " 40  RevolvingCreditBalance               106333 non-null  float64\n",
      " 41  BankcardUtilization                  106333 non-null  float64\n",
      " 42  AvailableBankcardCredit              106393 non-null  float64\n",
      " 43  TotalTrades                          106393 non-null  float64\n",
      " 44  TradesNeverDelinquent (percentage)   106393 non-null  float64\n",
      " 45  TradesOpenedLast6Months              106393 non-null  float64\n",
      " 46  DebtToIncomeRatio                    105383 non-null  float64\n",
      " 47  IncomeRange                          113937 non-null  object \n",
      " 48  IncomeVerifiable                     113937 non-null  bool   \n",
      " 49  StatedMonthlyIncome                  113937 non-null  float64\n",
      " 50  LoanKey                              113937 non-null  object \n",
      " 51  TotalProsperLoans                    22085 non-null   float64\n",
      " 52  TotalProsperPaymentsBilled           22085 non-null   float64\n",
      " 53  OnTimeProsperPayments                22085 non-null   float64\n",
      " 54  ProsperPaymentsLessThanOneMonthLate  22085 non-null   float64\n",
      " 55  ProsperPaymentsOneMonthPlusLate      22085 non-null   float64\n",
      " 56  ProsperPrincipalBorrowed             22085 non-null   float64\n",
      " 57  ProsperPrincipalOutstanding          22085 non-null   float64\n",
      " 58  ScorexChangeAtTimeOfListing          18928 non-null   float64\n",
      " 59  LoanCurrentDaysDelinquent            113937 non-null  int64  \n",
      " 60  LoanFirstDefaultedCycleNumber        16952 non-null   float64\n",
      " 61  LoanMonthsSinceOrigination           113937 non-null  int64  \n",
      " 62  LoanNumber                           113937 non-null  int64  \n",
      " 63  LoanOriginalAmount                   113937 non-null  int64  \n",
      " 64  LoanOriginationDate                  113937 non-null  object \n",
      " 65  LoanOriginationQuarter               113937 non-null  object \n",
      " 66  MemberKey                            113937 non-null  object \n",
      " 67  MonthlyLoanPayment                   113937 non-null  float64\n",
      " 68  LP_CustomerPayments                  113937 non-null  float64\n",
      " 69  LP_CustomerPrincipalPayments         113937 non-null  float64\n",
      " 70  LP_InterestandFees                   113937 non-null  float64\n",
      " 71  LP_ServiceFees                       113937 non-null  float64\n",
      " 72  LP_CollectionFees                    113937 non-null  float64\n",
      " 73  LP_GrossPrincipalLoss                113937 non-null  float64\n",
      " 74  LP_NetPrincipalLoss                  113937 non-null  float64\n",
      " 75  LP_NonPrincipalRecoverypayments      113937 non-null  float64\n",
      " 76  PercentFunded                        113937 non-null  float64\n",
      " 77  Recommendations                      113937 non-null  int64  \n",
      " 78  InvestmentFromFriendsCount           113937 non-null  int64  \n",
      " 79  InvestmentFromFriendsAmount          113937 non-null  float64\n",
      " 80  Investors                            113937 non-null  int64  \n",
      "dtypes: bool(3), float64(50), int64(11), object(17)\n",
      "memory usage: 68.1+ MB\n"
     ]
    }
   ],
   "source": [
    "#Show some information about the data\n",
    "loan_df.info()"
   ]
  },
  {
   "cell_type": "code",
   "execution_count": 10,
   "metadata": {
    "scrolled": true
   },
   "outputs": [
    {
     "data": {
      "text/html": [
       "<div>\n",
       "<style scoped>\n",
       "    .dataframe tbody tr th:only-of-type {\n",
       "        vertical-align: middle;\n",
       "    }\n",
       "\n",
       "    .dataframe tbody tr th {\n",
       "        vertical-align: top;\n",
       "    }\n",
       "\n",
       "    .dataframe thead th {\n",
       "        text-align: right;\n",
       "    }\n",
       "</style>\n",
       "<table border=\"1\" class=\"dataframe\">\n",
       "  <thead>\n",
       "    <tr style=\"text-align: right;\">\n",
       "      <th></th>\n",
       "      <th>ListingNumber</th>\n",
       "      <th>Term</th>\n",
       "      <th>BorrowerAPR</th>\n",
       "      <th>BorrowerRate</th>\n",
       "      <th>LenderYield</th>\n",
       "      <th>EstimatedEffectiveYield</th>\n",
       "      <th>EstimatedLoss</th>\n",
       "      <th>EstimatedReturn</th>\n",
       "      <th>ProsperRating (numeric)</th>\n",
       "      <th>ProsperScore</th>\n",
       "      <th>...</th>\n",
       "      <th>LP_ServiceFees</th>\n",
       "      <th>LP_CollectionFees</th>\n",
       "      <th>LP_GrossPrincipalLoss</th>\n",
       "      <th>LP_NetPrincipalLoss</th>\n",
       "      <th>LP_NonPrincipalRecoverypayments</th>\n",
       "      <th>PercentFunded</th>\n",
       "      <th>Recommendations</th>\n",
       "      <th>InvestmentFromFriendsCount</th>\n",
       "      <th>InvestmentFromFriendsAmount</th>\n",
       "      <th>Investors</th>\n",
       "    </tr>\n",
       "  </thead>\n",
       "  <tbody>\n",
       "    <tr>\n",
       "      <th>count</th>\n",
       "      <td>1.139370e+05</td>\n",
       "      <td>113937.000000</td>\n",
       "      <td>113912.000000</td>\n",
       "      <td>113937.000000</td>\n",
       "      <td>113937.000000</td>\n",
       "      <td>84853.000000</td>\n",
       "      <td>84853.000000</td>\n",
       "      <td>84853.000000</td>\n",
       "      <td>84853.000000</td>\n",
       "      <td>84853.000000</td>\n",
       "      <td>...</td>\n",
       "      <td>113937.000000</td>\n",
       "      <td>113937.000000</td>\n",
       "      <td>113937.000000</td>\n",
       "      <td>113937.000000</td>\n",
       "      <td>113937.000000</td>\n",
       "      <td>113937.000000</td>\n",
       "      <td>113937.000000</td>\n",
       "      <td>113937.000000</td>\n",
       "      <td>113937.000000</td>\n",
       "      <td>113937.000000</td>\n",
       "    </tr>\n",
       "    <tr>\n",
       "      <th>mean</th>\n",
       "      <td>6.278857e+05</td>\n",
       "      <td>40.830248</td>\n",
       "      <td>0.218828</td>\n",
       "      <td>0.192764</td>\n",
       "      <td>0.182701</td>\n",
       "      <td>0.168661</td>\n",
       "      <td>0.080306</td>\n",
       "      <td>0.096068</td>\n",
       "      <td>4.072243</td>\n",
       "      <td>5.950067</td>\n",
       "      <td>...</td>\n",
       "      <td>-54.725641</td>\n",
       "      <td>-14.242698</td>\n",
       "      <td>700.446342</td>\n",
       "      <td>681.420499</td>\n",
       "      <td>25.142686</td>\n",
       "      <td>0.998584</td>\n",
       "      <td>0.048027</td>\n",
       "      <td>0.023460</td>\n",
       "      <td>16.550751</td>\n",
       "      <td>80.475228</td>\n",
       "    </tr>\n",
       "    <tr>\n",
       "      <th>std</th>\n",
       "      <td>3.280762e+05</td>\n",
       "      <td>10.436212</td>\n",
       "      <td>0.080364</td>\n",
       "      <td>0.074818</td>\n",
       "      <td>0.074516</td>\n",
       "      <td>0.068467</td>\n",
       "      <td>0.046764</td>\n",
       "      <td>0.030403</td>\n",
       "      <td>1.673227</td>\n",
       "      <td>2.376501</td>\n",
       "      <td>...</td>\n",
       "      <td>60.675425</td>\n",
       "      <td>109.232758</td>\n",
       "      <td>2388.513831</td>\n",
       "      <td>2357.167068</td>\n",
       "      <td>275.657937</td>\n",
       "      <td>0.017919</td>\n",
       "      <td>0.332353</td>\n",
       "      <td>0.232412</td>\n",
       "      <td>294.545422</td>\n",
       "      <td>103.239020</td>\n",
       "    </tr>\n",
       "    <tr>\n",
       "      <th>min</th>\n",
       "      <td>4.000000e+00</td>\n",
       "      <td>12.000000</td>\n",
       "      <td>0.006530</td>\n",
       "      <td>0.000000</td>\n",
       "      <td>-0.010000</td>\n",
       "      <td>-0.182700</td>\n",
       "      <td>0.004900</td>\n",
       "      <td>-0.182700</td>\n",
       "      <td>1.000000</td>\n",
       "      <td>1.000000</td>\n",
       "      <td>...</td>\n",
       "      <td>-664.870000</td>\n",
       "      <td>-9274.750000</td>\n",
       "      <td>-94.200000</td>\n",
       "      <td>-954.550000</td>\n",
       "      <td>0.000000</td>\n",
       "      <td>0.700000</td>\n",
       "      <td>0.000000</td>\n",
       "      <td>0.000000</td>\n",
       "      <td>0.000000</td>\n",
       "      <td>1.000000</td>\n",
       "    </tr>\n",
       "    <tr>\n",
       "      <th>25%</th>\n",
       "      <td>4.009190e+05</td>\n",
       "      <td>36.000000</td>\n",
       "      <td>0.156290</td>\n",
       "      <td>0.134000</td>\n",
       "      <td>0.124200</td>\n",
       "      <td>0.115670</td>\n",
       "      <td>0.042400</td>\n",
       "      <td>0.074080</td>\n",
       "      <td>3.000000</td>\n",
       "      <td>4.000000</td>\n",
       "      <td>...</td>\n",
       "      <td>-73.180000</td>\n",
       "      <td>0.000000</td>\n",
       "      <td>0.000000</td>\n",
       "      <td>0.000000</td>\n",
       "      <td>0.000000</td>\n",
       "      <td>1.000000</td>\n",
       "      <td>0.000000</td>\n",
       "      <td>0.000000</td>\n",
       "      <td>0.000000</td>\n",
       "      <td>2.000000</td>\n",
       "    </tr>\n",
       "    <tr>\n",
       "      <th>50%</th>\n",
       "      <td>6.005540e+05</td>\n",
       "      <td>36.000000</td>\n",
       "      <td>0.209760</td>\n",
       "      <td>0.184000</td>\n",
       "      <td>0.173000</td>\n",
       "      <td>0.161500</td>\n",
       "      <td>0.072400</td>\n",
       "      <td>0.091700</td>\n",
       "      <td>4.000000</td>\n",
       "      <td>6.000000</td>\n",
       "      <td>...</td>\n",
       "      <td>-34.440000</td>\n",
       "      <td>0.000000</td>\n",
       "      <td>0.000000</td>\n",
       "      <td>0.000000</td>\n",
       "      <td>0.000000</td>\n",
       "      <td>1.000000</td>\n",
       "      <td>0.000000</td>\n",
       "      <td>0.000000</td>\n",
       "      <td>0.000000</td>\n",
       "      <td>44.000000</td>\n",
       "    </tr>\n",
       "    <tr>\n",
       "      <th>75%</th>\n",
       "      <td>8.926340e+05</td>\n",
       "      <td>36.000000</td>\n",
       "      <td>0.283810</td>\n",
       "      <td>0.250000</td>\n",
       "      <td>0.240000</td>\n",
       "      <td>0.224300</td>\n",
       "      <td>0.112000</td>\n",
       "      <td>0.116600</td>\n",
       "      <td>5.000000</td>\n",
       "      <td>8.000000</td>\n",
       "      <td>...</td>\n",
       "      <td>-13.920000</td>\n",
       "      <td>0.000000</td>\n",
       "      <td>0.000000</td>\n",
       "      <td>0.000000</td>\n",
       "      <td>0.000000</td>\n",
       "      <td>1.000000</td>\n",
       "      <td>0.000000</td>\n",
       "      <td>0.000000</td>\n",
       "      <td>0.000000</td>\n",
       "      <td>115.000000</td>\n",
       "    </tr>\n",
       "    <tr>\n",
       "      <th>max</th>\n",
       "      <td>1.255725e+06</td>\n",
       "      <td>60.000000</td>\n",
       "      <td>0.512290</td>\n",
       "      <td>0.497500</td>\n",
       "      <td>0.492500</td>\n",
       "      <td>0.319900</td>\n",
       "      <td>0.366000</td>\n",
       "      <td>0.283700</td>\n",
       "      <td>7.000000</td>\n",
       "      <td>11.000000</td>\n",
       "      <td>...</td>\n",
       "      <td>32.060000</td>\n",
       "      <td>0.000000</td>\n",
       "      <td>25000.000000</td>\n",
       "      <td>25000.000000</td>\n",
       "      <td>21117.900000</td>\n",
       "      <td>1.012500</td>\n",
       "      <td>39.000000</td>\n",
       "      <td>33.000000</td>\n",
       "      <td>25000.000000</td>\n",
       "      <td>1189.000000</td>\n",
       "    </tr>\n",
       "  </tbody>\n",
       "</table>\n",
       "<p>8 rows × 61 columns</p>\n",
       "</div>"
      ],
      "text/plain": [
       "       ListingNumber           Term    BorrowerAPR   BorrowerRate  \\\n",
       "count   1.139370e+05  113937.000000  113912.000000  113937.000000   \n",
       "mean    6.278857e+05      40.830248       0.218828       0.192764   \n",
       "std     3.280762e+05      10.436212       0.080364       0.074818   \n",
       "min     4.000000e+00      12.000000       0.006530       0.000000   \n",
       "25%     4.009190e+05      36.000000       0.156290       0.134000   \n",
       "50%     6.005540e+05      36.000000       0.209760       0.184000   \n",
       "75%     8.926340e+05      36.000000       0.283810       0.250000   \n",
       "max     1.255725e+06      60.000000       0.512290       0.497500   \n",
       "\n",
       "         LenderYield  EstimatedEffectiveYield  EstimatedLoss  EstimatedReturn  \\\n",
       "count  113937.000000             84853.000000   84853.000000     84853.000000   \n",
       "mean        0.182701                 0.168661       0.080306         0.096068   \n",
       "std         0.074516                 0.068467       0.046764         0.030403   \n",
       "min        -0.010000                -0.182700       0.004900        -0.182700   \n",
       "25%         0.124200                 0.115670       0.042400         0.074080   \n",
       "50%         0.173000                 0.161500       0.072400         0.091700   \n",
       "75%         0.240000                 0.224300       0.112000         0.116600   \n",
       "max         0.492500                 0.319900       0.366000         0.283700   \n",
       "\n",
       "       ProsperRating (numeric)  ProsperScore  ...  LP_ServiceFees  \\\n",
       "count             84853.000000  84853.000000  ...   113937.000000   \n",
       "mean                  4.072243      5.950067  ...      -54.725641   \n",
       "std                   1.673227      2.376501  ...       60.675425   \n",
       "min                   1.000000      1.000000  ...     -664.870000   \n",
       "25%                   3.000000      4.000000  ...      -73.180000   \n",
       "50%                   4.000000      6.000000  ...      -34.440000   \n",
       "75%                   5.000000      8.000000  ...      -13.920000   \n",
       "max                   7.000000     11.000000  ...       32.060000   \n",
       "\n",
       "       LP_CollectionFees  LP_GrossPrincipalLoss  LP_NetPrincipalLoss  \\\n",
       "count      113937.000000          113937.000000        113937.000000   \n",
       "mean          -14.242698             700.446342           681.420499   \n",
       "std           109.232758            2388.513831          2357.167068   \n",
       "min         -9274.750000             -94.200000          -954.550000   \n",
       "25%             0.000000               0.000000             0.000000   \n",
       "50%             0.000000               0.000000             0.000000   \n",
       "75%             0.000000               0.000000             0.000000   \n",
       "max             0.000000           25000.000000         25000.000000   \n",
       "\n",
       "       LP_NonPrincipalRecoverypayments  PercentFunded  Recommendations  \\\n",
       "count                    113937.000000  113937.000000    113937.000000   \n",
       "mean                         25.142686       0.998584         0.048027   \n",
       "std                         275.657937       0.017919         0.332353   \n",
       "min                           0.000000       0.700000         0.000000   \n",
       "25%                           0.000000       1.000000         0.000000   \n",
       "50%                           0.000000       1.000000         0.000000   \n",
       "75%                           0.000000       1.000000         0.000000   \n",
       "max                       21117.900000       1.012500        39.000000   \n",
       "\n",
       "       InvestmentFromFriendsCount  InvestmentFromFriendsAmount      Investors  \n",
       "count               113937.000000                113937.000000  113937.000000  \n",
       "mean                     0.023460                    16.550751      80.475228  \n",
       "std                      0.232412                   294.545422     103.239020  \n",
       "min                      0.000000                     0.000000       1.000000  \n",
       "25%                      0.000000                     0.000000       2.000000  \n",
       "50%                      0.000000                     0.000000      44.000000  \n",
       "75%                      0.000000                     0.000000     115.000000  \n",
       "max                     33.000000                 25000.000000    1189.000000  \n",
       "\n",
       "[8 rows x 61 columns]"
      ]
     },
     "execution_count": 10,
     "metadata": {},
     "output_type": "execute_result"
    }
   ],
   "source": [
    "#Display descriptive statistic of the data\n",
    "loan_df.describe()"
   ]
  },
  {
   "cell_type": "code",
   "execution_count": 11,
   "metadata": {},
   "outputs": [
    {
     "data": {
      "text/html": [
       "<div>\n",
       "<style scoped>\n",
       "    .dataframe tbody tr th:only-of-type {\n",
       "        vertical-align: middle;\n",
       "    }\n",
       "\n",
       "    .dataframe tbody tr th {\n",
       "        vertical-align: top;\n",
       "    }\n",
       "\n",
       "    .dataframe thead th {\n",
       "        text-align: right;\n",
       "    }\n",
       "</style>\n",
       "<table border=\"1\" class=\"dataframe\">\n",
       "  <thead>\n",
       "    <tr style=\"text-align: right;\">\n",
       "      <th></th>\n",
       "      <th>ListingKey</th>\n",
       "      <th>ListingNumber</th>\n",
       "      <th>ListingCreationDate</th>\n",
       "      <th>CreditGrade</th>\n",
       "      <th>Term</th>\n",
       "      <th>LoanStatus</th>\n",
       "      <th>ClosedDate</th>\n",
       "      <th>BorrowerAPR</th>\n",
       "      <th>BorrowerRate</th>\n",
       "      <th>LenderYield</th>\n",
       "      <th>...</th>\n",
       "      <th>LP_ServiceFees</th>\n",
       "      <th>LP_CollectionFees</th>\n",
       "      <th>LP_GrossPrincipalLoss</th>\n",
       "      <th>LP_NetPrincipalLoss</th>\n",
       "      <th>LP_NonPrincipalRecoverypayments</th>\n",
       "      <th>PercentFunded</th>\n",
       "      <th>Recommendations</th>\n",
       "      <th>InvestmentFromFriendsCount</th>\n",
       "      <th>InvestmentFromFriendsAmount</th>\n",
       "      <th>Investors</th>\n",
       "    </tr>\n",
       "  </thead>\n",
       "  <tbody>\n",
       "    <tr>\n",
       "      <th>113544</th>\n",
       "      <td>D90D3548232571844A7A173</td>\n",
       "      <td>595093</td>\n",
       "      <td>2012-06-01 08:59:35.817000000</td>\n",
       "      <td>NaN</td>\n",
       "      <td>12</td>\n",
       "      <td>Completed</td>\n",
       "      <td>2012-12-05 00:00:00</td>\n",
       "      <td>0.09986</td>\n",
       "      <td>0.0628</td>\n",
       "      <td>0.0528</td>\n",
       "      <td>...</td>\n",
       "      <td>-38.62</td>\n",
       "      <td>0.00</td>\n",
       "      <td>0.00</td>\n",
       "      <td>0.00</td>\n",
       "      <td>0.0</td>\n",
       "      <td>1.0</td>\n",
       "      <td>0</td>\n",
       "      <td>0</td>\n",
       "      <td>0.0</td>\n",
       "      <td>198</td>\n",
       "    </tr>\n",
       "    <tr>\n",
       "      <th>64580</th>\n",
       "      <td>61B2357356942586126C7ED</td>\n",
       "      <td>727564</td>\n",
       "      <td>2013-03-12 16:59:05.473000000</td>\n",
       "      <td>NaN</td>\n",
       "      <td>36</td>\n",
       "      <td>Completed</td>\n",
       "      <td>2014-02-25 00:00:00</td>\n",
       "      <td>0.28032</td>\n",
       "      <td>0.2419</td>\n",
       "      <td>0.2319</td>\n",
       "      <td>...</td>\n",
       "      <td>-82.73</td>\n",
       "      <td>0.00</td>\n",
       "      <td>0.00</td>\n",
       "      <td>0.00</td>\n",
       "      <td>0.0</td>\n",
       "      <td>1.0</td>\n",
       "      <td>0</td>\n",
       "      <td>0</td>\n",
       "      <td>0.0</td>\n",
       "      <td>54</td>\n",
       "    </tr>\n",
       "    <tr>\n",
       "      <th>24982</th>\n",
       "      <td>2E4B3559844631923E93275</td>\n",
       "      <td>657691</td>\n",
       "      <td>2012-10-20 10:59:14.193000000</td>\n",
       "      <td>NaN</td>\n",
       "      <td>60</td>\n",
       "      <td>Current</td>\n",
       "      <td>NaN</td>\n",
       "      <td>0.20367</td>\n",
       "      <td>0.1797</td>\n",
       "      <td>0.1697</td>\n",
       "      <td>...</td>\n",
       "      <td>-275.05</td>\n",
       "      <td>0.00</td>\n",
       "      <td>0.00</td>\n",
       "      <td>0.00</td>\n",
       "      <td>0.0</td>\n",
       "      <td>1.0</td>\n",
       "      <td>0</td>\n",
       "      <td>0</td>\n",
       "      <td>0.0</td>\n",
       "      <td>320</td>\n",
       "    </tr>\n",
       "    <tr>\n",
       "      <th>113556</th>\n",
       "      <td>CA4F359787307365173D956</td>\n",
       "      <td>1099931</td>\n",
       "      <td>2013-12-27 14:07:06.713000000</td>\n",
       "      <td>NaN</td>\n",
       "      <td>36</td>\n",
       "      <td>Current</td>\n",
       "      <td>NaN</td>\n",
       "      <td>0.27776</td>\n",
       "      <td>0.2394</td>\n",
       "      <td>0.2294</td>\n",
       "      <td>...</td>\n",
       "      <td>-6.41</td>\n",
       "      <td>0.00</td>\n",
       "      <td>0.00</td>\n",
       "      <td>0.00</td>\n",
       "      <td>0.0</td>\n",
       "      <td>1.0</td>\n",
       "      <td>0</td>\n",
       "      <td>0</td>\n",
       "      <td>0.0</td>\n",
       "      <td>1</td>\n",
       "    </tr>\n",
       "    <tr>\n",
       "      <th>33380</th>\n",
       "      <td>5D1136008605497944DC4E3</td>\n",
       "      <td>1121542</td>\n",
       "      <td>2014-01-20 16:08:02.960000000</td>\n",
       "      <td>NaN</td>\n",
       "      <td>36</td>\n",
       "      <td>Current</td>\n",
       "      <td>NaN</td>\n",
       "      <td>0.12081</td>\n",
       "      <td>0.0930</td>\n",
       "      <td>0.0830</td>\n",
       "      <td>...</td>\n",
       "      <td>-12.74</td>\n",
       "      <td>0.00</td>\n",
       "      <td>0.00</td>\n",
       "      <td>0.00</td>\n",
       "      <td>0.0</td>\n",
       "      <td>1.0</td>\n",
       "      <td>0</td>\n",
       "      <td>0</td>\n",
       "      <td>0.0</td>\n",
       "      <td>1</td>\n",
       "    </tr>\n",
       "    <tr>\n",
       "      <th>52326</th>\n",
       "      <td>0AFD33728182389986F12CE</td>\n",
       "      <td>54205</td>\n",
       "      <td>2006-10-27 19:25:54.703000000</td>\n",
       "      <td>B</td>\n",
       "      <td>36</td>\n",
       "      <td>Defaulted</td>\n",
       "      <td>2008-10-07 00:00:00</td>\n",
       "      <td>0.12289</td>\n",
       "      <td>0.1159</td>\n",
       "      <td>0.1109</td>\n",
       "      <td>...</td>\n",
       "      <td>-23.70</td>\n",
       "      <td>0.00</td>\n",
       "      <td>2171.76</td>\n",
       "      <td>2171.77</td>\n",
       "      <td>0.0</td>\n",
       "      <td>1.0</td>\n",
       "      <td>0</td>\n",
       "      <td>0</td>\n",
       "      <td>0.0</td>\n",
       "      <td>118</td>\n",
       "    </tr>\n",
       "    <tr>\n",
       "      <th>111967</th>\n",
       "      <td>B785337320207363946016D</td>\n",
       "      <td>59089</td>\n",
       "      <td>2006-11-08 18:26:53.670000000</td>\n",
       "      <td>D</td>\n",
       "      <td>36</td>\n",
       "      <td>Completed</td>\n",
       "      <td>2009-06-02 00:00:00</td>\n",
       "      <td>0.20735</td>\n",
       "      <td>0.2000</td>\n",
       "      <td>0.1950</td>\n",
       "      <td>...</td>\n",
       "      <td>-20.47</td>\n",
       "      <td>0.00</td>\n",
       "      <td>0.00</td>\n",
       "      <td>0.00</td>\n",
       "      <td>0.0</td>\n",
       "      <td>1.0</td>\n",
       "      <td>0</td>\n",
       "      <td>0</td>\n",
       "      <td>0.0</td>\n",
       "      <td>20</td>\n",
       "    </tr>\n",
       "    <tr>\n",
       "      <th>24939</th>\n",
       "      <td>5D64336458879460900B458</td>\n",
       "      <td>1354</td>\n",
       "      <td>2006-03-06 19:25:21.463000000</td>\n",
       "      <td>B</td>\n",
       "      <td>36</td>\n",
       "      <td>Completed</td>\n",
       "      <td>2009-03-15 00:00:00</td>\n",
       "      <td>0.10140</td>\n",
       "      <td>0.0945</td>\n",
       "      <td>0.0845</td>\n",
       "      <td>...</td>\n",
       "      <td>-24.24</td>\n",
       "      <td>0.00</td>\n",
       "      <td>0.00</td>\n",
       "      <td>0.00</td>\n",
       "      <td>0.0</td>\n",
       "      <td>1.0</td>\n",
       "      <td>0</td>\n",
       "      <td>0</td>\n",
       "      <td>0.0</td>\n",
       "      <td>54</td>\n",
       "    </tr>\n",
       "    <tr>\n",
       "      <th>20729</th>\n",
       "      <td>29EF3518579960790459ED7</td>\n",
       "      <td>513430</td>\n",
       "      <td>2011-06-28 16:01:25.730000000</td>\n",
       "      <td>NaN</td>\n",
       "      <td>12</td>\n",
       "      <td>Chargedoff</td>\n",
       "      <td>2012-02-29 00:00:00</td>\n",
       "      <td>0.35843</td>\n",
       "      <td>0.2669</td>\n",
       "      <td>0.2569</td>\n",
       "      <td>...</td>\n",
       "      <td>-8.10</td>\n",
       "      <td>-97.78</td>\n",
       "      <td>2404.43</td>\n",
       "      <td>2404.43</td>\n",
       "      <td>0.0</td>\n",
       "      <td>1.0</td>\n",
       "      <td>0</td>\n",
       "      <td>0</td>\n",
       "      <td>0.0</td>\n",
       "      <td>6</td>\n",
       "    </tr>\n",
       "    <tr>\n",
       "      <th>9597</th>\n",
       "      <td>5C1C349379060082328885D</td>\n",
       "      <td>473122</td>\n",
       "      <td>2010-08-25 12:16:20.863000000</td>\n",
       "      <td>NaN</td>\n",
       "      <td>36</td>\n",
       "      <td>Completed</td>\n",
       "      <td>2010-12-13 00:00:00</td>\n",
       "      <td>0.29265</td>\n",
       "      <td>0.2575</td>\n",
       "      <td>0.2475</td>\n",
       "      <td>...</td>\n",
       "      <td>-7.03</td>\n",
       "      <td>0.00</td>\n",
       "      <td>0.00</td>\n",
       "      <td>0.00</td>\n",
       "      <td>0.0</td>\n",
       "      <td>1.0</td>\n",
       "      <td>0</td>\n",
       "      <td>0</td>\n",
       "      <td>0.0</td>\n",
       "      <td>81</td>\n",
       "    </tr>\n",
       "  </tbody>\n",
       "</table>\n",
       "<p>10 rows × 81 columns</p>\n",
       "</div>"
      ],
      "text/plain": [
       "                     ListingKey  ListingNumber            ListingCreationDate  \\\n",
       "113544  D90D3548232571844A7A173         595093  2012-06-01 08:59:35.817000000   \n",
       "64580   61B2357356942586126C7ED         727564  2013-03-12 16:59:05.473000000   \n",
       "24982   2E4B3559844631923E93275         657691  2012-10-20 10:59:14.193000000   \n",
       "113556  CA4F359787307365173D956        1099931  2013-12-27 14:07:06.713000000   \n",
       "33380   5D1136008605497944DC4E3        1121542  2014-01-20 16:08:02.960000000   \n",
       "52326   0AFD33728182389986F12CE          54205  2006-10-27 19:25:54.703000000   \n",
       "111967  B785337320207363946016D          59089  2006-11-08 18:26:53.670000000   \n",
       "24939   5D64336458879460900B458           1354  2006-03-06 19:25:21.463000000   \n",
       "20729   29EF3518579960790459ED7         513430  2011-06-28 16:01:25.730000000   \n",
       "9597    5C1C349379060082328885D         473122  2010-08-25 12:16:20.863000000   \n",
       "\n",
       "       CreditGrade  Term  LoanStatus           ClosedDate  BorrowerAPR  \\\n",
       "113544         NaN    12   Completed  2012-12-05 00:00:00      0.09986   \n",
       "64580          NaN    36   Completed  2014-02-25 00:00:00      0.28032   \n",
       "24982          NaN    60     Current                  NaN      0.20367   \n",
       "113556         NaN    36     Current                  NaN      0.27776   \n",
       "33380          NaN    36     Current                  NaN      0.12081   \n",
       "52326            B    36   Defaulted  2008-10-07 00:00:00      0.12289   \n",
       "111967           D    36   Completed  2009-06-02 00:00:00      0.20735   \n",
       "24939            B    36   Completed  2009-03-15 00:00:00      0.10140   \n",
       "20729          NaN    12  Chargedoff  2012-02-29 00:00:00      0.35843   \n",
       "9597           NaN    36   Completed  2010-12-13 00:00:00      0.29265   \n",
       "\n",
       "        BorrowerRate  LenderYield  ...  LP_ServiceFees  LP_CollectionFees  \\\n",
       "113544        0.0628       0.0528  ...          -38.62               0.00   \n",
       "64580         0.2419       0.2319  ...          -82.73               0.00   \n",
       "24982         0.1797       0.1697  ...         -275.05               0.00   \n",
       "113556        0.2394       0.2294  ...           -6.41               0.00   \n",
       "33380         0.0930       0.0830  ...          -12.74               0.00   \n",
       "52326         0.1159       0.1109  ...          -23.70               0.00   \n",
       "111967        0.2000       0.1950  ...          -20.47               0.00   \n",
       "24939         0.0945       0.0845  ...          -24.24               0.00   \n",
       "20729         0.2669       0.2569  ...           -8.10             -97.78   \n",
       "9597          0.2575       0.2475  ...           -7.03               0.00   \n",
       "\n",
       "        LP_GrossPrincipalLoss  LP_NetPrincipalLoss  \\\n",
       "113544                   0.00                 0.00   \n",
       "64580                    0.00                 0.00   \n",
       "24982                    0.00                 0.00   \n",
       "113556                   0.00                 0.00   \n",
       "33380                    0.00                 0.00   \n",
       "52326                 2171.76              2171.77   \n",
       "111967                   0.00                 0.00   \n",
       "24939                    0.00                 0.00   \n",
       "20729                 2404.43              2404.43   \n",
       "9597                     0.00                 0.00   \n",
       "\n",
       "       LP_NonPrincipalRecoverypayments  PercentFunded  Recommendations  \\\n",
       "113544                             0.0            1.0                0   \n",
       "64580                              0.0            1.0                0   \n",
       "24982                              0.0            1.0                0   \n",
       "113556                             0.0            1.0                0   \n",
       "33380                              0.0            1.0                0   \n",
       "52326                              0.0            1.0                0   \n",
       "111967                             0.0            1.0                0   \n",
       "24939                              0.0            1.0                0   \n",
       "20729                              0.0            1.0                0   \n",
       "9597                               0.0            1.0                0   \n",
       "\n",
       "       InvestmentFromFriendsCount InvestmentFromFriendsAmount Investors  \n",
       "113544                          0                         0.0       198  \n",
       "64580                           0                         0.0        54  \n",
       "24982                           0                         0.0       320  \n",
       "113556                          0                         0.0         1  \n",
       "33380                           0                         0.0         1  \n",
       "52326                           0                         0.0       118  \n",
       "111967                          0                         0.0        20  \n",
       "24939                           0                         0.0        54  \n",
       "20729                           0                         0.0         6  \n",
       "9597                            0                         0.0        81  \n",
       "\n",
       "[10 rows x 81 columns]"
      ]
     },
     "execution_count": 11,
     "metadata": {},
     "output_type": "execute_result"
    }
   ],
   "source": [
    "#Display sample records of the data\n",
    "loan_df.sample(10)"
   ]
  },
  {
   "cell_type": "markdown",
   "metadata": {},
   "source": [
    "**Stated in the Dataset Option** \"You are not expected to explore all of the variables in the dataset! Focus your exploration on about 10-15 of them.\" \n",
    "\n",
    "This is because of the large number of variables present in the dataset. Hence, in this analysis I will focus on some few variables as follow"
   ]
  },
  {
   "cell_type": "code",
   "execution_count": 14,
   "metadata": {},
   "outputs": [],
   "source": [
    "#Extracting the columns that I will explore\n",
    "target_columns =  [\n",
    "    'MemberKey','Term', 'LoanStatus', 'BorrowerRate', 'ListingCategory (numeric)', 'EmploymentStatus',\n",
    "    'StatedMonthlyIncome', 'TotalProsperLoans', 'LoanOriginalAmount',\n",
    "    'Recommendations', 'Investors'\n",
    "]"
   ]
  },
  {
   "cell_type": "code",
   "execution_count": 15,
   "metadata": {},
   "outputs": [],
   "source": [
    "#Creating the dataframe\n",
    "target_df = loan_df[target_columns]"
   ]
  },
  {
   "cell_type": "markdown",
   "metadata": {},
   "source": [
    "Now, I have a new dataframe containing the variables I want to focus on or explore. I will assess it a little using both visual and programmatic ways"
   ]
  },
  {
   "cell_type": "code",
   "execution_count": 16,
   "metadata": {},
   "outputs": [
    {
     "data": {
      "text/plain": [
       "(113937, 11)"
      ]
     },
     "execution_count": 16,
     "metadata": {},
     "output_type": "execute_result"
    }
   ],
   "source": [
    "#Shape of the new dataset. It must have same number of records but the columns/ variables differs from the original dataset.\n",
    "target_df.shape"
   ]
  },
  {
   "cell_type": "markdown",
   "metadata": {},
   "source": [
    "Yes! That's it. The new dataset I am focusing on has 11 variables and same number of record with the original dataset."
   ]
  },
  {
   "cell_type": "code",
   "execution_count": 17,
   "metadata": {},
   "outputs": [
    {
     "data": {
      "text/html": [
       "<div>\n",
       "<style scoped>\n",
       "    .dataframe tbody tr th:only-of-type {\n",
       "        vertical-align: middle;\n",
       "    }\n",
       "\n",
       "    .dataframe tbody tr th {\n",
       "        vertical-align: top;\n",
       "    }\n",
       "\n",
       "    .dataframe thead th {\n",
       "        text-align: right;\n",
       "    }\n",
       "</style>\n",
       "<table border=\"1\" class=\"dataframe\">\n",
       "  <thead>\n",
       "    <tr style=\"text-align: right;\">\n",
       "      <th></th>\n",
       "      <th>MemberKey</th>\n",
       "      <th>Term</th>\n",
       "      <th>LoanStatus</th>\n",
       "      <th>BorrowerRate</th>\n",
       "      <th>ListingCategory (numeric)</th>\n",
       "      <th>EmploymentStatus</th>\n",
       "      <th>StatedMonthlyIncome</th>\n",
       "      <th>TotalProsperLoans</th>\n",
       "      <th>LoanOriginalAmount</th>\n",
       "      <th>Recommendations</th>\n",
       "      <th>Investors</th>\n",
       "    </tr>\n",
       "  </thead>\n",
       "  <tbody>\n",
       "    <tr>\n",
       "      <th>0</th>\n",
       "      <td>1F3E3376408759268057EDA</td>\n",
       "      <td>36</td>\n",
       "      <td>Completed</td>\n",
       "      <td>0.1580</td>\n",
       "      <td>0</td>\n",
       "      <td>Self-employed</td>\n",
       "      <td>3083.333333</td>\n",
       "      <td>NaN</td>\n",
       "      <td>9425</td>\n",
       "      <td>0</td>\n",
       "      <td>258</td>\n",
       "    </tr>\n",
       "    <tr>\n",
       "      <th>1</th>\n",
       "      <td>1D13370546739025387B2F4</td>\n",
       "      <td>36</td>\n",
       "      <td>Current</td>\n",
       "      <td>0.0920</td>\n",
       "      <td>2</td>\n",
       "      <td>Employed</td>\n",
       "      <td>6125.000000</td>\n",
       "      <td>NaN</td>\n",
       "      <td>10000</td>\n",
       "      <td>0</td>\n",
       "      <td>1</td>\n",
       "    </tr>\n",
       "    <tr>\n",
       "      <th>2</th>\n",
       "      <td>5F7033715035555618FA612</td>\n",
       "      <td>36</td>\n",
       "      <td>Completed</td>\n",
       "      <td>0.2750</td>\n",
       "      <td>0</td>\n",
       "      <td>Not available</td>\n",
       "      <td>2083.333333</td>\n",
       "      <td>NaN</td>\n",
       "      <td>3001</td>\n",
       "      <td>0</td>\n",
       "      <td>41</td>\n",
       "    </tr>\n",
       "    <tr>\n",
       "      <th>3</th>\n",
       "      <td>9ADE356069835475068C6D2</td>\n",
       "      <td>36</td>\n",
       "      <td>Current</td>\n",
       "      <td>0.0974</td>\n",
       "      <td>16</td>\n",
       "      <td>Employed</td>\n",
       "      <td>2875.000000</td>\n",
       "      <td>NaN</td>\n",
       "      <td>10000</td>\n",
       "      <td>0</td>\n",
       "      <td>158</td>\n",
       "    </tr>\n",
       "    <tr>\n",
       "      <th>4</th>\n",
       "      <td>36CE356043264555721F06C</td>\n",
       "      <td>36</td>\n",
       "      <td>Current</td>\n",
       "      <td>0.2085</td>\n",
       "      <td>2</td>\n",
       "      <td>Employed</td>\n",
       "      <td>9583.333333</td>\n",
       "      <td>1.0</td>\n",
       "      <td>15000</td>\n",
       "      <td>0</td>\n",
       "      <td>20</td>\n",
       "    </tr>\n",
       "  </tbody>\n",
       "</table>\n",
       "</div>"
      ],
      "text/plain": [
       "                 MemberKey  Term LoanStatus  BorrowerRate  \\\n",
       "0  1F3E3376408759268057EDA    36  Completed        0.1580   \n",
       "1  1D13370546739025387B2F4    36    Current        0.0920   \n",
       "2  5F7033715035555618FA612    36  Completed        0.2750   \n",
       "3  9ADE356069835475068C6D2    36    Current        0.0974   \n",
       "4  36CE356043264555721F06C    36    Current        0.2085   \n",
       "\n",
       "   ListingCategory (numeric) EmploymentStatus  StatedMonthlyIncome  \\\n",
       "0                          0    Self-employed          3083.333333   \n",
       "1                          2         Employed          6125.000000   \n",
       "2                          0    Not available          2083.333333   \n",
       "3                         16         Employed          2875.000000   \n",
       "4                          2         Employed          9583.333333   \n",
       "\n",
       "   TotalProsperLoans  LoanOriginalAmount  Recommendations  Investors  \n",
       "0                NaN                9425                0        258  \n",
       "1                NaN               10000                0          1  \n",
       "2                NaN                3001                0         41  \n",
       "3                NaN               10000                0        158  \n",
       "4                1.0               15000                0         20  "
      ]
     },
     "execution_count": 17,
     "metadata": {},
     "output_type": "execute_result"
    }
   ],
   "source": [
    "#Display the first five records from the dataset\n",
    "target_df.head()"
   ]
  },
  {
   "cell_type": "code",
   "execution_count": 18,
   "metadata": {
    "scrolled": true
   },
   "outputs": [
    {
     "name": "stdout",
     "output_type": "stream",
     "text": [
      "<class 'pandas.core.frame.DataFrame'>\n",
      "RangeIndex: 113937 entries, 0 to 113936\n",
      "Data columns (total 11 columns):\n",
      " #   Column                     Non-Null Count   Dtype  \n",
      "---  ------                     --------------   -----  \n",
      " 0   MemberKey                  113937 non-null  object \n",
      " 1   Term                       113937 non-null  int64  \n",
      " 2   LoanStatus                 113937 non-null  object \n",
      " 3   BorrowerRate               113937 non-null  float64\n",
      " 4   ListingCategory (numeric)  113937 non-null  int64  \n",
      " 5   EmploymentStatus           111682 non-null  object \n",
      " 6   StatedMonthlyIncome        113937 non-null  float64\n",
      " 7   TotalProsperLoans          22085 non-null   float64\n",
      " 8   LoanOriginalAmount         113937 non-null  int64  \n",
      " 9   Recommendations            113937 non-null  int64  \n",
      " 10  Investors                  113937 non-null  int64  \n",
      "dtypes: float64(3), int64(5), object(3)\n",
      "memory usage: 9.6+ MB\n"
     ]
    }
   ],
   "source": [
    "#Show some information about the data\n",
    "target_df.info()"
   ]
  },
  {
   "cell_type": "code",
   "execution_count": 19,
   "metadata": {},
   "outputs": [
    {
     "data": {
      "text/html": [
       "<div>\n",
       "<style scoped>\n",
       "    .dataframe tbody tr th:only-of-type {\n",
       "        vertical-align: middle;\n",
       "    }\n",
       "\n",
       "    .dataframe tbody tr th {\n",
       "        vertical-align: top;\n",
       "    }\n",
       "\n",
       "    .dataframe thead th {\n",
       "        text-align: right;\n",
       "    }\n",
       "</style>\n",
       "<table border=\"1\" class=\"dataframe\">\n",
       "  <thead>\n",
       "    <tr style=\"text-align: right;\">\n",
       "      <th></th>\n",
       "      <th>Term</th>\n",
       "      <th>BorrowerRate</th>\n",
       "      <th>ListingCategory (numeric)</th>\n",
       "      <th>StatedMonthlyIncome</th>\n",
       "      <th>TotalProsperLoans</th>\n",
       "      <th>LoanOriginalAmount</th>\n",
       "      <th>Recommendations</th>\n",
       "      <th>Investors</th>\n",
       "    </tr>\n",
       "  </thead>\n",
       "  <tbody>\n",
       "    <tr>\n",
       "      <th>count</th>\n",
       "      <td>113937.000000</td>\n",
       "      <td>113937.000000</td>\n",
       "      <td>113937.000000</td>\n",
       "      <td>1.139370e+05</td>\n",
       "      <td>22085.000000</td>\n",
       "      <td>113937.00000</td>\n",
       "      <td>113937.000000</td>\n",
       "      <td>113937.000000</td>\n",
       "    </tr>\n",
       "    <tr>\n",
       "      <th>mean</th>\n",
       "      <td>40.830248</td>\n",
       "      <td>0.192764</td>\n",
       "      <td>2.774209</td>\n",
       "      <td>5.608026e+03</td>\n",
       "      <td>1.421100</td>\n",
       "      <td>8337.01385</td>\n",
       "      <td>0.048027</td>\n",
       "      <td>80.475228</td>\n",
       "    </tr>\n",
       "    <tr>\n",
       "      <th>std</th>\n",
       "      <td>10.436212</td>\n",
       "      <td>0.074818</td>\n",
       "      <td>3.996797</td>\n",
       "      <td>7.478497e+03</td>\n",
       "      <td>0.764042</td>\n",
       "      <td>6245.80058</td>\n",
       "      <td>0.332353</td>\n",
       "      <td>103.239020</td>\n",
       "    </tr>\n",
       "    <tr>\n",
       "      <th>min</th>\n",
       "      <td>12.000000</td>\n",
       "      <td>0.000000</td>\n",
       "      <td>0.000000</td>\n",
       "      <td>0.000000e+00</td>\n",
       "      <td>0.000000</td>\n",
       "      <td>1000.00000</td>\n",
       "      <td>0.000000</td>\n",
       "      <td>1.000000</td>\n",
       "    </tr>\n",
       "    <tr>\n",
       "      <th>25%</th>\n",
       "      <td>36.000000</td>\n",
       "      <td>0.134000</td>\n",
       "      <td>1.000000</td>\n",
       "      <td>3.200333e+03</td>\n",
       "      <td>1.000000</td>\n",
       "      <td>4000.00000</td>\n",
       "      <td>0.000000</td>\n",
       "      <td>2.000000</td>\n",
       "    </tr>\n",
       "    <tr>\n",
       "      <th>50%</th>\n",
       "      <td>36.000000</td>\n",
       "      <td>0.184000</td>\n",
       "      <td>1.000000</td>\n",
       "      <td>4.666667e+03</td>\n",
       "      <td>1.000000</td>\n",
       "      <td>6500.00000</td>\n",
       "      <td>0.000000</td>\n",
       "      <td>44.000000</td>\n",
       "    </tr>\n",
       "    <tr>\n",
       "      <th>75%</th>\n",
       "      <td>36.000000</td>\n",
       "      <td>0.250000</td>\n",
       "      <td>3.000000</td>\n",
       "      <td>6.825000e+03</td>\n",
       "      <td>2.000000</td>\n",
       "      <td>12000.00000</td>\n",
       "      <td>0.000000</td>\n",
       "      <td>115.000000</td>\n",
       "    </tr>\n",
       "    <tr>\n",
       "      <th>max</th>\n",
       "      <td>60.000000</td>\n",
       "      <td>0.497500</td>\n",
       "      <td>20.000000</td>\n",
       "      <td>1.750003e+06</td>\n",
       "      <td>8.000000</td>\n",
       "      <td>35000.00000</td>\n",
       "      <td>39.000000</td>\n",
       "      <td>1189.000000</td>\n",
       "    </tr>\n",
       "  </tbody>\n",
       "</table>\n",
       "</div>"
      ],
      "text/plain": [
       "                Term   BorrowerRate  ListingCategory (numeric)  \\\n",
       "count  113937.000000  113937.000000              113937.000000   \n",
       "mean       40.830248       0.192764                   2.774209   \n",
       "std        10.436212       0.074818                   3.996797   \n",
       "min        12.000000       0.000000                   0.000000   \n",
       "25%        36.000000       0.134000                   1.000000   \n",
       "50%        36.000000       0.184000                   1.000000   \n",
       "75%        36.000000       0.250000                   3.000000   \n",
       "max        60.000000       0.497500                  20.000000   \n",
       "\n",
       "       StatedMonthlyIncome  TotalProsperLoans  LoanOriginalAmount  \\\n",
       "count         1.139370e+05       22085.000000        113937.00000   \n",
       "mean          5.608026e+03           1.421100          8337.01385   \n",
       "std           7.478497e+03           0.764042          6245.80058   \n",
       "min           0.000000e+00           0.000000          1000.00000   \n",
       "25%           3.200333e+03           1.000000          4000.00000   \n",
       "50%           4.666667e+03           1.000000          6500.00000   \n",
       "75%           6.825000e+03           2.000000         12000.00000   \n",
       "max           1.750003e+06           8.000000         35000.00000   \n",
       "\n",
       "       Recommendations      Investors  \n",
       "count    113937.000000  113937.000000  \n",
       "mean          0.048027      80.475228  \n",
       "std           0.332353     103.239020  \n",
       "min           0.000000       1.000000  \n",
       "25%           0.000000       2.000000  \n",
       "50%           0.000000      44.000000  \n",
       "75%           0.000000     115.000000  \n",
       "max          39.000000    1189.000000  "
      ]
     },
     "execution_count": 19,
     "metadata": {},
     "output_type": "execute_result"
    }
   ],
   "source": [
    "#Display descriptive statistic of the data\n",
    "target_df.describe()"
   ]
  },
  {
   "cell_type": "markdown",
   "metadata": {},
   "source": [
    "### What is the structure of your dataset?\n",
    "\n",
    "> There are 113,937 records in the dataset with 11 features (MemberKey, Term, LoanStatus, BorrowerRate, ListingCategory (numeric), EmploymentStatus, StatedMonthlyIncome, TotalProsperLoans, LoanOriginalAmount, Recommendations and Investors)\n",
    "\n",
    "### What is/are the main feature(s) of interest in your dataset?\n",
    "\n",
    "> I'm most interested in figuring out What features affect a loan’s outcome. I am also interesed on finding if there are differences between loans depending on how large the original loan amount was.\n",
    "\n",
    "### What features in the dataset do you think will help support your investigation into your feature(s) of interest?\n",
    "\n",
    "> I think the `LoanOriginalAmount` feature in the dataset will support my investigation on finding if there are differences between loans depending on how large the original loan amount was. Furthermore, the `LoanStatus` feature among others will also support my investigation."
   ]
  },
  {
   "cell_type": "markdown",
   "metadata": {},
   "source": [
    "## Univariate Exploration\n",
    "\n",
    "> In this section, I will investigate the distributions of individual variables.\n",
    "\n",
    ">**The framework**: I will use the \"Question --> Visualization --> Observations\" framework  throughout the exploration.\n"
   ]
  },
  {
   "cell_type": "markdown",
   "metadata": {},
   "source": [
    "### What is the Employment status of the borrowers?"
   ]
  },
  {
   "cell_type": "code",
   "execution_count": 20,
   "metadata": {},
   "outputs": [],
   "source": [
    "#This is a color I select from color_palette() method of seaborn to be used on some charts\n",
    "mycolor=sb.color_palette()[3]"
   ]
  },
  {
   "cell_type": "code",
   "execution_count": 21,
   "metadata": {},
   "outputs": [
    {
     "data": {
      "text/plain": [
       "Text(0.5, 1.0, 'Employment Status among the Borrowers')"
      ]
     },
     "execution_count": 21,
     "metadata": {},
     "output_type": "execute_result"
    },
    {
     "data": {
      "image/png": "[encoded data removed]",
      "text/plain": [
       "<Figure size 576x360 with 1 Axes>"
      ]
     },
     "metadata": {
      "needs_background": "light"
     },
     "output_type": "display_data"
    }
   ],
   "source": [
    "# Visualing the employment status of the borrowers using bar chart\n",
    "plt.figure(figsize=[8, 5])\n",
    "sb.countplot(data = target_df, x = 'EmploymentStatus', color = mycolor);\n",
    "plt.xticks(rotation = 90);\n",
    "plt.title('Employment Status among the Borrowers')"
   ]
  },
  {
   "cell_type": "markdown",
   "metadata": {},
   "source": [
    "##### My Observation (s)\n",
    "\n",
    "- Majority of borrowers are Employed\n",
    "- The least number of borrowers fall between the **Not Employed** and **Retired** categories"
   ]
  },
  {
   "cell_type": "markdown",
   "metadata": {},
   "source": [
    "### What is the Loan  status of the borrowers?"
   ]
  },
  {
   "cell_type": "code",
   "execution_count": 22,
   "metadata": {},
   "outputs": [
    {
     "data": {
      "text/plain": [
       "Text(0.5, 1.0, 'Loan Status among the Borrowers')"
      ]
     },
     "execution_count": 22,
     "metadata": {},
     "output_type": "execute_result"
    },
    {
     "data": {
      "image/png": "[encoded data removed]",
      "text/plain": [
       "<Figure size 576x360 with 1 Axes>"
      ]
     },
     "metadata": {
      "needs_background": "light"
     },
     "output_type": "display_data"
    }
   ],
   "source": [
    "# Visualing the loan status of the borrowers using bar chart\n",
    "plt.figure(figsize=[8, 5])\n",
    "sb.countplot(data = target_df, x = 'LoanStatus', color = mycolor);\n",
    "plt.xticks(rotation = 90);\n",
    "plt.title('Loan Status among the Borrowers')"
   ]
  },
  {
   "cell_type": "markdown",
   "metadata": {},
   "source": [
    "##### My Observation (s)\n",
    "\n",
    "- The loan status is mostly **Current**\n",
    "- After **Current** status of the loan, the second frequent Status is **Completed**\n",
    "- The *Past Due* loans are categorized based on how long is the due."
   ]
  },
  {
   "cell_type": "markdown",
   "metadata": {},
   "source": [
    "### How is the Stated Monthly Income of borrowers"
   ]
  },
  {
   "cell_type": "code",
   "execution_count": 23,
   "metadata": {
    "scrolled": true
   },
   "outputs": [
    {
     "data": {
      "text/plain": [
       "Text(0.5, 1.0, 'Stated Monthly Income')"
      ]
     },
     "execution_count": 23,
     "metadata": {},
     "output_type": "execute_result"
    },
    {
     "data": {
      "image/png": "[encoded data removed]",
      "text/plain": [
       "<Figure size 576x360 with 1 Axes>"
      ]
     },
     "metadata": {
      "needs_background": "light"
     },
     "output_type": "display_data"
    }
   ],
   "source": [
    "#In here, I am checking to see the performance of monthly income of the borrowers\n",
    "plt.figure(figsize=[8, 5])\n",
    "plt.hist(data=target_df, x='StatedMonthlyIncome', bins=1000, color = mycolor);\n",
    "plt.xlabel('Income')\n",
    "plt.ylabel('Count')\n",
    "plt.title('Stated Monthly Income')"
   ]
  },
  {
   "cell_type": "markdown",
   "metadata": {},
   "source": [
    "**Opps!** What a skewed chart. This is unusual, the chart is skewed to the right. Hence I will take a deeper look into it to clean things up."
   ]
  },
  {
   "cell_type": "code",
   "execution_count": 24,
   "metadata": {},
   "outputs": [
    {
     "data": {
      "text/plain": [
       "428"
      ]
     },
     "execution_count": 24,
     "metadata": {},
     "output_type": "execute_result"
    }
   ],
   "source": [
    "#Going deep into the feature of the data to find something\n",
    "income_std = target_df['StatedMonthlyIncome'].std() #Standard deviation of the variable\n",
    "income_mean = target_df['StatedMonthlyIncome'].mean() #Mean of the variable\n",
    "boundary = income_mean + income_std * 3               #Setting boundary\n",
    "len(target_df[target_df['StatedMonthlyIncome'] >= boundary]) #Checking the number of observation greater than the boundary"
   ]
  },
  {
   "cell_type": "markdown",
   "metadata": {},
   "source": [
    "##### My Observation (s)\n",
    "\n",
    "- The chart is skewed to the right. And difficult to visualize from the view.\n",
    "- After taken a deeper look into it, I found there are **428 Outliers**"
   ]
  },
  {
   "cell_type": "markdown",
   "metadata": {},
   "source": [
    "### Zooming Stated Monthly Income of borrowers"
   ]
  },
  {
   "cell_type": "code",
   "execution_count": 25,
   "metadata": {},
   "outputs": [
    {
     "data": {
      "image/png": "[encoded data removed]",
      "text/plain": [
       "<Figure size 576x360 with 1 Axes>"
      ]
     },
     "metadata": {
      "needs_background": "light"
     },
     "output_type": "display_data"
    }
   ],
   "source": [
    "#In here, I am checking to see the monthly income of the borrowers\n",
    "plt.figure(figsize=[8, 5])\n",
    "plt.hist(data=target_df, x='StatedMonthlyIncome', bins=1000, color = mycolor);\n",
    "plt.title('Zoomed Stated Monthly Income')\n",
    "plt.xlabel('Income')\n",
    "plt.ylabel('Count')\n",
    "plt.xlim(0, boundary);"
   ]
  },
  {
   "cell_type": "markdown",
   "metadata": {},
   "source": [
    "##### My Observation (s)\n",
    "\n",
    "- After zooming the chart, the chart still has a noticeable skew. Rightly skewed."
   ]
  },
  {
   "cell_type": "markdown",
   "metadata": {},
   "source": [
    "### Whats the performance of the length of the loan in months"
   ]
  },
  {
   "cell_type": "markdown",
   "metadata": {},
   "source": [
    "In this,I will use pie chart to depict the length of loans by term."
   ]
  },
  {
   "cell_type": "code",
   "execution_count": 26,
   "metadata": {},
   "outputs": [
    {
     "data": {
      "text/plain": [
       "36    87778\n",
       "60    24545\n",
       "12     1614\n",
       "Name: Term, dtype: int64"
      ]
     },
     "execution_count": 26,
     "metadata": {},
     "output_type": "execute_result"
    }
   ],
   "source": [
    "# Count the frequency of unique values in the `Term` column of target_df dataframe. \n",
    "# By default, returns the decreasing order of the frequency\n",
    "term_count=target_df.Term.value_counts()\n",
    "term_count"
   ]
  },
  {
   "cell_type": "markdown",
   "metadata": {},
   "source": [
    "**Justification:** Even though a bar chart is usually more versatile and should be a preferred choice for exploring qualitative variables, that's not to say that pie chart should not be used however.  I choose to use the pie chart keeping in mind some guidlines taught in the lessons, making sure that:\n",
    "- Showing how the loan is broken down into parts (terms)\n",
    "- Knowing that the slices are not much, they are in small number (there are only 3 terms)."
   ]
  },
  {
   "cell_type": "code",
   "execution_count": 27,
   "metadata": {
    "scrolled": true
   },
   "outputs": [
    {
     "data": {
      "image/png": "[encoded data removed]",
      "text/plain": [
       "<Figure size 720x360 with 1 Axes>"
      ]
     },
     "metadata": {},
     "output_type": "display_data"
    }
   ],
   "source": [
    "# create a pie plot of the Term\n",
    "#Clockwise\n",
    "plt.figure(figsize=[10, 5])\n",
    "plt.title('Loan Term')\n",
    "plt.pie(term_count, labels = term_count.index, startangle = 90, counterclock = False);"
   ]
  },
  {
   "cell_type": "markdown",
   "metadata": {},
   "source": [
    "##### My Observation (s)\n",
    "\n",
    "- The largest portion of the Pie chart has a term of 3 years (36 months)\n",
    "- The least of the loans' term is 1 year (12 months)"
   ]
  },
  {
   "cell_type": "markdown",
   "metadata": {},
   "source": [
    "### Discuss the distribution(s) of your variable(s) of interest. Were there any unusual points? Did you need to perform any transformations?\n",
    "\n",
    "> Distribution of monthly stated income is very awkward: with a hundreds of outliers and very large range but still it was right skew. The majority of borrowers are employed and all other categories as small part of borrowers and most of the loans in the data set are actually current loans as well.\n",
    "\n",
    "### Of the features you investigated, were there any unusual distributions? Did you perform any operations on the data to tidy, adjust, or change the form of the data? If so, why did you do this?\n",
    "\n",
    "> The majority of loans are actually current loans. Since my main goal is to define driving factors of outcome of loan, I am not interested in any current loans."
   ]
  },
  {
   "cell_type": "markdown",
   "metadata": {},
   "source": [
    "## Bivariate Exploration\n",
    "\n",
    "> In this section, I will investigate relationships between pairs of variables in my data\n",
    "data.\n",
    "\n",
    ">**The framework**: I use the \"Question-Visualization-Observations\" framework  throughout the exploration."
   ]
  },
  {
   "cell_type": "code",
   "execution_count": 28,
   "metadata": {},
   "outputs": [],
   "source": [
    "#Making a copy of my data\n",
    "target_df2=target_df.copy()"
   ]
  },
  {
   "cell_type": "markdown",
   "metadata": {},
   "source": [
    "**Justification:** To make sure my data is not altered for the above already visualized features and findings, I make a copy of the data for better exploring in this section and forward."
   ]
  },
  {
   "cell_type": "code",
   "execution_count": 29,
   "metadata": {},
   "outputs": [
    {
     "data": {
      "text/plain": [
       "(113937, 11)"
      ]
     },
     "execution_count": 29,
     "metadata": {},
     "output_type": "execute_result"
    }
   ],
   "source": [
    "#Displaying the shape of my data\n",
    "target_df2.shape"
   ]
  },
  {
   "cell_type": "code",
   "execution_count": 30,
   "metadata": {},
   "outputs": [
    {
     "data": {
      "text/html": [
       "<div>\n",
       "<style scoped>\n",
       "    .dataframe tbody tr th:only-of-type {\n",
       "        vertical-align: middle;\n",
       "    }\n",
       "\n",
       "    .dataframe tbody tr th {\n",
       "        vertical-align: top;\n",
       "    }\n",
       "\n",
       "    .dataframe thead th {\n",
       "        text-align: right;\n",
       "    }\n",
       "</style>\n",
       "<table border=\"1\" class=\"dataframe\">\n",
       "  <thead>\n",
       "    <tr style=\"text-align: right;\">\n",
       "      <th></th>\n",
       "      <th>MemberKey</th>\n",
       "      <th>Term</th>\n",
       "      <th>LoanStatus</th>\n",
       "      <th>BorrowerRate</th>\n",
       "      <th>ListingCategory (numeric)</th>\n",
       "      <th>EmploymentStatus</th>\n",
       "      <th>StatedMonthlyIncome</th>\n",
       "      <th>TotalProsperLoans</th>\n",
       "      <th>LoanOriginalAmount</th>\n",
       "      <th>Recommendations</th>\n",
       "      <th>Investors</th>\n",
       "    </tr>\n",
       "  </thead>\n",
       "  <tbody>\n",
       "    <tr>\n",
       "      <th>36393</th>\n",
       "      <td>79913365459222117208358</td>\n",
       "      <td>36</td>\n",
       "      <td>Completed</td>\n",
       "      <td>0.0964</td>\n",
       "      <td>0</td>\n",
       "      <td>Full-time</td>\n",
       "      <td>6250.000000</td>\n",
       "      <td>NaN</td>\n",
       "      <td>10000</td>\n",
       "      <td>0</td>\n",
       "      <td>239</td>\n",
       "    </tr>\n",
       "    <tr>\n",
       "      <th>50922</th>\n",
       "      <td>AFD13705339079808882E5D</td>\n",
       "      <td>36</td>\n",
       "      <td>Current</td>\n",
       "      <td>0.2624</td>\n",
       "      <td>2</td>\n",
       "      <td>Employed</td>\n",
       "      <td>4166.666667</td>\n",
       "      <td>NaN</td>\n",
       "      <td>3000</td>\n",
       "      <td>0</td>\n",
       "      <td>1</td>\n",
       "    </tr>\n",
       "    <tr>\n",
       "      <th>5526</th>\n",
       "      <td>3C773696410273511EAEA50</td>\n",
       "      <td>60</td>\n",
       "      <td>Current</td>\n",
       "      <td>0.1730</td>\n",
       "      <td>1</td>\n",
       "      <td>Employed</td>\n",
       "      <td>6250.000000</td>\n",
       "      <td>NaN</td>\n",
       "      <td>10000</td>\n",
       "      <td>0</td>\n",
       "      <td>1</td>\n",
       "    </tr>\n",
       "    <tr>\n",
       "      <th>105841</th>\n",
       "      <td>6B433704801803626E58CF6</td>\n",
       "      <td>36</td>\n",
       "      <td>Current</td>\n",
       "      <td>0.1500</td>\n",
       "      <td>1</td>\n",
       "      <td>Employed</td>\n",
       "      <td>5833.333333</td>\n",
       "      <td>NaN</td>\n",
       "      <td>15000</td>\n",
       "      <td>0</td>\n",
       "      <td>1</td>\n",
       "    </tr>\n",
       "    <tr>\n",
       "      <th>9872</th>\n",
       "      <td>48893704295645572749DEE</td>\n",
       "      <td>60</td>\n",
       "      <td>Current</td>\n",
       "      <td>0.1655</td>\n",
       "      <td>1</td>\n",
       "      <td>Employed</td>\n",
       "      <td>6000.000000</td>\n",
       "      <td>NaN</td>\n",
       "      <td>20000</td>\n",
       "      <td>0</td>\n",
       "      <td>1</td>\n",
       "    </tr>\n",
       "    <tr>\n",
       "      <th>55746</th>\n",
       "      <td>E251352203256975162FE33</td>\n",
       "      <td>60</td>\n",
       "      <td>Current</td>\n",
       "      <td>0.2610</td>\n",
       "      <td>1</td>\n",
       "      <td>Employed</td>\n",
       "      <td>2916.666667</td>\n",
       "      <td>1.0</td>\n",
       "      <td>10000</td>\n",
       "      <td>0</td>\n",
       "      <td>25</td>\n",
       "    </tr>\n",
       "    <tr>\n",
       "      <th>3436</th>\n",
       "      <td>717435112811991725F55A3</td>\n",
       "      <td>36</td>\n",
       "      <td>Completed</td>\n",
       "      <td>0.1414</td>\n",
       "      <td>13</td>\n",
       "      <td>Employed</td>\n",
       "      <td>8583.333333</td>\n",
       "      <td>1.0</td>\n",
       "      <td>10000</td>\n",
       "      <td>0</td>\n",
       "      <td>68</td>\n",
       "    </tr>\n",
       "    <tr>\n",
       "      <th>44216</th>\n",
       "      <td>9AFE3365360500173354F69</td>\n",
       "      <td>36</td>\n",
       "      <td>Defaulted</td>\n",
       "      <td>0.1890</td>\n",
       "      <td>0</td>\n",
       "      <td>Not available</td>\n",
       "      <td>10000.000000</td>\n",
       "      <td>NaN</td>\n",
       "      <td>5000</td>\n",
       "      <td>0</td>\n",
       "      <td>81</td>\n",
       "    </tr>\n",
       "    <tr>\n",
       "      <th>40512</th>\n",
       "      <td>2DD23401227113964AE1453</td>\n",
       "      <td>36</td>\n",
       "      <td>Completed</td>\n",
       "      <td>0.1800</td>\n",
       "      <td>0</td>\n",
       "      <td>Full-time</td>\n",
       "      <td>4333.333333</td>\n",
       "      <td>NaN</td>\n",
       "      <td>3000</td>\n",
       "      <td>0</td>\n",
       "      <td>27</td>\n",
       "    </tr>\n",
       "    <tr>\n",
       "      <th>54839</th>\n",
       "      <td>3708358395795171176FC1C</td>\n",
       "      <td>60</td>\n",
       "      <td>Current</td>\n",
       "      <td>0.2432</td>\n",
       "      <td>1</td>\n",
       "      <td>Employed</td>\n",
       "      <td>4000.000000</td>\n",
       "      <td>NaN</td>\n",
       "      <td>6000</td>\n",
       "      <td>0</td>\n",
       "      <td>1</td>\n",
       "    </tr>\n",
       "    <tr>\n",
       "      <th>84501</th>\n",
       "      <td>EA7F342672381701097D6F2</td>\n",
       "      <td>36</td>\n",
       "      <td>Completed</td>\n",
       "      <td>0.0970</td>\n",
       "      <td>7</td>\n",
       "      <td>Self-employed</td>\n",
       "      <td>6666.666667</td>\n",
       "      <td>NaN</td>\n",
       "      <td>1000</td>\n",
       "      <td>0</td>\n",
       "      <td>37</td>\n",
       "    </tr>\n",
       "    <tr>\n",
       "      <th>38323</th>\n",
       "      <td>69AB3540087347580B7C688</td>\n",
       "      <td>36</td>\n",
       "      <td>Current</td>\n",
       "      <td>0.1449</td>\n",
       "      <td>7</td>\n",
       "      <td>Other</td>\n",
       "      <td>3500.000000</td>\n",
       "      <td>NaN</td>\n",
       "      <td>3500</td>\n",
       "      <td>0</td>\n",
       "      <td>53</td>\n",
       "    </tr>\n",
       "    <tr>\n",
       "      <th>72491</th>\n",
       "      <td>3C45355660548794960D22A</td>\n",
       "      <td>36</td>\n",
       "      <td>Current</td>\n",
       "      <td>0.2324</td>\n",
       "      <td>1</td>\n",
       "      <td>Employed</td>\n",
       "      <td>4250.000000</td>\n",
       "      <td>NaN</td>\n",
       "      <td>2000</td>\n",
       "      <td>0</td>\n",
       "      <td>35</td>\n",
       "    </tr>\n",
       "    <tr>\n",
       "      <th>86320</th>\n",
       "      <td>676535040751813227E4C26</td>\n",
       "      <td>36</td>\n",
       "      <td>Completed</td>\n",
       "      <td>0.2699</td>\n",
       "      <td>3</td>\n",
       "      <td>Self-employed</td>\n",
       "      <td>1250.000000</td>\n",
       "      <td>NaN</td>\n",
       "      <td>10000</td>\n",
       "      <td>0</td>\n",
       "      <td>13</td>\n",
       "    </tr>\n",
       "    <tr>\n",
       "      <th>52472</th>\n",
       "      <td>AF2135850513115300CE7B4</td>\n",
       "      <td>36</td>\n",
       "      <td>Current</td>\n",
       "      <td>0.1774</td>\n",
       "      <td>1</td>\n",
       "      <td>Employed</td>\n",
       "      <td>3833.333333</td>\n",
       "      <td>NaN</td>\n",
       "      <td>9000</td>\n",
       "      <td>0</td>\n",
       "      <td>20</td>\n",
       "    </tr>\n",
       "    <tr>\n",
       "      <th>21659</th>\n",
       "      <td>638E3496173168040FD17E8</td>\n",
       "      <td>36</td>\n",
       "      <td>Current</td>\n",
       "      <td>0.1029</td>\n",
       "      <td>3</td>\n",
       "      <td>Employed</td>\n",
       "      <td>5625.000000</td>\n",
       "      <td>1.0</td>\n",
       "      <td>12000</td>\n",
       "      <td>0</td>\n",
       "      <td>177</td>\n",
       "    </tr>\n",
       "    <tr>\n",
       "      <th>42333</th>\n",
       "      <td>6E5C37000172679041D50E5</td>\n",
       "      <td>36</td>\n",
       "      <td>Completed</td>\n",
       "      <td>0.2850</td>\n",
       "      <td>2</td>\n",
       "      <td>Employed</td>\n",
       "      <td>6250.000000</td>\n",
       "      <td>NaN</td>\n",
       "      <td>3500</td>\n",
       "      <td>0</td>\n",
       "      <td>10</td>\n",
       "    </tr>\n",
       "    <tr>\n",
       "      <th>53286</th>\n",
       "      <td>8A213697156057711F7D216</td>\n",
       "      <td>36</td>\n",
       "      <td>Current</td>\n",
       "      <td>0.3134</td>\n",
       "      <td>7</td>\n",
       "      <td>Employed</td>\n",
       "      <td>6000.000000</td>\n",
       "      <td>NaN</td>\n",
       "      <td>4000</td>\n",
       "      <td>0</td>\n",
       "      <td>1</td>\n",
       "    </tr>\n",
       "    <tr>\n",
       "      <th>10563</th>\n",
       "      <td>B8FA3547787427871F807F1</td>\n",
       "      <td>36</td>\n",
       "      <td>Current</td>\n",
       "      <td>0.1153</td>\n",
       "      <td>2</td>\n",
       "      <td>Employed</td>\n",
       "      <td>2666.666667</td>\n",
       "      <td>1.0</td>\n",
       "      <td>4000</td>\n",
       "      <td>0</td>\n",
       "      <td>59</td>\n",
       "    </tr>\n",
       "    <tr>\n",
       "      <th>66901</th>\n",
       "      <td>D06F3422230425254CFFAC3</td>\n",
       "      <td>36</td>\n",
       "      <td>Completed</td>\n",
       "      <td>0.3300</td>\n",
       "      <td>5</td>\n",
       "      <td>Full-time</td>\n",
       "      <td>2083.333333</td>\n",
       "      <td>NaN</td>\n",
       "      <td>1000</td>\n",
       "      <td>0</td>\n",
       "      <td>25</td>\n",
       "    </tr>\n",
       "  </tbody>\n",
       "</table>\n",
       "</div>"
      ],
      "text/plain": [
       "                      MemberKey  Term LoanStatus  BorrowerRate  \\\n",
       "36393   79913365459222117208358    36  Completed        0.0964   \n",
       "50922   AFD13705339079808882E5D    36    Current        0.2624   \n",
       "5526    3C773696410273511EAEA50    60    Current        0.1730   \n",
       "105841  6B433704801803626E58CF6    36    Current        0.1500   \n",
       "9872    48893704295645572749DEE    60    Current        0.1655   \n",
       "55746   E251352203256975162FE33    60    Current        0.2610   \n",
       "3436    717435112811991725F55A3    36  Completed        0.1414   \n",
       "44216   9AFE3365360500173354F69    36  Defaulted        0.1890   \n",
       "40512   2DD23401227113964AE1453    36  Completed        0.1800   \n",
       "54839   3708358395795171176FC1C    60    Current        0.2432   \n",
       "84501   EA7F342672381701097D6F2    36  Completed        0.0970   \n",
       "38323   69AB3540087347580B7C688    36    Current        0.1449   \n",
       "72491   3C45355660548794960D22A    36    Current        0.2324   \n",
       "86320   676535040751813227E4C26    36  Completed        0.2699   \n",
       "52472   AF2135850513115300CE7B4    36    Current        0.1774   \n",
       "21659   638E3496173168040FD17E8    36    Current        0.1029   \n",
       "42333   6E5C37000172679041D50E5    36  Completed        0.2850   \n",
       "53286   8A213697156057711F7D216    36    Current        0.3134   \n",
       "10563   B8FA3547787427871F807F1    36    Current        0.1153   \n",
       "66901   D06F3422230425254CFFAC3    36  Completed        0.3300   \n",
       "\n",
       "        ListingCategory (numeric) EmploymentStatus  StatedMonthlyIncome  \\\n",
       "36393                           0        Full-time          6250.000000   \n",
       "50922                           2         Employed          4166.666667   \n",
       "5526                            1         Employed          6250.000000   \n",
       "105841                          1         Employed          5833.333333   \n",
       "9872                            1         Employed          6000.000000   \n",
       "55746                           1         Employed          2916.666667   \n",
       "3436                           13         Employed          8583.333333   \n",
       "44216                           0    Not available         10000.000000   \n",
       "40512                           0        Full-time          4333.333333   \n",
       "54839                           1         Employed          4000.000000   \n",
       "84501                           7    Self-employed          6666.666667   \n",
       "38323                           7            Other          3500.000000   \n",
       "72491                           1         Employed          4250.000000   \n",
       "86320                           3    Self-employed          1250.000000   \n",
       "52472                           1         Employed          3833.333333   \n",
       "21659                           3         Employed          5625.000000   \n",
       "42333                           2         Employed          6250.000000   \n",
       "53286                           7         Employed          6000.000000   \n",
       "10563                           2         Employed          2666.666667   \n",
       "66901                           5        Full-time          2083.333333   \n",
       "\n",
       "        TotalProsperLoans  LoanOriginalAmount  Recommendations  Investors  \n",
       "36393                 NaN               10000                0        239  \n",
       "50922                 NaN                3000                0          1  \n",
       "5526                  NaN               10000                0          1  \n",
       "105841                NaN               15000                0          1  \n",
       "9872                  NaN               20000                0          1  \n",
       "55746                 1.0               10000                0         25  \n",
       "3436                  1.0               10000                0         68  \n",
       "44216                 NaN                5000                0         81  \n",
       "40512                 NaN                3000                0         27  \n",
       "54839                 NaN                6000                0          1  \n",
       "84501                 NaN                1000                0         37  \n",
       "38323                 NaN                3500                0         53  \n",
       "72491                 NaN                2000                0         35  \n",
       "86320                 NaN               10000                0         13  \n",
       "52472                 NaN                9000                0         20  \n",
       "21659                 1.0               12000                0        177  \n",
       "42333                 NaN                3500                0         10  \n",
       "53286                 NaN                4000                0          1  \n",
       "10563                 1.0                4000                0         59  \n",
       "66901                 NaN                1000                0         25  "
      ]
     },
     "execution_count": 30,
     "metadata": {},
     "output_type": "execute_result"
    }
   ],
   "source": [
    "#Displaying 20 random sample of my data\n",
    "target_df2.sample(20)"
   ]
  },
  {
   "cell_type": "code",
   "execution_count": 31,
   "metadata": {},
   "outputs": [
    {
     "data": {
      "text/plain": [
       "Completed    38074\n",
       "Defaulted    17010\n",
       "Name: LoanStatus, dtype: int64"
      ]
     },
     "execution_count": 31,
     "metadata": {},
     "output_type": "execute_result"
    }
   ],
   "source": [
    "#Reframing the data structure for proper plotting\n",
    "condition = (target_df2['LoanStatus'] == 'Completed') | (target_df2['LoanStatus'] == 'Defaulted') |\\\n",
    "                  (target_df2['LoanStatus'] == 'Chargedoff')\n",
    "target_df2 = target_df2[condition]\n",
    "\n",
    "def change_to_defaulted(row):\n",
    "    if row['LoanStatus'] == 'Chargedoff':\n",
    "        return 'Defaulted'\n",
    "    else:\n",
    "        return row['LoanStatus']\n",
    "    \n",
    "target_df2['LoanStatus'] = target_df2.apply(change_to_defaulted, axis=1)\n",
    "target_df2['LoanStatus'].value_counts()"
   ]
  },
  {
   "cell_type": "markdown",
   "metadata": {},
   "source": [
    "**NB:** After reframing my dataset I got **38,074** completed loans and **17,010** defaulted loans."
   ]
  },
  {
   "cell_type": "code",
   "execution_count": 32,
   "metadata": {},
   "outputs": [
    {
     "data": {
      "text/plain": [
       "Other                 28177\n",
       "Debt Consolidation    17867\n",
       "Business               4257\n",
       "Home Improvement       3244\n",
       "Auto                   1539\n",
       "Name: ListingCategory (numeric), dtype: int64"
      ]
     },
     "execution_count": 32,
     "metadata": {},
     "output_type": "execute_result"
    }
   ],
   "source": [
    "#Changing ListingCategory feature to Categorical\n",
    "categories = {1: 'Debt Consolidation', 2: 'Home Improvement', 3: 'Business', 6: 'Auto', 7: 'Other'}\n",
    "def reduce_categorie(row):\n",
    "    loan_category = row['ListingCategory (numeric)']\n",
    "    if  loan_category in categories:\n",
    "        return categories[loan_category]\n",
    "    else:\n",
    "        return categories[7]\n",
    "    \n",
    "target_df2['ListingCategory (numeric)'] = target_df2.apply(reduce_categorie, axis=1)\n",
    "target_df2['ListingCategory (numeric)'].value_counts()"
   ]
  },
  {
   "cell_type": "markdown",
   "metadata": {},
   "source": [
    "Variable `Listing Category` is set up as numeric and most of the values have very **low frequency**. to simply visualize the data I have change it to **categorical** and reduce the number of categories. "
   ]
  },
  {
   "cell_type": "markdown",
   "metadata": {},
   "source": [
    "### Whats the relationship between Loan Status and the Total Prosper Loans?"
   ]
  },
  {
   "cell_type": "markdown",
   "metadata": {},
   "source": [
    "My curiosity is all about, *If there is any relationship between the `TotalProsperLoans` and `LoanStatus`*"
   ]
  },
  {
   "cell_type": "code",
   "execution_count": 33,
   "metadata": {
    "scrolled": false
   },
   "outputs": [
    {
     "data": {
      "text/plain": [
       "Text(0.5, 1.0, 'Loan Status Vs Total Prosper Loans')"
      ]
     },
     "execution_count": 33,
     "metadata": {},
     "output_type": "execute_result"
    },
    {
     "data": {
      "image/png": "[encoded data removed]",
      "text/plain": [
       "<Figure size 576x360 with 1 Axes>"
      ]
     },
     "metadata": {
      "needs_background": "light"
     },
     "output_type": "display_data"
    }
   ],
   "source": [
    "plt.figure(figsize = [8, 5])\n",
    "sb.countplot(data = target_df2, x = 'LoanStatus', hue = 'TotalProsperLoans', palette = 'Blues')\n",
    "plt.title('Loan Status Vs Total Prosper Loans')"
   ]
  },
  {
   "cell_type": "markdown",
   "metadata": {},
   "source": [
    "##### My Observation (s)\n",
    "\n",
    "- Borrowers that have least amount of prior loans are the one that completed their loans the most."
   ]
  },
  {
   "cell_type": "markdown",
   "metadata": {},
   "source": [
    "### Whats the relationship between Loan Status and the Listing Category?"
   ]
  },
  {
   "cell_type": "code",
   "execution_count": 34,
   "metadata": {},
   "outputs": [
    {
     "data": {
      "text/plain": [
       "Text(0.5, 1.0, 'Loan Status Vs Listing Category')"
      ]
     },
     "execution_count": 34,
     "metadata": {},
     "output_type": "execute_result"
    },
    {
     "data": {
      "image/png": "[encoded data removed]",
      "text/plain": [
       "<Figure size 576x360 with 1 Axes>"
      ]
     },
     "metadata": {
      "needs_background": "light"
     },
     "output_type": "display_data"
    }
   ],
   "source": [
    "#Plotting the relationship between the two features\n",
    "plt.figure(figsize = [8, 5])\n",
    "sb.countplot(data = target_df2, x = 'LoanStatus', hue = 'ListingCategory (numeric)', palette = 'Blues');\n",
    "plt.title('Loan Status Vs Listing Category')"
   ]
  },
  {
   "cell_type": "markdown",
   "metadata": {},
   "source": [
    "##### My Observation (s)\n",
    "\n",
    "- In both the graphs, **Other** category have the highest frequency\n",
    "- **Dept Consolidation** category is the second frequent in both the graphs"
   ]
  },
  {
   "cell_type": "markdown",
   "metadata": {},
   "source": [
    "### Whats the relationship between Loan Status and the Employment Status?"
   ]
  },
  {
   "cell_type": "code",
   "execution_count": 37,
   "metadata": {},
   "outputs": [
    {
     "data": {
      "text/plain": [
       "Text(0.5, 1.0, 'Loan Status Vs Employment Status')"
      ]
     },
     "execution_count": 37,
     "metadata": {},
     "output_type": "execute_result"
    },
    {
     "data": {
      "image/png": "[encoded data removed]",
      "text/plain": [
       "<Figure size 576x360 with 1 Axes>"
      ]
     },
     "metadata": {
      "needs_background": "light"
     },
     "output_type": "display_data"
    }
   ],
   "source": [
    "#Plotting the relationship between the two features\n",
    "plt.figure(figsize = [8, 5])\n",
    "sb.countplot(data = target_df2, x = 'LoanStatus', hue = 'EmploymentStatus', palette = 'Blues');\n",
    "plt.title('Loan Status Vs Employment Status')"
   ]
  },
  {
   "cell_type": "markdown",
   "metadata": {},
   "source": [
    "##### My Observation (s)\n",
    "\n",
    "- In both the graphs, **Full Time** employment status category have the highest frequency.\n",
    "- Unbelievable! The number of retired borrowers who completed their loans is greater than the number of retired borrowers who didn't completed their loans. "
   ]
  },
  {
   "cell_type": "markdown",
   "metadata": {},
   "source": [
    "### Whats the relationship between Loan Status and the Loan Original Amount?"
   ]
  },
  {
   "cell_type": "code",
   "execution_count": 42,
   "metadata": {
    "scrolled": false
   },
   "outputs": [
    {
     "data": {
      "text/plain": [
       "Text(0.5, 1.0, 'Loan Status Vs Loan Original Amount')"
      ]
     },
     "execution_count": 42,
     "metadata": {},
     "output_type": "execute_result"
    },
    {
     "data": {
      "image/png": "[encoded data removed]",
      "text/plain": [
       "<Figure size 576x360 with 1 Axes>"
      ]
     },
     "metadata": {
      "needs_background": "light"
     },
     "output_type": "display_data"
    }
   ],
   "source": [
    "plt.figure(figsize=[8,5])\n",
    "sb.boxplot(data = target_df2, x = 'LoanStatus', y = 'LoanOriginalAmount', color = mycolor);\n",
    "plt.title('Loan Status Vs Loan Original Amount')"
   ]
  },
  {
   "cell_type": "markdown",
   "metadata": {},
   "source": [
    "##### My Observation (s)\n",
    "\n",
    "- As from Above Graph we can state that `defaulted credits` tend to be having `smaller` loan amount than `completed credits` onces."
   ]
  },
  {
   "cell_type": "markdown",
   "metadata": {},
   "source": [
    "### Whats the relationship between Listing Category and the Employment Status?"
   ]
  },
  {
   "cell_type": "code",
   "execution_count": 43,
   "metadata": {},
   "outputs": [
    {
     "data": {
      "text/plain": [
       "Text(0.5, 1.0, 'Listing Category Vs Employment Status')"
      ]
     },
     "execution_count": 43,
     "metadata": {},
     "output_type": "execute_result"
    },
    {
     "data": {
      "image/png": "[encoded data removed]",
      "text/plain": [
       "<Figure size 864x720 with 1 Axes>"
      ]
     },
     "metadata": {
      "needs_background": "light"
     },
     "output_type": "display_data"
    }
   ],
   "source": [
    "plt.figure(figsize = [12, 10])\n",
    "sb.countplot(data = target_df2, x = 'ListingCategory (numeric)', hue = 'EmploymentStatus', palette = 'Blues');\n",
    "plt.title('Listing Category Vs Employment Status')"
   ]
  },
  {
   "cell_type": "markdown",
   "metadata": {},
   "source": [
    "##### My Observation (s)\n",
    "\n",
    "- Other than the **Other** Listing category which comprises of different Listings the borrower selected, **Debt Consolidation** Listing has the highest frequency of employment status."
   ]
  },
  {
   "cell_type": "markdown",
   "metadata": {},
   "source": [
    "### Talk about some of the relationships you observed in this part of the investigation. How did the feature(s) of interest vary with other features in the dataset?\n",
    "\n",
    "> In Loan status vs Original Loan amount, completed credits tend to be bigger/ greater than defaulted credits onces. Employment status of individuals with lower counts of Listing Category tends to be 'Not employed', 'Retired', 'Not available' or 'Part-time'.\n",
    "\n",
    "### Did you observe any interesting relationships between the other features (not the main feature(s) of interest)?\n",
    "\n",
    "> Borrowers that have no prior loans are the one that completed their loans the most."
   ]
  },
  {
   "cell_type": "markdown",
   "metadata": {},
   "source": [
    "## Multivariate Exploration"
   ]
  },
  {
   "cell_type": "markdown",
   "metadata": {},
   "source": [
    "### Listing Category, Loan Original Amount and the Loan Status\n",
    "> In this, I want to plot the relationship between Loan `Original Amount`, `Listing Category`, and `Loan Status`. "
   ]
  },
  {
   "cell_type": "code",
   "execution_count": 44,
   "metadata": {
    "scrolled": true
   },
   "outputs": [
    {
     "data": {
      "image/png": "[encoded data removed]",
      "text/plain": [
       "<Figure size 864x360 with 1 Axes>"
      ]
     },
     "metadata": {
      "needs_background": "light"
     },
     "output_type": "display_data"
    }
   ],
   "source": [
    "#Listing, Loan Amount and Loan Status\n",
    "plt.figure(figsize = [12, 5])\n",
    "sb.boxplot(data=target_df2, x='ListingCategory (numeric)', y='LoanOriginalAmount', hue='LoanStatus');"
   ]
  },
  {
   "cell_type": "markdown",
   "metadata": {},
   "source": [
    "##### My Observation (s)\n",
    ">I went with a clustered box plot on this task since there were too many levels to make a clustered violin plot accessible. \n",
    "\n",
    "The kind of relationships I spot in this plot:\n",
    "\n",
    "- The plot shows that in almost all the listings of `Listing Category (numeric)`, borrowers with highest `Loan Original Amount` have a status of Completed loan."
   ]
  },
  {
   "cell_type": "markdown",
   "metadata": {},
   "source": [
    "### Employment Status, Loan Original Amount and the Loan Status"
   ]
  },
  {
   "cell_type": "code",
   "execution_count": 45,
   "metadata": {},
   "outputs": [
    {
     "data": {
      "image/png": "[encoded data removed]",
      "text/plain": [
       "<Figure size 1008x576 with 1 Axes>"
      ]
     },
     "metadata": {
      "needs_background": "light"
     },
     "output_type": "display_data"
    }
   ],
   "source": [
    "#employment status, Loan Amount and Loan Status\n",
    "plt.figure(figsize = [14, 8])\n",
    "sb.boxplot(data=target_df2, x='EmploymentStatus', y='LoanOriginalAmount', hue='LoanStatus');"
   ]
  },
  {
   "cell_type": "markdown",
   "metadata": {},
   "source": [
    "##### My Observation (s)\n",
    ">I went with a clustered box plot on this task since there were too many levels to make a clustered violin plot accessible. \n",
    "\n",
    "The kind of relationships I spot in this plot:\n",
    "\n",
    "- The plot shows that, Borrowers with *Employed* status tends Complete their loan despite the Loan Original Amount being the highest."
   ]
  },
  {
   "cell_type": "markdown",
   "metadata": {},
   "source": [
    "### Employment Status, Loan Original Amount and the Loan Status"
   ]
  },
  {
   "cell_type": "code",
   "execution_count": 46,
   "metadata": {},
   "outputs": [
    {
     "data": {
      "image/png": "[encoded data removed]",
      "text/plain": [
       "<Figure size 1008x576 with 1 Axes>"
      ]
     },
     "metadata": {
      "needs_background": "light"
     },
     "output_type": "display_data"
    }
   ],
   "source": [
    "#listing, Loan Amount and Loan Status\n",
    "plt.figure(figsize = [14, 8])\n",
    "sb.violinplot(data=target_df2, x='ListingCategory (numeric)', y='LoanOriginalAmount', hue='LoanStatus');"
   ]
  },
  {
   "cell_type": "markdown",
   "metadata": {},
   "source": [
    "##### My Observation (s)\n",
    "\n",
    "The kind of relationships I spot in this plot:\n",
    "*  Except for Auto, Business and Home Improvement, others have nearly equal mean.\n",
    "*  Business category tend to have larger amount."
   ]
  },
  {
   "cell_type": "markdown",
   "metadata": {},
   "source": [
    "### Employment Status, Loan Original Amount and the Loan Status"
   ]
  },
  {
   "cell_type": "markdown",
   "metadata": {},
   "source": [
    "Before plotting this relationship, I will reframe the data a little to have a well-plotted graphs"
   ]
  },
  {
   "cell_type": "code",
   "execution_count": 47,
   "metadata": {},
   "outputs": [],
   "source": [
    "#Making a copy of the dataset\n",
    "target_dff=target_df2.copy()"
   ]
  },
  {
   "cell_type": "markdown",
   "metadata": {},
   "source": [
    "**Justification:** To make sure my data is not altered for the above already visualized features and findings, I make a copy of the data for better exploring."
   ]
  },
  {
   "cell_type": "code",
   "execution_count": 48,
   "metadata": {},
   "outputs": [
    {
     "data": {
      "text/plain": [
       "FT    24957\n",
       "E     16491\n",
       "NA     5346\n",
       "O      3050\n",
       "SE     2926\n",
       "PT     1056\n",
       "RT      697\n",
       "NE      561\n",
       "Name: EmploymentStatus, dtype: int64"
      ]
     },
     "execution_count": 48,
     "metadata": {},
     "output_type": "execute_result"
    }
   ],
   "source": [
    "#Renaming EmploymentStatus values to fit the chart\n",
    "status = {'Full-time': 'FT', 'Employed': 'E', 'Not available': 'NA', 'Self-employed': 'SE', 'Part-time': 'PT', 'Retired': 'RT','Not employed': 'NE', 'Other': 'O'}\n",
    "def rename_values(row):\n",
    "    status_value = row['EmploymentStatus']\n",
    "    if  status_value in status:\n",
    "        return status[status_value]\n",
    "    else:\n",
    "        return status['Other']\n",
    "    \n",
    "target_dff['EmploymentStatus'] = target_dff.apply(rename_values, axis=1)\n",
    "target_dff['EmploymentStatus'].value_counts()"
   ]
  },
  {
   "cell_type": "code",
   "execution_count": 49,
   "metadata": {
    "scrolled": true
   },
   "outputs": [
    {
     "data": {
      "image/png": "[encoded data removed]",
      "text/plain": [
       "<Figure size 1170.12x720 with 5 Axes>"
      ]
     },
     "metadata": {
      "needs_background": "light"
     },
     "output_type": "display_data"
    }
   ],
   "source": [
    "#Plotting the relationship in grid\n",
    "sb.catplot(x = 'EmploymentStatus', hue = 'LoanStatus', col = 'ListingCategory (numeric)',\n",
    "              data = target_dff, kind = 'count', palette = 'Blues', col_wrap = 3);"
   ]
  },
  {
   "cell_type": "markdown",
   "metadata": {},
   "source": [
    "##### My Observation (s)\n",
    "\n",
    "The kind of relationships I spot in this plot:\n",
    "*  There are 5 graphs, the first and second has much clear representation than others."
   ]
  },
  {
   "cell_type": "markdown",
   "metadata": {},
   "source": [
    "### Talk about some of the relationships you observed in this part of the investigation. Were there features that strengthened each other in terms of looking at your feature(s) of interest?\n",
    "\n",
    "> Our initial assumptions were strengthened. Most of the completed credits has a higher loan amount and majority of the borrowers are employed\n",
    "\n",
    "### Were there any interesting or surprising interactions between features?\n",
    "\n",
    "> Borrowers with low prior loans tends to have completed their credits the most."
   ]
  },
  {
   "cell_type": "markdown",
   "metadata": {},
   "source": [
    "## Conclusions\n",
    ">The majority of borrowers are employed and most of the loans in the data set are actually current loans. Furthermore, borrowers with least prior loans tends to complete their credit the most.\n"
   ]
  }
 ],
 "metadata": {
  "kernelspec": {
   "display_name": "Python 3 (ipykernel)",
   "language": "python",
   "name": "python3"
  },
  "language_info": {
   "codemirror_mode": {
    "name": "ipython",
    "version": 3
   },
   "file_extension": ".py",
   "mimetype": "text/x-python",
   "name": "python",
   "nbconvert_exporter": "python",
   "pygments_lexer": "ipython3",
   "version": "3.9.7"
  }
 },
 "nbformat": 4,
 "nbformat_minor": 2
}
